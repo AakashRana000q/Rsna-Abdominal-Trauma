{
 "cells": [
  {
   "cell_type": "code",
   "execution_count": 1,
   "id": "904d1a7b",
   "metadata": {
    "execution": {
     "iopub.execute_input": "2023-10-04T13:09:32.776122Z",
     "iopub.status.busy": "2023-10-04T13:09:32.775779Z",
     "iopub.status.idle": "2023-10-04T13:09:40.610641Z",
     "shell.execute_reply": "2023-10-04T13:09:40.609691Z"
    },
    "papermill": {
     "duration": 7.843542,
     "end_time": "2023-10-04T13:09:40.612925",
     "exception": false,
     "start_time": "2023-10-04T13:09:32.769383",
     "status": "completed"
    },
    "tags": []
   },
   "outputs": [
    {
     "name": "stderr",
     "output_type": "stream",
     "text": [
      "/opt/conda/lib/python3.10/site-packages/scipy/__init__.py:146: UserWarning: A NumPy version >=1.16.5 and <1.23.0 is required for this version of SciPy (detected version 1.23.5\n",
      "  warnings.warn(f\"A NumPy version >={np_minversion} and <{np_maxversion}\"\n"
     ]
    }
   ],
   "source": [
    "import os\n",
    "import sys\n",
    "import gc\n",
    "import ast\n",
    "import cv2\n",
    "import time\n",
    "import timm\n",
    "import pickle\n",
    "import random\n",
    "import argparse\n",
    "import warnings\n",
    "import numpy as np\n",
    "import pandas as pd\n",
    "from glob import glob\n",
    "from PIL import Image\n",
    "from tqdm import tqdm\n",
    "import albumentations\n",
    "from pylab import rcParams\n",
    "import matplotlib.pyplot as plt\n",
    "from sklearn.model_selection import KFold, StratifiedKFold\n",
    "\n",
    "import torch\n",
    "import torch.nn as nn\n",
    "import torch.optim as optim\n",
    "import torch.cuda.amp as amp\n",
    "import torch.nn.functional as F\n",
    "from torch.utils.data import DataLoader, Dataset\n",
    "\n",
    "device = torch.device('cuda')\n",
    "torch.backends.cudnn.benchmark = True\n"
   ]
  },
  {
   "cell_type": "code",
   "execution_count": 2,
   "id": "463f72aa",
   "metadata": {
    "execution": {
     "iopub.execute_input": "2023-10-04T13:09:40.624455Z",
     "iopub.status.busy": "2023-10-04T13:09:40.623398Z",
     "iopub.status.idle": "2023-10-04T13:09:40.629070Z",
     "shell.execute_reply": "2023-10-04T13:09:40.628270Z"
    },
    "papermill": {
     "duration": 0.012748,
     "end_time": "2023-10-04T13:09:40.630700",
     "exception": false,
     "start_time": "2023-10-04T13:09:40.617952",
     "status": "completed"
    },
    "tags": []
   },
   "outputs": [],
   "source": [
    "image_size = 224\n",
    "n_slice_per_c = 12    # number of slices for each instance\n",
    "in_chans = 3      # number of channels in input to CNN\n",
    "backbone = 'legacy_seresnet50'\n",
    " \n",
    "init_lr = 3e-4\n",
    "eta_min = 3e-5\n",
    "batch_size = 16 \n",
    "drop_rate = 0.2\n",
    "drop_rate_last = 0.3\n",
    "drop_path_rate = 0.\n",
    "p_mixup = 0.5\n",
    "p_rand_order_v1 = 0.2    #probabilty of random arrangement of images\n",
    "\n",
    "data_dir = '../input/rsna-cropped-2d-224-0920-2m/cropped_2d_224_15_ext0_5ch_0920_2m/cropped_2d_224_15_ext0_5ch_0920_2m'\n",
    "use_amp = True\n",
    "num_workers = 2\n",
    "out_dim = 3           # number of output classes\n",
    "\n",
    "n_epochs = 25\n",
    "\n",
    "# log_dir = './logs'\n",
    "# model_dir = './models'\n",
    "# os.makedirs(log_dir, exist_ok=True)\n",
    "# os.makedirs(model_dir, exist_ok=True)"
   ]
  },
  {
   "cell_type": "code",
   "execution_count": 3,
   "id": "defeab8c",
   "metadata": {
    "execution": {
     "iopub.execute_input": "2023-10-04T13:09:40.640736Z",
     "iopub.status.busy": "2023-10-04T13:09:40.640498Z",
     "iopub.status.idle": "2023-10-04T13:09:40.644702Z",
     "shell.execute_reply": "2023-10-04T13:09:40.643861Z"
    },
    "papermill": {
     "duration": 0.011158,
     "end_time": "2023-10-04T13:09:40.646497",
     "exception": false,
     "start_time": "2023-10-04T13:09:40.635339",
     "status": "completed"
    },
    "tags": []
   },
   "outputs": [
    {
     "name": "stdout",
     "output_type": "stream",
     "text": [
      "25\n"
     ]
    }
   ],
   "source": [
    "print(n_epochs)"
   ]
  },
  {
   "cell_type": "code",
   "execution_count": 4,
   "id": "2de1b639",
   "metadata": {
    "execution": {
     "iopub.execute_input": "2023-10-04T13:09:40.656900Z",
     "iopub.status.busy": "2023-10-04T13:09:40.656191Z",
     "iopub.status.idle": "2023-10-04T13:09:40.668429Z",
     "shell.execute_reply": "2023-10-04T13:09:40.667320Z"
    },
    "papermill": {
     "duration": 0.019216,
     "end_time": "2023-10-04T13:09:40.670059",
     "exception": false,
     "start_time": "2023-10-04T13:09:40.650843",
     "status": "completed"
    },
    "tags": []
   },
   "outputs": [
    {
     "name": "stderr",
     "output_type": "stream",
     "text": [
      "/opt/conda/lib/python3.10/site-packages/albumentations/augmentations/transforms.py:1258: FutureWarning: This class has been deprecated. Please use RandomBrightnessContrast\n",
      "  warnings.warn(\n",
      "/opt/conda/lib/python3.10/site-packages/albumentations/augmentations/blur/transforms.py:184: UserWarning: blur_limit and sigma_limit minimum value can not be both equal to 0. blur_limit minimum value changed to 3.\n",
      "  warnings.warn(\n",
      "/opt/conda/lib/python3.10/site-packages/albumentations/augmentations/dropout/cutout.py:49: FutureWarning: Cutout has been deprecated. Please use CoarseDropout\n",
      "  warnings.warn(\n"
     ]
    }
   ],
   "source": [
    "transforms_train = albumentations.Compose([\n",
    "    albumentations.Crop(x_min=0, y_min=56, x_max=400, y_max=456,always_apply=True),\n",
    "    albumentations.Resize(224, 224),\n",
    "    albumentations.HorizontalFlip(p=0.5),\n",
    "    albumentations.VerticalFlip(p=0.5),\n",
    "    albumentations.Transpose(p=0.5),\n",
    "    albumentations.RandomBrightness(limit=0.1, p=0.7),\n",
    "    albumentations.ShiftScaleRotate(shift_limit=0.3, scale_limit=0.3, rotate_limit=45, border_mode=4, p=0.7),\n",
    "\n",
    "    albumentations.OneOf([\n",
    "        albumentations.MotionBlur(blur_limit=3),\n",
    "        albumentations.MedianBlur(blur_limit=3),\n",
    "        albumentations.GaussianBlur(blur_limit=3),\n",
    "        albumentations.GaussNoise(var_limit=(3.0, 9.0)),\n",
    "    ], p=0.5),\n",
    "    albumentations.OneOf([\n",
    "        albumentations.OpticalDistortion(distort_limit=1.),\n",
    "        albumentations.GridDistortion(num_steps=5, distort_limit=1.),\n",
    "    ], p=0.5),\n",
    "\n",
    "    albumentations.Cutout(max_h_size=int(224 * 0.5), max_w_size=int(224 * 0.5), num_holes=1, p=0.5),\n",
    "])\n",
    "\n",
    "transforms_valid = albumentations.Compose([\n",
    "    albumentations.Crop(x_min=0, y_min=56, x_max=400, y_max=456,always_apply=True),\n",
    "    albumentations.Resize(224, 224),\n",
    "])\n"
   ]
  },
  {
   "cell_type": "code",
   "execution_count": 5,
   "id": "e420a863",
   "metadata": {
    "execution": {
     "iopub.execute_input": "2023-10-04T13:09:40.680851Z",
     "iopub.status.busy": "2023-10-04T13:09:40.680230Z",
     "iopub.status.idle": "2023-10-04T13:09:40.886547Z",
     "shell.execute_reply": "2023-10-04T13:09:40.885572Z"
    },
    "papermill": {
     "duration": 0.213798,
     "end_time": "2023-10-04T13:09:40.888649",
     "exception": false,
     "start_time": "2023-10-04T13:09:40.674851",
     "status": "completed"
    },
    "tags": []
   },
   "outputs": [],
   "source": [
    "train_df = pd.read_csv('/kaggle/input/rsna-2023-abdominal-trauma-detection/train.csv')\n",
    "with open('/kaggle/input/liver-train-images/conv_range.pkl', 'rb') as f:\n",
    "    conv_range = pickle.load(f)"
   ]
  },
  {
   "cell_type": "code",
   "execution_count": 6,
   "id": "899a278a",
   "metadata": {
    "execution": {
     "iopub.execute_input": "2023-10-04T13:09:40.899418Z",
     "iopub.status.busy": "2023-10-04T13:09:40.899141Z",
     "iopub.status.idle": "2023-10-04T13:09:43.924736Z",
     "shell.execute_reply": "2023-10-04T13:09:43.923741Z"
    },
    "papermill": {
     "duration": 3.032916,
     "end_time": "2023-10-04T13:09:43.926483",
     "exception": false,
     "start_time": "2023-10-04T13:09:40.893567",
     "status": "completed"
    },
    "tags": []
   },
   "outputs": [
    {
     "name": "stderr",
     "output_type": "stream",
     "text": [
      "100%|██████████| 2717/2717 [00:03<00:00, 902.32it/s]\n"
     ]
    }
   ],
   "source": [
    "train_df['liver_det'] = False\n",
    "for item in tqdm(conv_range):\n",
    "    train_df.loc[train_df['patient_id']==int(item),['liver_det']] = True"
   ]
  },
  {
   "cell_type": "code",
   "execution_count": 7,
   "id": "27031099",
   "metadata": {
    "execution": {
     "iopub.execute_input": "2023-10-04T13:09:43.940404Z",
     "iopub.status.busy": "2023-10-04T13:09:43.940132Z",
     "iopub.status.idle": "2023-10-04T13:09:43.946781Z",
     "shell.execute_reply": "2023-10-04T13:09:43.945919Z"
    },
    "papermill": {
     "duration": 0.015834,
     "end_time": "2023-10-04T13:09:43.948451",
     "exception": false,
     "start_time": "2023-10-04T13:09:43.932617",
     "status": "completed"
    },
    "tags": []
   },
   "outputs": [],
   "source": [
    "train_df = train_df[train_df['liver_det']==True]"
   ]
  },
  {
   "cell_type": "code",
   "execution_count": 8,
   "id": "fec643e5",
   "metadata": {
    "execution": {
     "iopub.execute_input": "2023-10-04T13:09:43.961339Z",
     "iopub.status.busy": "2023-10-04T13:09:43.960978Z",
     "iopub.status.idle": "2023-10-04T13:09:43.966644Z",
     "shell.execute_reply": "2023-10-04T13:09:43.965724Z"
    },
    "papermill": {
     "duration": 0.013921,
     "end_time": "2023-10-04T13:09:43.968307",
     "exception": false,
     "start_time": "2023-10-04T13:09:43.954386",
     "status": "completed"
    },
    "tags": []
   },
   "outputs": [],
   "source": [
    "train_df1 = train_df[train_df['liver_healthy'] == 0][:250]\n",
    "test_df1 = train_df[train_df['liver_healthy'] == 0][250:]"
   ]
  },
  {
   "cell_type": "code",
   "execution_count": 9,
   "id": "6a674c2e",
   "metadata": {
    "execution": {
     "iopub.execute_input": "2023-10-04T13:09:43.981397Z",
     "iopub.status.busy": "2023-10-04T13:09:43.980686Z",
     "iopub.status.idle": "2023-10-04T13:09:43.986968Z",
     "shell.execute_reply": "2023-10-04T13:09:43.986172Z"
    },
    "papermill": {
     "duration": 0.014477,
     "end_time": "2023-10-04T13:09:43.988646",
     "exception": false,
     "start_time": "2023-10-04T13:09:43.974169",
     "status": "completed"
    },
    "tags": []
   },
   "outputs": [],
   "source": [
    "train_df2 = train_df[train_df['liver_healthy'] == 1][:750]\n",
    "test_df2 = train_df[train_df['liver_healthy'] == 1][750:900]"
   ]
  },
  {
   "cell_type": "code",
   "execution_count": 10,
   "id": "d478e027",
   "metadata": {
    "execution": {
     "iopub.execute_input": "2023-10-04T13:09:44.001621Z",
     "iopub.status.busy": "2023-10-04T13:09:44.001395Z",
     "iopub.status.idle": "2023-10-04T13:09:44.007915Z",
     "shell.execute_reply": "2023-10-04T13:09:44.007129Z"
    },
    "papermill": {
     "duration": 0.015083,
     "end_time": "2023-10-04T13:09:44.009614",
     "exception": false,
     "start_time": "2023-10-04T13:09:43.994531",
     "status": "completed"
    },
    "tags": []
   },
   "outputs": [],
   "source": [
    "train_df = pd.concat([train_df1,train_df2])\n",
    "valid_df = pd.concat([test_df1,test_df2])"
   ]
  },
  {
   "cell_type": "code",
   "execution_count": 11,
   "id": "e6e9edbb",
   "metadata": {
    "execution": {
     "iopub.execute_input": "2023-10-04T13:09:44.022264Z",
     "iopub.status.busy": "2023-10-04T13:09:44.022031Z",
     "iopub.status.idle": "2023-10-04T13:09:44.028517Z",
     "shell.execute_reply": "2023-10-04T13:09:44.027397Z"
    },
    "papermill": {
     "duration": 0.014771,
     "end_time": "2023-10-04T13:09:44.030200",
     "exception": false,
     "start_time": "2023-10-04T13:09:44.015429",
     "status": "completed"
    },
    "tags": []
   },
   "outputs": [],
   "source": [
    "valid_df = valid_df.drop([1017])"
   ]
  },
  {
   "cell_type": "code",
   "execution_count": 12,
   "id": "877cbe96",
   "metadata": {
    "execution": {
     "iopub.execute_input": "2023-10-04T13:09:44.043294Z",
     "iopub.status.busy": "2023-10-04T13:09:44.042709Z",
     "iopub.status.idle": "2023-10-04T13:09:44.298926Z",
     "shell.execute_reply": "2023-10-04T13:09:44.297922Z"
    },
    "papermill": {
     "duration": 0.264492,
     "end_time": "2023-10-04T13:09:44.300691",
     "exception": false,
     "start_time": "2023-10-04T13:09:44.036199",
     "status": "completed"
    },
    "tags": []
   },
   "outputs": [
    {
     "name": "stderr",
     "output_type": "stream",
     "text": [
      "100%|██████████| 2717/2717 [00:00<00:00, 55130.81it/s]\n"
     ]
    }
   ],
   "source": [
    "train_dict= {}\n",
    "for name in tqdm(os.listdir('/kaggle/input/liver-train-images/output/')):\n",
    "    paths = [f'/kaggle/input/liver-train-images/output/{name}/{item}.png' for item in range(0, 60)]\n",
    "    train_dict[int(name)] = paths"
   ]
  },
  {
   "cell_type": "code",
   "execution_count": 13,
   "id": "7d42e0c6",
   "metadata": {
    "execution": {
     "iopub.execute_input": "2023-10-04T13:09:44.314216Z",
     "iopub.status.busy": "2023-10-04T13:09:44.313947Z",
     "iopub.status.idle": "2023-10-04T13:09:44.318476Z",
     "shell.execute_reply": "2023-10-04T13:09:44.317548Z"
    },
    "papermill": {
     "duration": 0.013138,
     "end_time": "2023-10-04T13:09:44.320079",
     "exception": false,
     "start_time": "2023-10-04T13:09:44.306941",
     "status": "completed"
    },
    "tags": []
   },
   "outputs": [],
   "source": [
    "def select_elements_with_spacing(input_list):\n",
    "    \n",
    "    selected_indices = []\n",
    "        \n",
    "    selected_indices = [i for i in range(2,58,5)]\n",
    "    \n",
    "    selected_elements = [input_list[index] for index in selected_indices]\n",
    "    \n",
    "    return selected_elements\n"
   ]
  },
  {
   "cell_type": "code",
   "execution_count": 14,
   "id": "766f83dc",
   "metadata": {
    "execution": {
     "iopub.execute_input": "2023-10-04T13:09:44.333259Z",
     "iopub.status.busy": "2023-10-04T13:09:44.332741Z",
     "iopub.status.idle": "2023-10-04T13:09:44.337526Z",
     "shell.execute_reply": "2023-10-04T13:09:44.336740Z"
    },
    "papermill": {
     "duration": 0.013067,
     "end_time": "2023-10-04T13:09:44.339165",
     "exception": false,
     "start_time": "2023-10-04T13:09:44.326098",
     "status": "completed"
    },
    "tags": []
   },
   "outputs": [],
   "source": [
    "def preprocess_jpeg(jpeg_path):\n",
    "    \n",
    "    img = cv2.imread(jpeg_path)\n",
    "    greyscale = cv2.cvtColor(img, cv2.COLOR_BGR2GRAY)\n",
    "    \n",
    "    return greyscale\n"
   ]
  },
  {
   "cell_type": "code",
   "execution_count": 15,
   "id": "b4eafcb6",
   "metadata": {
    "execution": {
     "iopub.execute_input": "2023-10-04T13:09:44.352773Z",
     "iopub.status.busy": "2023-10-04T13:09:44.352070Z",
     "iopub.status.idle": "2023-10-04T13:09:44.439562Z",
     "shell.execute_reply": "2023-10-04T13:09:44.438551Z"
    },
    "papermill": {
     "duration": 0.095922,
     "end_time": "2023-10-04T13:09:44.441368",
     "exception": false,
     "start_time": "2023-10-04T13:09:44.345446",
     "status": "completed"
    },
    "tags": []
   },
   "outputs": [
    {
     "data": {
      "text/plain": [
       "(224, 224, 3)"
      ]
     },
     "execution_count": 15,
     "metadata": {},
     "output_type": "execute_result"
    }
   ],
   "source": [
    "img1 = preprocess_jpeg(f'/kaggle/input/liver-train-images/output/10004/0.png')\n",
    "img2 = preprocess_jpeg(f'/kaggle/input/liver-train-images/output/10004/1.png')\n",
    "img3 = preprocess_jpeg(f'/kaggle/input/liver-train-images/output/10004/2.png')\n",
    "image = np.asarray([img1,img2,img3]).transpose(1, 2, 0)\n",
    "img = transforms_train(image=image)['image']\n",
    "img.shape"
   ]
  },
  {
   "cell_type": "code",
   "execution_count": 16,
   "id": "b5834a8f",
   "metadata": {
    "execution": {
     "iopub.execute_input": "2023-10-04T13:09:44.455186Z",
     "iopub.status.busy": "2023-10-04T13:09:44.454474Z",
     "iopub.status.idle": "2023-10-04T13:09:44.463490Z",
     "shell.execute_reply": "2023-10-04T13:09:44.462683Z"
    },
    "papermill": {
     "duration": 0.017605,
     "end_time": "2023-10-04T13:09:44.465132",
     "exception": false,
     "start_time": "2023-10-04T13:09:44.447527",
     "status": "completed"
    },
    "tags": []
   },
   "outputs": [],
   "source": [
    "class CLSDataset(Dataset):\n",
    "    def __init__(self, df, mode, transform):\n",
    "\n",
    "        self.df = df.reset_index(drop=True)\n",
    "        self.mode = mode\n",
    "        self.transform = transform\n",
    "\n",
    "    def __len__(self):\n",
    "        return self.df.shape[0]\n",
    "\n",
    "    def __getitem__(self, index):\n",
    "#         row = self.df.iloc[index]\n",
    "#         cid = row.c\n",
    "        patient_id = self.df['patient_id'][index]\n",
    "        images = []\n",
    "        for ind in list(range(2,58,5)):\n",
    "            img1 = preprocess_jpeg(f'/kaggle/input/liver-train-images/output/{patient_id}/{ind-1}.png')\n",
    "            img2 = preprocess_jpeg(f'/kaggle/input/liver-train-images/output/{patient_id}/{ind}.png')\n",
    "            img3 = preprocess_jpeg(f'/kaggle/input/liver-train-images/output/{patient_id}/{ind+1}.png')\n",
    "            image = np.asarray([img1,img2,img3]).transpose(1, 2, 0)\n",
    "            image = self.transform(image=image)['image']\n",
    "            image = image.transpose(2, 0, 1).astype(np.float32) / 255.\n",
    "            images.append(image)\n",
    "        images = np.stack(images, 0)\n",
    "#         print(images.shape)\n",
    "        \n",
    "        label = self.df[self.df.patient_id == int(patient_id)].values[0][1:-1]\n",
    "        liver = np.argmax(label[7:10], keepdims = False)\n",
    "\n",
    "        if self.mode != 'test':\n",
    "            images = torch.tensor(images).float()\n",
    "#             labels = torch.tensor([liver] * n_slice_per_c).float()\n",
    "            labels = torch.tensor([liver] * n_slice_per_c)\n",
    "            \n",
    "            if self.mode == 'train' and random.random() < p_rand_order_v1:\n",
    "                indices = torch.randperm(images.size(0))\n",
    "                images = images[indices]\n",
    "\n",
    "            return images, labels\n",
    "        else:\n",
    "            return torch.tensor(images).float()\n"
   ]
  },
  {
   "cell_type": "markdown",
   "id": "36289f0a",
   "metadata": {
    "execution": {
     "iopub.execute_input": "2023-09-30T17:28:01.19621Z",
     "iopub.status.busy": "2023-09-30T17:28:01.195466Z",
     "iopub.status.idle": "2023-09-30T17:28:01.618783Z",
     "shell.execute_reply": "2023-09-30T17:28:01.61817Z",
     "shell.execute_reply.started": "2023-09-30T17:28:01.196181Z"
    },
    "jupyter": {
     "outputs_hidden": true
    },
    "papermill": {
     "duration": 0.005768,
     "end_time": "2023-10-04T13:09:44.476841",
     "exception": false,
     "start_time": "2023-10-04T13:09:44.471073",
     "status": "completed"
    },
    "tags": []
   },
   "source": [
    "m = timm.create_model(\n",
    "            \"resnet50d\",\n",
    "            in_chans=in_chans,\n",
    "            num_classes=out_dim,\n",
    "            features_only=False,\n",
    "            drop_rate=drop_rate,\n",
    "            drop_path_rate=drop_path_rate,\n",
    "            pretrained=False\n",
    "        )\n",
    "m"
   ]
  },
  {
   "cell_type": "markdown",
   "id": "fe0b6f00",
   "metadata": {
    "execution": {
     "iopub.execute_input": "2023-09-30T17:28:11.595054Z",
     "iopub.status.busy": "2023-09-30T17:28:11.5946Z",
     "iopub.status.idle": "2023-09-30T17:28:12.008734Z",
     "shell.execute_reply": "2023-09-30T17:28:12.007714Z",
     "shell.execute_reply.started": "2023-09-30T17:28:11.595018Z"
    },
    "jupyter": {
     "outputs_hidden": true
    },
    "papermill": {
     "duration": 0.005773,
     "end_time": "2023-10-04T13:09:44.488639",
     "exception": false,
     "start_time": "2023-10-04T13:09:44.482866",
     "status": "completed"
    },
    "tags": []
   },
   "source": [
    "m = timm.create_model(\n",
    "            backbone,\n",
    "            in_chans=in_chans,\n",
    "            num_classes=out_dim,\n",
    "            features_only=False,\n",
    "            drop_rate=drop_rate,\n",
    "            drop_path_rate=drop_path_rate,\n",
    "            pretrained=False\n",
    "        )\n",
    "m"
   ]
  },
  {
   "cell_type": "markdown",
   "id": "bcd6435d",
   "metadata": {
    "execution": {
     "iopub.execute_input": "2023-10-03T10:57:32.290253Z",
     "iopub.status.busy": "2023-10-03T10:57:32.289930Z",
     "iopub.status.idle": "2023-10-03T10:57:32.770257Z",
     "shell.execute_reply": "2023-10-03T10:57:32.769383Z",
     "shell.execute_reply.started": "2023-10-03T10:57:32.290225Z"
    },
    "jupyter": {
     "outputs_hidden": true
    },
    "papermill": {
     "duration": 0.005995,
     "end_time": "2023-10-04T13:09:44.500567",
     "exception": false,
     "start_time": "2023-10-04T13:09:44.494572",
     "status": "completed"
    },
    "tags": []
   },
   "source": [
    "m = timm.create_model(\n",
    "            \"legacy_seresnet50\",\n",
    "            in_chans=in_chans,\n",
    "            num_classes=out_dim,\n",
    "            features_only=False,\n",
    "            drop_rate=drop_rate,\n",
    "            pretrained=False\n",
    "        )\n",
    "m"
   ]
  },
  {
   "cell_type": "code",
   "execution_count": 17,
   "id": "f5567823",
   "metadata": {
    "execution": {
     "iopub.execute_input": "2023-10-04T13:09:44.514018Z",
     "iopub.status.busy": "2023-10-04T13:09:44.513241Z",
     "iopub.status.idle": "2023-10-04T13:09:44.521258Z",
     "shell.execute_reply": "2023-10-04T13:09:44.520489Z"
    },
    "papermill": {
     "duration": 0.016338,
     "end_time": "2023-10-04T13:09:44.522865",
     "exception": false,
     "start_time": "2023-10-04T13:09:44.506527",
     "status": "completed"
    },
    "tags": []
   },
   "outputs": [],
   "source": [
    "class TimmModel(nn.Module):\n",
    "    def __init__(self, backbone, pretrained=False):\n",
    "        super(TimmModel, self).__init__()\n",
    "\n",
    "        self.encoder = timm.create_model(\n",
    "            backbone,\n",
    "            in_chans=in_chans,\n",
    "            num_classes=out_dim,\n",
    "            features_only=False,\n",
    "            drop_rate=drop_rate,\n",
    "            pretrained=pretrained\n",
    "        )\n",
    "        \n",
    "        \n",
    "        if 'efficient' in backbone:\n",
    "            hdim = self.encoder.conv_head.out_channels\n",
    "            self.encoder.classifier = nn.Identity()\n",
    "        elif 'resnet' in backbone:\n",
    "            hdim = 2048\n",
    "            self.encoder.last_linear = nn.Identity()\n",
    "        elif 'convnext' in backbone:\n",
    "            hdim = self.encoder.head.fc.in_features\n",
    "            self.encoder.head.fc = nn.Identity()\n",
    "        self.lstm = nn.LSTM(hdim, 256, num_layers=2, dropout=drop_rate, bidirectional=True, batch_first=True)\n",
    "        self.head = nn.Sequential(\n",
    "            nn.Linear(512, 256),\n",
    "            nn.BatchNorm1d(256),\n",
    "            nn.Dropout(drop_rate_last),\n",
    "            nn.LeakyReLU(0.1),\n",
    "            nn.Linear(256, out_dim),\n",
    "        )\n",
    "    def forward(self, x):  # (bs, nslice, ch, sz, sz)\n",
    "        bs = x.shape[0]\n",
    "        x = x.view(bs * n_slice_per_c, in_chans, image_size, image_size)\n",
    "        feat = self.encoder(x)\n",
    "        feat = feat.view(bs, n_slice_per_c, -1)\n",
    "        feat, _ = self.lstm(feat)\n",
    "        feat = feat.contiguous().view(bs * n_slice_per_c, -1)\n",
    "        feat = self.head(feat)\n",
    "        feat = feat.view(bs, n_slice_per_c,-1).contiguous()\n",
    "\n",
    "        return feat"
   ]
  },
  {
   "cell_type": "code",
   "execution_count": 18,
   "id": "e7017cf6",
   "metadata": {
    "execution": {
     "iopub.execute_input": "2023-10-04T13:09:44.536073Z",
     "iopub.status.busy": "2023-10-04T13:09:44.535488Z",
     "iopub.status.idle": "2023-10-04T13:09:51.228270Z",
     "shell.execute_reply": "2023-10-04T13:09:51.227235Z"
    },
    "papermill": {
     "duration": 6.701199,
     "end_time": "2023-10-04T13:09:51.230047",
     "exception": false,
     "start_time": "2023-10-04T13:09:44.528848",
     "status": "completed"
    },
    "tags": []
   },
   "outputs": [
    {
     "data": {
      "text/plain": [
       "torch.Size([2, 12, 3])"
      ]
     },
     "execution_count": 18,
     "metadata": {},
     "output_type": "execute_result"
    }
   ],
   "source": [
    "m = TimmModel(backbone)\n",
    "out = m(torch.rand(2, n_slice_per_c, in_chans, image_size, image_size))\n",
    "out.shape"
   ]
  },
  {
   "cell_type": "code",
   "execution_count": 19,
   "id": "469dd62d",
   "metadata": {
    "execution": {
     "iopub.execute_input": "2023-10-04T13:09:51.243838Z",
     "iopub.status.busy": "2023-10-04T13:09:51.243582Z",
     "iopub.status.idle": "2023-10-04T13:09:54.337158Z",
     "shell.execute_reply": "2023-10-04T13:09:54.336184Z"
    },
    "papermill": {
     "duration": 3.102926,
     "end_time": "2023-10-04T13:09:54.339343",
     "exception": false,
     "start_time": "2023-10-04T13:09:51.236417",
     "status": "completed"
    },
    "tags": []
   },
   "outputs": [],
   "source": [
    "# bce = nn.BCEWithLogitsLoss(reduction='none')\n",
    "cce = nn.CrossEntropyLoss(label_smoothing = 0.05, weight = torch.tensor([1.0, 2.0, 4.0]).to('cuda'))\n",
    "\n",
    "\n",
    "def criterion(logits, targets, activated=False):\n",
    "    if activated:\n",
    "        losses = nn.BCELoss(reduction='none')(logits.view(-1), targets.view(-1))\n",
    "    else:\n",
    "        losses = cce(logits.view(-1,3), targets.view(-1))\n",
    "#     losses[targets.view(-1) > 0] *= 2.\n",
    "#     norm = torch.ones(logits.view(-1).shape[0]).to(device)\n",
    "#     norm[targets.view(-1) > 0] *= 2\n",
    "    return losses\n"
   ]
  },
  {
   "cell_type": "code",
   "execution_count": 20,
   "id": "df68be59",
   "metadata": {
    "execution": {
     "iopub.execute_input": "2023-10-04T13:09:54.353538Z",
     "iopub.status.busy": "2023-10-04T13:09:54.353261Z",
     "iopub.status.idle": "2023-10-04T13:09:54.363119Z",
     "shell.execute_reply": "2023-10-04T13:09:54.362301Z"
    },
    "papermill": {
     "duration": 0.018931,
     "end_time": "2023-10-04T13:09:54.364803",
     "exception": false,
     "start_time": "2023-10-04T13:09:54.345872",
     "status": "completed"
    },
    "tags": []
   },
   "outputs": [],
   "source": [
    "def mixup(input, truth, clip=[0, 1]):\n",
    "    indices = torch.randperm(input.size(0))\n",
    "    shuffled_input = input[indices]\n",
    "    shuffled_labels = truth[indices]\n",
    "\n",
    "    lam = np.random.uniform(clip[0], clip[1])\n",
    "    input = input * lam + shuffled_input * (1 - lam)\n",
    "    return input, truth, shuffled_labels, lam\n",
    "def train_func(model, loader_train, optimizer, scaler=None):\n",
    "    model.train()\n",
    "    train_loss = []\n",
    "    bar = tqdm(loader_train)\n",
    "    for images, targets in bar:\n",
    "        optimizer.zero_grad()\n",
    "        images = images.cuda()\n",
    "        targets = targets.cuda()\n",
    "        \n",
    "        do_mixup = False\n",
    "        if random.random() < p_mixup:\n",
    "            do_mixup = True\n",
    "            images, targets, targets_mix, lam = mixup(images, targets)\n",
    "\n",
    "        with amp.autocast():\n",
    "            logits = model(images)\n",
    "            loss = criterion(logits, targets)\n",
    "            if do_mixup:\n",
    "                loss11 = criterion(logits, targets_mix)\n",
    "                loss = loss * lam  + loss11 * (1 - lam)\n",
    "        train_loss.append(loss.item())\n",
    "        scaler.scale(loss).backward()\n",
    "        scaler.step(optimizer)\n",
    "        scaler.update()\n",
    "        \n",
    "        bar.set_description(f'smth:{np.mean(train_loss[-30:]):.4f}')\n",
    "\n",
    "    return np.mean(train_loss)\n",
    "\n",
    "def valid_func(model, loader_valid):\n",
    "    model.eval()\n",
    "    valid_loss = []\n",
    "    gts = []\n",
    "    outputs = []\n",
    "    bar = tqdm(loader_valid)\n",
    "    tot_loss = 0\n",
    "    with torch.no_grad():\n",
    "        for images, targets in bar:\n",
    "            images = images.cuda()\n",
    "            targets = targets.cuda()\n",
    "\n",
    "            logits = model(images)\n",
    "            loss = criterion(logits, targets)\n",
    "            \n",
    "            gts.append(targets.cpu())\n",
    "            outputs.append(logits.cpu())\n",
    "            valid_loss.append(loss.item())\n",
    "            tot_loss += loss.item()\n",
    "            \n",
    "            bar.set_description(f'smth:{np.mean(valid_loss[-30:]):.4f}')\n",
    "\n",
    "    outputs = torch.cat(outputs)\n",
    "    gts = torch.cat(gts)\n",
    "#     valid_loss = criterion(outputs, gts).item()\n",
    "\n",
    "    return np.mean(valid_loss)"
   ]
  },
  {
   "cell_type": "code",
   "execution_count": 21,
   "id": "1d593d32",
   "metadata": {
    "execution": {
     "iopub.execute_input": "2023-10-04T13:09:54.378508Z",
     "iopub.status.busy": "2023-10-04T13:09:54.377874Z",
     "iopub.status.idle": "2023-10-04T13:09:54.611225Z",
     "shell.execute_reply": "2023-10-04T13:09:54.610371Z"
    },
    "papermill": {
     "duration": 0.242,
     "end_time": "2023-10-04T13:09:54.613025",
     "exception": false,
     "start_time": "2023-10-04T13:09:54.371025",
     "status": "completed"
    },
    "tags": []
   },
   "outputs": [
    {
     "name": "stderr",
     "output_type": "stream",
     "text": [
      "/opt/conda/lib/python3.10/site-packages/torch/optim/lr_scheduler.py:139: UserWarning: Detected call of `lr_scheduler.step()` before `optimizer.step()`. In PyTorch 1.1.0 and later, you should call them in the opposite order: `optimizer.step()` before `lr_scheduler.step()`.  Failure to do this will result in PyTorch skipping the first value of the learning rate schedule. See more details at https://pytorch.org/docs/stable/optim.html#how-to-adjust-learning-rate\n",
      "  warnings.warn(\"Detected call of `lr_scheduler.step()` before `optimizer.step()`. \"\n",
      "/opt/conda/lib/python3.10/site-packages/torch/optim/lr_scheduler.py:152: UserWarning: The epoch parameter in `scheduler.step()` was not necessary and is being deprecated where possible. Please use `scheduler.step()` to step the scheduler. During the deprecation, if epoch is different from None, the closed form is used instead of the new chainable form, where available. Please open an issue if you are unable to replicate your use case: https://github.com/pytorch/pytorch/issues/new/choose.\n",
      "  warnings.warn(EPOCH_DEPRECATION_WARNING, UserWarning)\n"
     ]
    },
    {
     "data": {
      "text/plain": [
       "[<matplotlib.lines.Line2D at 0x77fea68925f0>]"
      ]
     },
     "execution_count": 21,
     "metadata": {},
     "output_type": "execute_result"
    },
    {
     "data": {
      "image/png": "[encoded data removed]",
      "text/plain": [
       "<Figure size 2000x200 with 1 Axes>"
      ]
     },
     "metadata": {},
     "output_type": "display_data"
    }
   ],
   "source": [
    "rcParams['figure.figsize'] = 20, 2\n",
    "optimizer = optim.AdamW(m.parameters(), lr=init_lr)\n",
    "scheduler_cosine = torch.optim.lr_scheduler.CosineAnnealingLR(optimizer, n_epochs, eta_min=eta_min)\n",
    "\n",
    "lrs = []\n",
    "for epoch in range(1, n_epochs+1):\n",
    "    scheduler_cosine.step(epoch-1)\n",
    "    lrs.append(optimizer.param_groups[0][\"lr\"])\n",
    "plt.plot(range(len(lrs)), lrs)"
   ]
  },
  {
   "cell_type": "code",
   "execution_count": 22,
   "id": "48fb4469",
   "metadata": {
    "execution": {
     "iopub.execute_input": "2023-10-04T13:09:54.627569Z",
     "iopub.status.busy": "2023-10-04T13:09:54.627313Z",
     "iopub.status.idle": "2023-10-04T13:09:54.632898Z",
     "shell.execute_reply": "2023-10-04T13:09:54.631944Z"
    },
    "papermill": {
     "duration": 0.014881,
     "end_time": "2023-10-04T13:09:54.634686",
     "exception": false,
     "start_time": "2023-10-04T13:09:54.619805",
     "status": "completed"
    },
    "tags": []
   },
   "outputs": [],
   "source": [
    "train_df = train_df.drop(['liver_det'],axis=1)\n",
    "valid_df = valid_df.drop(['liver_det'],axis=1)"
   ]
  },
  {
   "cell_type": "code",
   "execution_count": 23,
   "id": "99a30642",
   "metadata": {
    "execution": {
     "iopub.execute_input": "2023-10-04T13:09:54.649395Z",
     "iopub.status.busy": "2023-10-04T13:09:54.648832Z",
     "iopub.status.idle": "2023-10-04T14:30:18.506280Z",
     "shell.execute_reply": "2023-10-04T14:30:18.504769Z"
    },
    "papermill": {
     "duration": 4823.869651,
     "end_time": "2023-10-04T14:30:18.511029",
     "exception": false,
     "start_time": "2023-10-04T13:09:54.641378",
     "status": "completed"
    },
    "tags": []
   },
   "outputs": [
    {
     "name": "stderr",
     "output_type": "stream",
     "text": [
      "Downloading: \"https://github.com/rwightman/pytorch-image-models/releases/download/v0.1-cadene/se_resnet50-ce0d4300.pth\" to /root/.cache/torch/hub/checkpoints/se_resnet50-ce0d4300.pth\n"
     ]
    },
    {
     "name": "stdout",
     "output_type": "stream",
     "text": [
      "1000 199\n",
      "Wed Oct  4 13:09:59 2023 Epoch: 1\n"
     ]
    },
    {
     "name": "stderr",
     "output_type": "stream",
     "text": [
      "smth:1.0627: 100%|██████████| 62/62 [04:25<00:00,  4.29s/it]\n",
      "smth:1.1130: 100%|██████████| 13/13 [00:45<00:00,  3.50s/it]\n"
     ]
    },
    {
     "name": "stdout",
     "output_type": "stream",
     "text": [
      "Wed Oct  4 13:15:11 2023  Epoch 1, lr: 0.0003000, train loss: 1.09651, valid loss: 1.11304, metric: 1.113042.\n",
      "metric_best (inf --> 1.113042). Saving model ...\n",
      "Wed Oct  4 13:15:11 2023 Epoch: 2\n"
     ]
    },
    {
     "name": "stderr",
     "output_type": "stream",
     "text": [
      "smth:1.0414: 100%|██████████| 62/62 [02:46<00:00,  2.69s/it]\n",
      "smth:0.8871: 100%|██████████| 13/13 [00:24<00:00,  1.87s/it]\n"
     ]
    },
    {
     "name": "stdout",
     "output_type": "stream",
     "text": [
      "Wed Oct  4 13:18:22 2023  Epoch 2, lr: 0.0002989, train loss: 1.05081, valid loss: 0.88713, metric: 0.887134.\n",
      "metric_best (1.113042 --> 0.887134). Saving model ...\n",
      "Wed Oct  4 13:18:24 2023 Epoch: 3\n"
     ]
    },
    {
     "name": "stderr",
     "output_type": "stream",
     "text": [
      "smth:1.0036: 100%|██████████| 62/62 [02:38<00:00,  2.55s/it]\n",
      "smth:0.8683: 100%|██████████| 13/13 [00:24<00:00,  1.89s/it]\n"
     ]
    },
    {
     "name": "stdout",
     "output_type": "stream",
     "text": [
      "Wed Oct  4 13:21:27 2023  Epoch 3, lr: 0.0002958, train loss: 1.02610, valid loss: 0.86835, metric: 0.868347.\n",
      "metric_best (0.887134 --> 0.868347). Saving model ...\n",
      "Wed Oct  4 13:21:29 2023 Epoch: 4\n"
     ]
    },
    {
     "name": "stderr",
     "output_type": "stream",
     "text": [
      "smth:1.0072: 100%|██████████| 62/62 [02:39<00:00,  2.57s/it]\n",
      "smth:1.1290: 100%|██████████| 13/13 [00:24<00:00,  1.89s/it]\n"
     ]
    },
    {
     "name": "stdout",
     "output_type": "stream",
     "text": [
      "Wed Oct  4 13:24:33 2023  Epoch 4, lr: 0.0002905, train loss: 1.00380, valid loss: 1.12899, metric: 1.128993.\n",
      "Wed Oct  4 13:24:34 2023 Epoch: 5\n"
     ]
    },
    {
     "name": "stderr",
     "output_type": "stream",
     "text": [
      "smth:1.0404: 100%|██████████| 62/62 [02:43<00:00,  2.64s/it]\n",
      "smth:0.9901: 100%|██████████| 13/13 [00:26<00:00,  2.01s/it]\n"
     ]
    },
    {
     "name": "stdout",
     "output_type": "stream",
     "text": [
      "Wed Oct  4 13:27:44 2023  Epoch 5, lr: 0.0002833, train loss: 1.00815, valid loss: 0.99012, metric: 0.990122.\n",
      "Wed Oct  4 13:27:46 2023 Epoch: 6\n"
     ]
    },
    {
     "name": "stderr",
     "output_type": "stream",
     "text": [
      "smth:0.9654: 100%|██████████| 62/62 [02:42<00:00,  2.62s/it]\n",
      "smth:0.8431: 100%|██████████| 13/13 [00:25<00:00,  1.98s/it]\n"
     ]
    },
    {
     "name": "stdout",
     "output_type": "stream",
     "text": [
      "Wed Oct  4 13:30:54 2023  Epoch 6, lr: 0.0002742, train loss: 0.97509, valid loss: 0.84311, metric: 0.843113.\n",
      "metric_best (0.868347 --> 0.843113). Saving model ...\n",
      "Wed Oct  4 13:30:56 2023 Epoch: 7\n"
     ]
    },
    {
     "name": "stderr",
     "output_type": "stream",
     "text": [
      "smth:0.9701: 100%|██████████| 62/62 [02:45<00:00,  2.67s/it]\n",
      "smth:1.1161: 100%|██████████| 13/13 [00:27<00:00,  2.11s/it]\n"
     ]
    },
    {
     "name": "stdout",
     "output_type": "stream",
     "text": [
      "Wed Oct  4 13:34:09 2023  Epoch 7, lr: 0.0002634, train loss: 0.99496, valid loss: 1.11609, metric: 1.116091.\n",
      "Wed Oct  4 13:34:11 2023 Epoch: 8\n"
     ]
    },
    {
     "name": "stderr",
     "output_type": "stream",
     "text": [
      "smth:1.0042: 100%|██████████| 62/62 [02:43<00:00,  2.63s/it]\n",
      "smth:1.1070: 100%|██████████| 13/13 [00:24<00:00,  1.91s/it]\n"
     ]
    },
    {
     "name": "stdout",
     "output_type": "stream",
     "text": [
      "Wed Oct  4 13:37:19 2023  Epoch 8, lr: 0.0002511, train loss: 0.96993, valid loss: 1.10702, metric: 1.107023.\n",
      "Wed Oct  4 13:37:20 2023 Epoch: 9\n"
     ]
    },
    {
     "name": "stderr",
     "output_type": "stream",
     "text": [
      "smth:0.9376: 100%|██████████| 62/62 [02:44<00:00,  2.65s/it]\n",
      "smth:1.8502: 100%|██████████| 13/13 [00:26<00:00,  2.01s/it]\n"
     ]
    },
    {
     "name": "stdout",
     "output_type": "stream",
     "text": [
      "Wed Oct  4 13:40:31 2023  Epoch 9, lr: 0.0002373, train loss: 0.95881, valid loss: 1.85020, metric: 1.850196.\n",
      "Wed Oct  4 13:40:32 2023 Epoch: 10\n"
     ]
    },
    {
     "name": "stderr",
     "output_type": "stream",
     "text": [
      "smth:0.9979: 100%|██████████| 62/62 [02:43<00:00,  2.63s/it]\n",
      "smth:0.8291: 100%|██████████| 13/13 [00:24<00:00,  1.89s/it]\n"
     ]
    },
    {
     "name": "stdout",
     "output_type": "stream",
     "text": [
      "Wed Oct  4 13:43:40 2023  Epoch 10, lr: 0.0002225, train loss: 0.97047, valid loss: 0.82910, metric: 0.829104.\n",
      "metric_best (0.843113 --> 0.829104). Saving model ...\n",
      "Wed Oct  4 13:43:42 2023 Epoch: 11\n"
     ]
    },
    {
     "name": "stderr",
     "output_type": "stream",
     "text": [
      "smth:0.9740: 100%|██████████| 62/62 [02:39<00:00,  2.57s/it]\n",
      "smth:1.0010: 100%|██████████| 13/13 [00:25<00:00,  1.94s/it]\n"
     ]
    },
    {
     "name": "stdout",
     "output_type": "stream",
     "text": [
      "Wed Oct  4 13:46:46 2023  Epoch 11, lr: 0.0002067, train loss: 0.95302, valid loss: 1.00104, metric: 1.001036.\n",
      "Wed Oct  4 13:46:48 2023 Epoch: 12\n"
     ]
    },
    {
     "name": "stderr",
     "output_type": "stream",
     "text": [
      "smth:0.9475: 100%|██████████| 62/62 [02:39<00:00,  2.57s/it]\n",
      "smth:0.7964: 100%|██████████| 13/13 [00:23<00:00,  1.82s/it]\n"
     ]
    },
    {
     "name": "stdout",
     "output_type": "stream",
     "text": [
      "Wed Oct  4 13:49:51 2023  Epoch 12, lr: 0.0001903, train loss: 0.93664, valid loss: 0.79642, metric: 0.796419.\n",
      "metric_best (0.829104 --> 0.796419). Saving model ...\n",
      "Wed Oct  4 13:49:53 2023 Epoch: 13\n"
     ]
    },
    {
     "name": "stderr",
     "output_type": "stream",
     "text": [
      "smth:0.9372: 100%|██████████| 62/62 [02:39<00:00,  2.57s/it]\n",
      "smth:0.8509: 100%|██████████| 13/13 [00:25<00:00,  1.94s/it]\n"
     ]
    },
    {
     "name": "stdout",
     "output_type": "stream",
     "text": [
      "Wed Oct  4 13:52:58 2023  Epoch 13, lr: 0.0001735, train loss: 0.92494, valid loss: 0.85085, metric: 0.850851.\n",
      "Wed Oct  4 13:52:59 2023 Epoch: 14\n"
     ]
    },
    {
     "name": "stderr",
     "output_type": "stream",
     "text": [
      "smth:0.9102: 100%|██████████| 62/62 [02:39<00:00,  2.57s/it]\n",
      "smth:0.8522: 100%|██████████| 13/13 [00:25<00:00,  1.95s/it]\n"
     ]
    },
    {
     "name": "stdout",
     "output_type": "stream",
     "text": [
      "Wed Oct  4 13:56:04 2023  Epoch 14, lr: 0.0001565, train loss: 0.91370, valid loss: 0.85222, metric: 0.852225.\n",
      "Wed Oct  4 13:56:05 2023 Epoch: 15\n"
     ]
    },
    {
     "name": "stderr",
     "output_type": "stream",
     "text": [
      "smth:0.8965: 100%|██████████| 62/62 [02:39<00:00,  2.57s/it]\n",
      "smth:0.7772: 100%|██████████| 13/13 [00:24<00:00,  1.89s/it]\n"
     ]
    },
    {
     "name": "stdout",
     "output_type": "stream",
     "text": [
      "Wed Oct  4 13:59:09 2023  Epoch 15, lr: 0.0001397, train loss: 0.90395, valid loss: 0.77724, metric: 0.777237.\n",
      "metric_best (0.796419 --> 0.777237). Saving model ...\n",
      "Wed Oct  4 13:59:11 2023 Epoch: 16\n"
     ]
    },
    {
     "name": "stderr",
     "output_type": "stream",
     "text": [
      "smth:0.8957: 100%|██████████| 62/62 [02:41<00:00,  2.61s/it]\n",
      "smth:0.7579: 100%|██████████| 13/13 [00:24<00:00,  1.88s/it]\n"
     ]
    },
    {
     "name": "stdout",
     "output_type": "stream",
     "text": [
      "Wed Oct  4 14:02:17 2023  Epoch 16, lr: 0.0001233, train loss: 0.88228, valid loss: 0.75795, metric: 0.757946.\n",
      "metric_best (0.777237 --> 0.757946). Saving model ...\n",
      "Wed Oct  4 14:02:19 2023 Epoch: 17\n"
     ]
    },
    {
     "name": "stderr",
     "output_type": "stream",
     "text": [
      "smth:0.8791: 100%|██████████| 62/62 [02:38<00:00,  2.56s/it]\n",
      "smth:0.7598: 100%|██████████| 13/13 [00:24<00:00,  1.89s/it]\n"
     ]
    },
    {
     "name": "stdout",
     "output_type": "stream",
     "text": [
      "Wed Oct  4 14:05:22 2023  Epoch 17, lr: 0.0001075, train loss: 0.85771, valid loss: 0.75976, metric: 0.759755.\n",
      "Wed Oct  4 14:05:24 2023 Epoch: 18\n"
     ]
    },
    {
     "name": "stderr",
     "output_type": "stream",
     "text": [
      "smth:0.9238: 100%|██████████| 62/62 [02:39<00:00,  2.58s/it]\n",
      "smth:0.7919: 100%|██████████| 13/13 [00:24<00:00,  1.86s/it]\n"
     ]
    },
    {
     "name": "stdout",
     "output_type": "stream",
     "text": [
      "Wed Oct  4 14:08:28 2023  Epoch 18, lr: 0.0000927, train loss: 0.90724, valid loss: 0.79191, metric: 0.791906.\n",
      "Wed Oct  4 14:08:30 2023 Epoch: 19\n"
     ]
    },
    {
     "name": "stderr",
     "output_type": "stream",
     "text": [
      "smth:0.8223: 100%|██████████| 62/62 [02:41<00:00,  2.60s/it]\n",
      "smth:0.7527: 100%|██████████| 13/13 [00:24<00:00,  1.90s/it]\n"
     ]
    },
    {
     "name": "stdout",
     "output_type": "stream",
     "text": [
      "Wed Oct  4 14:11:36 2023  Epoch 19, lr: 0.0000789, train loss: 0.83099, valid loss: 0.75274, metric: 0.752739.\n",
      "metric_best (0.757946 --> 0.752739). Saving model ...\n",
      "Wed Oct  4 14:11:38 2023 Epoch: 20\n"
     ]
    },
    {
     "name": "stderr",
     "output_type": "stream",
     "text": [
      "smth:0.8571: 100%|██████████| 62/62 [02:41<00:00,  2.60s/it]\n",
      "smth:0.7421: 100%|██████████| 13/13 [00:25<00:00,  1.93s/it]\n"
     ]
    },
    {
     "name": "stdout",
     "output_type": "stream",
     "text": [
      "Wed Oct  4 14:14:44 2023  Epoch 20, lr: 0.0000666, train loss: 0.86914, valid loss: 0.74209, metric: 0.742092.\n",
      "metric_best (0.752739 --> 0.742092). Saving model ...\n",
      "Wed Oct  4 14:14:46 2023 Epoch: 21\n"
     ]
    },
    {
     "name": "stderr",
     "output_type": "stream",
     "text": [
      "smth:0.8803: 100%|██████████| 62/62 [02:41<00:00,  2.61s/it]\n",
      "smth:0.7769: 100%|██████████| 13/13 [00:25<00:00,  1.93s/it]\n"
     ]
    },
    {
     "name": "stdout",
     "output_type": "stream",
     "text": [
      "Wed Oct  4 14:17:53 2023  Epoch 21, lr: 0.0000558, train loss: 0.83871, valid loss: 0.77689, metric: 0.776887.\n",
      "Wed Oct  4 14:17:55 2023 Epoch: 22\n"
     ]
    },
    {
     "name": "stderr",
     "output_type": "stream",
     "text": [
      "smth:0.8594: 100%|██████████| 62/62 [02:40<00:00,  2.59s/it]\n",
      "smth:0.7524: 100%|██████████| 13/13 [00:24<00:00,  1.91s/it]\n"
     ]
    },
    {
     "name": "stdout",
     "output_type": "stream",
     "text": [
      "Wed Oct  4 14:21:00 2023  Epoch 22, lr: 0.0000467, train loss: 0.82958, valid loss: 0.75244, metric: 0.752442.\n",
      "Wed Oct  4 14:21:01 2023 Epoch: 23\n"
     ]
    },
    {
     "name": "stderr",
     "output_type": "stream",
     "text": [
      "smth:0.8090: 100%|██████████| 62/62 [02:38<00:00,  2.56s/it]\n",
      "smth:0.8764: 100%|██████████| 13/13 [00:24<00:00,  1.90s/it]\n"
     ]
    },
    {
     "name": "stdout",
     "output_type": "stream",
     "text": [
      "Wed Oct  4 14:24:05 2023  Epoch 23, lr: 0.0000395, train loss: 0.82560, valid loss: 0.87638, metric: 0.876376.\n",
      "Wed Oct  4 14:24:06 2023 Epoch: 24\n"
     ]
    },
    {
     "name": "stderr",
     "output_type": "stream",
     "text": [
      "smth:0.7701: 100%|██████████| 62/62 [02:39<00:00,  2.57s/it]\n",
      "smth:0.7686: 100%|██████████| 13/13 [00:24<00:00,  1.89s/it]\n"
     ]
    },
    {
     "name": "stdout",
     "output_type": "stream",
     "text": [
      "Wed Oct  4 14:27:10 2023  Epoch 24, lr: 0.0000342, train loss: 0.80058, valid loss: 0.76860, metric: 0.768597.\n",
      "Wed Oct  4 14:27:12 2023 Epoch: 25\n"
     ]
    },
    {
     "name": "stderr",
     "output_type": "stream",
     "text": [
      "smth:0.8080: 100%|██████████| 62/62 [02:40<00:00,  2.58s/it]\n",
      "smth:0.7986: 100%|██████████| 13/13 [00:24<00:00,  1.88s/it]\n"
     ]
    },
    {
     "name": "stdout",
     "output_type": "stream",
     "text": [
      "Wed Oct  4 14:30:17 2023  Epoch 25, lr: 0.0000311, train loss: 0.79090, valid loss: 0.79862, metric: 0.798619.\n"
     ]
    }
   ],
   "source": [
    "dataset_train = CLSDataset(train_df, 'train', transform=transforms_train)\n",
    "dataset_valid = CLSDataset(valid_df, 'valid', transform=transforms_valid)\n",
    "loader_train = torch.utils.data.DataLoader(dataset_train, batch_size=batch_size, shuffle=True, num_workers=num_workers, drop_last=True)\n",
    "loader_valid = torch.utils.data.DataLoader(dataset_valid, batch_size=batch_size, shuffle=False, num_workers=num_workers)\n",
    "\n",
    "model = TimmModel(backbone, pretrained=True)\n",
    "model = model.to(device)\n",
    "\n",
    "optimizer = optim.AdamW(model.parameters(), lr=init_lr)\n",
    "scaler = torch.cuda.amp.GradScaler() if use_amp else None\n",
    "\n",
    "metric_best = np.inf\n",
    "loss_min = np.inf\n",
    "\n",
    "scheduler_cosine = torch.optim.lr_scheduler.CosineAnnealingWarmRestarts(optimizer, n_epochs, eta_min=eta_min)\n",
    "\n",
    "print(len(dataset_train), len(dataset_valid))\n",
    "\n",
    "for epoch in range(1, n_epochs+1):\n",
    "    scheduler_cosine.step(epoch-1)\n",
    "\n",
    "    print(time.ctime(), 'Epoch:', epoch)\n",
    "\n",
    "    train_loss = train_func(model, loader_train, optimizer, scaler)\n",
    "    valid_loss = valid_func(model, loader_valid)\n",
    "    metric = valid_loss\n",
    "\n",
    "    content = time.ctime() + ' ' + f' Epoch {epoch}, lr: {optimizer.param_groups[0][\"lr\"]:.7f}, train loss: {train_loss:.5f}, valid loss: {valid_loss:.5f}, metric: {(metric):.6f}.'\n",
    "    print(content)\n",
    "\n",
    "    if metric < metric_best:\n",
    "        print(f'metric_best ({metric_best:.6f} --> {metric:.6f}). Saving model ...')\n",
    "#             if not DEBUG:\n",
    "        torch.save(model.state_dict(), 'best_model.pth')\n",
    "        metric_best = metric\n",
    "    torch.cuda.empty_cache()\n",
    "    # Save Last\n",
    "    if(epoch%6==0):\n",
    "        torch.save(\n",
    "        {\n",
    "            'epoch': epoch,\n",
    "            'model_state_dict': model.state_dict(),\n",
    "            'optimizer_state_dict': optimizer.state_dict(),\n",
    "            'scaler_state_dict': scaler.state_dict() if scaler else None,\n",
    "            'score_best': metric_best,\n",
    "        },\n",
    "        f'checkpoint_{epoch}.pth'\n",
    "    )\n",
    "    torch.save(\n",
    "        {\n",
    "            'epoch': epoch,\n",
    "            'model_state_dict': model.state_dict(),\n",
    "            'optimizer_state_dict': optimizer.state_dict(),\n",
    "            'scaler_state_dict': scaler.state_dict() if scaler else None,\n",
    "            'score_best': metric_best,\n",
    "        },\n",
    "        'last_epoch.pth'\n",
    "    )\n"
   ]
  },
  {
   "cell_type": "code",
   "execution_count": 24,
   "id": "1a39c405",
   "metadata": {
    "execution": {
     "iopub.execute_input": "2023-10-04T14:30:18.848687Z",
     "iopub.status.busy": "2023-10-04T14:30:18.848345Z",
     "iopub.status.idle": "2023-10-04T14:30:18.853626Z",
     "shell.execute_reply": "2023-10-04T14:30:18.852592Z"
    },
    "papermill": {
     "duration": 0.175769,
     "end_time": "2023-10-04T14:30:18.855415",
     "exception": false,
     "start_time": "2023-10-04T14:30:18.679646",
     "status": "completed"
    },
    "tags": []
   },
   "outputs": [],
   "source": [
    "torch.cuda.empty_cache()"
   ]
  }
 ],
 "metadata": {
  "kernelspec": {
   "display_name": "Python 3",
   "language": "python",
   "name": "python3"
  },
  "language_info": {
   "codemirror_mode": {
    "name": "ipython",
    "version": 3
   },
   "file_extension": ".py",
   "mimetype": "text/x-python",
   "name": "python",
   "nbconvert_exporter": "python",
   "pygments_lexer": "ipython3",
   "version": "3.10.12"
  },
  "papermill": {
   "default_parameters": {},
   "duration": 4853.013041,
   "end_time": "2023-10-04T14:30:22.724700",
   "environment_variables": {},
   "exception": null,
   "input_path": "__notebook__.ipynb",
   "output_path": "__notebook__.ipynb",
   "parameters": {},
   "start_time": "2023-10-04T13:09:29.711659",
   "version": "2.4.0"
  }
 },
 "nbformat": 4,
 "nbformat_minor": 5
}
