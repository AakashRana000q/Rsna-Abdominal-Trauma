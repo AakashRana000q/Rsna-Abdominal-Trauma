{
 "cells": [
  {
   "cell_type": "code",
   "execution_count": 1,
   "id": "79b26a98",
   "metadata": {
    "execution": {
     "iopub.execute_input": "2023-10-04T12:44:27.579582Z",
     "iopub.status.busy": "2023-10-04T12:44:27.579252Z",
     "iopub.status.idle": "2023-10-04T12:44:35.610992Z",
     "shell.execute_reply": "2023-10-04T12:44:35.610052Z"
    },
    "papermill": {
     "duration": 8.041299,
     "end_time": "2023-10-04T12:44:35.614040",
     "exception": false,
     "start_time": "2023-10-04T12:44:27.572741",
     "status": "completed"
    },
    "tags": []
   },
   "outputs": [
    {
     "name": "stderr",
     "output_type": "stream",
     "text": [
      "/opt/conda/lib/python3.10/site-packages/scipy/__init__.py:146: UserWarning: A NumPy version >=1.16.5 and <1.23.0 is required for this version of SciPy (detected version 1.23.5\n",
      "  warnings.warn(f\"A NumPy version >={np_minversion} and <{np_maxversion}\"\n"
     ]
    }
   ],
   "source": [
    "import os\n",
    "import sys\n",
    "import gc\n",
    "import ast\n",
    "import cv2\n",
    "import time\n",
    "import timm\n",
    "import pickle\n",
    "import random\n",
    "import argparse\n",
    "import warnings\n",
    "import numpy as np\n",
    "import pandas as pd\n",
    "from glob import glob\n",
    "from PIL import Image\n",
    "from tqdm import tqdm\n",
    "import albumentations\n",
    "from pylab import rcParams\n",
    "import matplotlib.pyplot as plt\n",
    "from sklearn.model_selection import KFold, StratifiedKFold\n",
    "\n",
    "import torch\n",
    "import torch.nn as nn\n",
    "import torch.optim as optim\n",
    "import torch.cuda.amp as amp\n",
    "import torch.nn.functional as F\n",
    "from torch.utils.data import DataLoader, Dataset\n",
    "\n",
    "device = torch.device('cuda')\n",
    "torch.backends.cudnn.benchmark = True\n"
   ]
  },
  {
   "cell_type": "code",
   "execution_count": 2,
   "id": "9a285667",
   "metadata": {
    "execution": {
     "iopub.execute_input": "2023-10-04T12:44:35.635592Z",
     "iopub.status.busy": "2023-10-04T12:44:35.634915Z",
     "iopub.status.idle": "2023-10-04T12:44:35.643097Z",
     "shell.execute_reply": "2023-10-04T12:44:35.642310Z"
    },
    "papermill": {
     "duration": 0.021559,
     "end_time": "2023-10-04T12:44:35.645423",
     "exception": false,
     "start_time": "2023-10-04T12:44:35.623864",
     "status": "completed"
    },
    "tags": []
   },
   "outputs": [],
   "source": [
    "image_size = 224\n",
    "n_slice_per_c = 12    # number of slices for each instance\n",
    "in_chans = 3      # number of channels in input to CNN\n",
    "backbone = 'legacy_seresnet50'\n",
    " \n",
    "init_lr = 3e-5\n",
    "eta_min = 3e-6\n",
    "batch_size = 16 \n",
    "drop_rate = 0.3\n",
    "drop_rate_last = 0.3 \n",
    "drop_path_rate = 0.\n",
    "p_mixup = 0.5\n",
    "p_rand_order_v1 = 0.2    #probabilty of random arrangement of images\n",
    "\n",
    "data_dir = '../input/rsna-cropped-2d-224-0920-2m/cropped_2d_224_15_ext0_5ch_0920_2m/cropped_2d_224_15_ext0_5ch_0920_2m'\n",
    "use_amp = True\n",
    "num_workers = 2\n",
    "out_dim = 3           # number of output classes\n",
    "\n",
    "n_epochs = 20\n",
    "\n",
    "# log_dir = './logs'\n",
    "# model_dir = './models'\n",
    "# os.makedirs(log_dir, exist_ok=True)\n",
    "# os.makedirs(model_dir, exist_ok=True)"
   ]
  },
  {
   "cell_type": "code",
   "execution_count": 3,
   "id": "285f204d",
   "metadata": {
    "execution": {
     "iopub.execute_input": "2023-10-04T12:44:35.664765Z",
     "iopub.status.busy": "2023-10-04T12:44:35.664446Z",
     "iopub.status.idle": "2023-10-04T12:44:35.669186Z",
     "shell.execute_reply": "2023-10-04T12:44:35.668388Z"
    },
    "papermill": {
     "duration": 0.019483,
     "end_time": "2023-10-04T12:44:35.674200",
     "exception": false,
     "start_time": "2023-10-04T12:44:35.654717",
     "status": "completed"
    },
    "tags": []
   },
   "outputs": [
    {
     "name": "stdout",
     "output_type": "stream",
     "text": [
      "20\n"
     ]
    }
   ],
   "source": [
    "print(n_epochs)"
   ]
  },
  {
   "cell_type": "code",
   "execution_count": 4,
   "id": "ca4dfddf",
   "metadata": {
    "execution": {
     "iopub.execute_input": "2023-10-04T12:44:35.695088Z",
     "iopub.status.busy": "2023-10-04T12:44:35.694760Z",
     "iopub.status.idle": "2023-10-04T12:44:35.714195Z",
     "shell.execute_reply": "2023-10-04T12:44:35.713322Z"
    },
    "papermill": {
     "duration": 0.032806,
     "end_time": "2023-10-04T12:44:35.716603",
     "exception": false,
     "start_time": "2023-10-04T12:44:35.683797",
     "status": "completed"
    },
    "tags": []
   },
   "outputs": [
    {
     "name": "stderr",
     "output_type": "stream",
     "text": [
      "/opt/conda/lib/python3.10/site-packages/albumentations/augmentations/transforms.py:1258: FutureWarning: This class has been deprecated. Please use RandomBrightnessContrast\n",
      "  warnings.warn(\n",
      "/opt/conda/lib/python3.10/site-packages/albumentations/augmentations/blur/transforms.py:184: UserWarning: blur_limit and sigma_limit minimum value can not be both equal to 0. blur_limit minimum value changed to 3.\n",
      "  warnings.warn(\n",
      "/opt/conda/lib/python3.10/site-packages/albumentations/augmentations/dropout/cutout.py:49: FutureWarning: Cutout has been deprecated. Please use CoarseDropout\n",
      "  warnings.warn(\n"
     ]
    }
   ],
   "source": [
    "transforms_train = albumentations.Compose([\n",
    "    albumentations.Crop(x_min=256, y_min=154, x_max=512, y_max=410,always_apply=True),\n",
    "    albumentations.Resize(224, 224),\n",
    "    albumentations.HorizontalFlip(p=0.5),\n",
    "    albumentations.VerticalFlip(p=0.5),\n",
    "    albumentations.Transpose(p=0.5),\n",
    "    albumentations.RandomBrightness(limit=0.1, p=0.7),\n",
    "    albumentations.ShiftScaleRotate(shift_limit=0.3, scale_limit=0.3, rotate_limit=45, border_mode=4, p=0.7),\n",
    "\n",
    "    albumentations.OneOf([\n",
    "        albumentations.MotionBlur(blur_limit=3),\n",
    "        albumentations.MedianBlur(blur_limit=3),\n",
    "        albumentations.GaussianBlur(blur_limit=3),\n",
    "        albumentations.GaussNoise(var_limit=(3.0, 9.0)),\n",
    "    ], p=0.5),\n",
    "    albumentations.OneOf([\n",
    "        albumentations.OpticalDistortion(distort_limit=1.),\n",
    "        albumentations.GridDistortion(num_steps=5, distort_limit=1.),\n",
    "    ], p=0.5),\n",
    "\n",
    "    albumentations.Cutout(max_h_size=int(224 * 0.5), max_w_size=int(224 * 0.5), num_holes=1, p=0.5),\n",
    "])\n",
    "\n",
    "transforms_valid = albumentations.Compose([\n",
    "    albumentations.Crop(x_min=256, y_min=154, x_max=512, y_max=410,always_apply=True),\n",
    "    albumentations.Resize(224, 224),\n",
    "])\n"
   ]
  },
  {
   "cell_type": "code",
   "execution_count": 5,
   "id": "3847cede",
   "metadata": {
    "execution": {
     "iopub.execute_input": "2023-10-04T12:44:35.736829Z",
     "iopub.status.busy": "2023-10-04T12:44:35.736515Z",
     "iopub.status.idle": "2023-10-04T12:44:35.991828Z",
     "shell.execute_reply": "2023-10-04T12:44:35.990869Z"
    },
    "papermill": {
     "duration": 0.268039,
     "end_time": "2023-10-04T12:44:35.994373",
     "exception": false,
     "start_time": "2023-10-04T12:44:35.726334",
     "status": "completed"
    },
    "tags": []
   },
   "outputs": [],
   "source": [
    "train_df = pd.read_csv('/kaggle/input/rsna-2023-abdominal-trauma-detection/train.csv')\n",
    "with open('/kaggle/input/liver-train-images/conv_range.pkl', 'rb') as f:\n",
    "    conv_range = pickle.load(f)"
   ]
  },
  {
   "cell_type": "code",
   "execution_count": 6,
   "id": "b847f074",
   "metadata": {
    "execution": {
     "iopub.execute_input": "2023-10-04T12:44:36.014832Z",
     "iopub.status.busy": "2023-10-04T12:44:36.014136Z",
     "iopub.status.idle": "2023-10-04T12:44:39.070944Z",
     "shell.execute_reply": "2023-10-04T12:44:39.070045Z"
    },
    "papermill": {
     "duration": 3.069097,
     "end_time": "2023-10-04T12:44:39.072951",
     "exception": false,
     "start_time": "2023-10-04T12:44:36.003854",
     "status": "completed"
    },
    "tags": []
   },
   "outputs": [
    {
     "name": "stderr",
     "output_type": "stream",
     "text": [
      "100%|██████████| 2717/2717 [00:03<00:00, 893.81it/s]\n"
     ]
    }
   ],
   "source": [
    "train_df['liver_det'] = False\n",
    "for item in tqdm(conv_range):\n",
    "    train_df.loc[train_df['patient_id']==int(item),['liver_det']] = True"
   ]
  },
  {
   "cell_type": "code",
   "execution_count": 7,
   "id": "d23a7cf0",
   "metadata": {
    "execution": {
     "iopub.execute_input": "2023-10-04T12:44:39.087113Z",
     "iopub.status.busy": "2023-10-04T12:44:39.086567Z",
     "iopub.status.idle": "2023-10-04T12:44:39.093620Z",
     "shell.execute_reply": "2023-10-04T12:44:39.092796Z"
    },
    "papermill": {
     "duration": 0.015837,
     "end_time": "2023-10-04T12:44:39.095283",
     "exception": false,
     "start_time": "2023-10-04T12:44:39.079446",
     "status": "completed"
    },
    "tags": []
   },
   "outputs": [],
   "source": [
    "train_df = train_df[train_df['liver_det']==True]"
   ]
  },
  {
   "cell_type": "code",
   "execution_count": 8,
   "id": "a07bc002",
   "metadata": {
    "execution": {
     "iopub.execute_input": "2023-10-04T12:44:39.109025Z",
     "iopub.status.busy": "2023-10-04T12:44:39.108490Z",
     "iopub.status.idle": "2023-10-04T12:44:39.115849Z",
     "shell.execute_reply": "2023-10-04T12:44:39.115001Z"
    },
    "papermill": {
     "duration": 0.015988,
     "end_time": "2023-10-04T12:44:39.117462",
     "exception": false,
     "start_time": "2023-10-04T12:44:39.101474",
     "status": "completed"
    },
    "tags": []
   },
   "outputs": [
    {
     "data": {
      "text/plain": [
       "320"
      ]
     },
     "execution_count": 8,
     "metadata": {},
     "output_type": "execute_result"
    }
   ],
   "source": [
    "len(train_df[train_df['spleen_healthy']==0])"
   ]
  },
  {
   "cell_type": "code",
   "execution_count": 9,
   "id": "83f65369",
   "metadata": {
    "execution": {
     "iopub.execute_input": "2023-10-04T12:44:39.131210Z",
     "iopub.status.busy": "2023-10-04T12:44:39.130706Z",
     "iopub.status.idle": "2023-10-04T12:44:39.136808Z",
     "shell.execute_reply": "2023-10-04T12:44:39.136006Z"
    },
    "papermill": {
     "duration": 0.014626,
     "end_time": "2023-10-04T12:44:39.138416",
     "exception": false,
     "start_time": "2023-10-04T12:44:39.123790",
     "status": "completed"
    },
    "tags": []
   },
   "outputs": [],
   "source": [
    "train_df1 = train_df[train_df['spleen_healthy'] == 0][:260]\n",
    "test_df1 = train_df[train_df['spleen_healthy'] == 0][260:]"
   ]
  },
  {
   "cell_type": "code",
   "execution_count": 10,
   "id": "823ebfda",
   "metadata": {
    "execution": {
     "iopub.execute_input": "2023-10-04T12:44:39.151921Z",
     "iopub.status.busy": "2023-10-04T12:44:39.151688Z",
     "iopub.status.idle": "2023-10-04T12:44:39.157789Z",
     "shell.execute_reply": "2023-10-04T12:44:39.156976Z"
    },
    "papermill": {
     "duration": 0.014786,
     "end_time": "2023-10-04T12:44:39.159445",
     "exception": false,
     "start_time": "2023-10-04T12:44:39.144659",
     "status": "completed"
    },
    "tags": []
   },
   "outputs": [],
   "source": [
    "train_df2 = train_df[train_df['spleen_healthy'] == 1][:750]\n",
    "test_df2 = train_df[train_df['spleen_healthy'] == 1][750:900]"
   ]
  },
  {
   "cell_type": "code",
   "execution_count": 11,
   "id": "4799b92d",
   "metadata": {
    "execution": {
     "iopub.execute_input": "2023-10-04T12:44:39.173069Z",
     "iopub.status.busy": "2023-10-04T12:44:39.172839Z",
     "iopub.status.idle": "2023-10-04T12:44:39.179277Z",
     "shell.execute_reply": "2023-10-04T12:44:39.178503Z"
    },
    "papermill": {
     "duration": 0.015354,
     "end_time": "2023-10-04T12:44:39.180976",
     "exception": false,
     "start_time": "2023-10-04T12:44:39.165622",
     "status": "completed"
    },
    "tags": []
   },
   "outputs": [],
   "source": [
    "train_df = pd.concat([train_df1,train_df2])\n",
    "valid_df = pd.concat([test_df1,test_df2])"
   ]
  },
  {
   "cell_type": "code",
   "execution_count": 12,
   "id": "cb33666c",
   "metadata": {
    "execution": {
     "iopub.execute_input": "2023-10-04T12:44:39.195005Z",
     "iopub.status.busy": "2023-10-04T12:44:39.194259Z",
     "iopub.status.idle": "2023-10-04T12:44:45.517368Z",
     "shell.execute_reply": "2023-10-04T12:44:45.516483Z"
    },
    "papermill": {
     "duration": 6.331742,
     "end_time": "2023-10-04T12:44:45.519141",
     "exception": false,
     "start_time": "2023-10-04T12:44:39.187399",
     "status": "completed"
    },
    "tags": []
   },
   "outputs": [
    {
     "name": "stderr",
     "output_type": "stream",
     "text": [
      "100%|██████████| 2717/2717 [00:00<00:00, 55945.74it/s]\n"
     ]
    }
   ],
   "source": [
    "train_dict= {}\n",
    "for name in tqdm(os.listdir('/kaggle/input/liver-train-images/output/')):\n",
    "    paths = [f'/kaggle/input/liver-train-images/output/{name}/{item}.png' for item in range(0, 60)]\n",
    "    train_dict[int(name)] = paths"
   ]
  },
  {
   "cell_type": "code",
   "execution_count": 13,
   "id": "c328f4a3",
   "metadata": {
    "execution": {
     "iopub.execute_input": "2023-10-04T12:44:45.533438Z",
     "iopub.status.busy": "2023-10-04T12:44:45.533107Z",
     "iopub.status.idle": "2023-10-04T12:44:45.537613Z",
     "shell.execute_reply": "2023-10-04T12:44:45.536716Z"
    },
    "papermill": {
     "duration": 0.013462,
     "end_time": "2023-10-04T12:44:45.539208",
     "exception": false,
     "start_time": "2023-10-04T12:44:45.525746",
     "status": "completed"
    },
    "tags": []
   },
   "outputs": [],
   "source": [
    "def select_elements_with_spacing(input_list):\n",
    "    \n",
    "    selected_indices = []\n",
    "        \n",
    "    selected_indices = [i for i in range(2,58,5)]\n",
    "    \n",
    "    selected_elements = [input_list[index] for index in selected_indices]\n",
    "    \n",
    "    return selected_elements\n"
   ]
  },
  {
   "cell_type": "code",
   "execution_count": 14,
   "id": "68bedf27",
   "metadata": {
    "execution": {
     "iopub.execute_input": "2023-10-04T12:44:45.552906Z",
     "iopub.status.busy": "2023-10-04T12:44:45.552604Z",
     "iopub.status.idle": "2023-10-04T12:44:45.556692Z",
     "shell.execute_reply": "2023-10-04T12:44:45.555851Z"
    },
    "papermill": {
     "duration": 0.012814,
     "end_time": "2023-10-04T12:44:45.558310",
     "exception": false,
     "start_time": "2023-10-04T12:44:45.545496",
     "status": "completed"
    },
    "tags": []
   },
   "outputs": [],
   "source": [
    "def preprocess_jpeg(jpeg_path):\n",
    "    \n",
    "    img = cv2.imread(jpeg_path)\n",
    "    greyscale = cv2.cvtColor(img, cv2.COLOR_BGR2GRAY)\n",
    "    \n",
    "    return greyscale\n"
   ]
  },
  {
   "cell_type": "code",
   "execution_count": 15,
   "id": "198359bd",
   "metadata": {
    "execution": {
     "iopub.execute_input": "2023-10-04T12:44:45.572017Z",
     "iopub.status.busy": "2023-10-04T12:44:45.571798Z",
     "iopub.status.idle": "2023-10-04T12:44:45.663704Z",
     "shell.execute_reply": "2023-10-04T12:44:45.662809Z"
    },
    "papermill": {
     "duration": 0.100688,
     "end_time": "2023-10-04T12:44:45.665301",
     "exception": false,
     "start_time": "2023-10-04T12:44:45.564613",
     "status": "completed"
    },
    "tags": []
   },
   "outputs": [
    {
     "data": {
      "text/plain": [
       "(224, 224, 3)"
      ]
     },
     "execution_count": 15,
     "metadata": {},
     "output_type": "execute_result"
    }
   ],
   "source": [
    "img1 = preprocess_jpeg(f'/kaggle/input/liver-train-images/output/10004/0.png')\n",
    "img2 = preprocess_jpeg(f'/kaggle/input/liver-train-images/output/10004/1.png')\n",
    "img3 = preprocess_jpeg(f'/kaggle/input/liver-train-images/output/10004/2.png')\n",
    "image = np.asarray([img1,img2,img3]).transpose(1, 2, 0)\n",
    "img = transforms_train(image=image)['image']\n",
    "img.shape"
   ]
  },
  {
   "cell_type": "code",
   "execution_count": 16,
   "id": "c9db631c",
   "metadata": {
    "execution": {
     "iopub.execute_input": "2023-10-04T12:44:45.679590Z",
     "iopub.status.busy": "2023-10-04T12:44:45.679338Z",
     "iopub.status.idle": "2023-10-04T12:44:45.687222Z",
     "shell.execute_reply": "2023-10-04T12:44:45.686366Z"
    },
    "papermill": {
     "duration": 0.017079,
     "end_time": "2023-10-04T12:44:45.688865",
     "exception": false,
     "start_time": "2023-10-04T12:44:45.671786",
     "status": "completed"
    },
    "tags": []
   },
   "outputs": [],
   "source": [
    "#change two lines\n",
    "class CLSDataset(Dataset):\n",
    "    def __init__(self, df, mode, transform):\n",
    "\n",
    "        self.df = df.reset_index(drop=True)\n",
    "        self.mode = mode\n",
    "        self.transform = transform\n",
    "\n",
    "    def __len__(self):\n",
    "        return self.df.shape[0]\n",
    "\n",
    "    def __getitem__(self, index):\n",
    "#         row = self.df.iloc[index]\n",
    "#         cid = row.c\n",
    "        patient_id = self.df['patient_id'][index]\n",
    "        images = []\n",
    "        for ind in list(range(13,59,4)):\n",
    "            img1 = preprocess_jpeg(f'/kaggle/input/liver-train-images/output/{patient_id}/{ind-1}.png')\n",
    "            img2 = preprocess_jpeg(f'/kaggle/input/liver-train-images/output/{patient_id}/{ind}.png')\n",
    "            img3 = preprocess_jpeg(f'/kaggle/input/liver-train-images/output/{patient_id}/{ind+1}.png')\n",
    "            image = np.asarray([img1,img2,img3]).transpose(1, 2, 0)\n",
    "            image = self.transform(image=image)['image']\n",
    "            image = image.transpose(2, 0, 1).astype(np.float32) / 255.\n",
    "            images.append(image)\n",
    "        images = np.stack(images, 0)\n",
    "#         print(images.shape)\n",
    "        \n",
    "        label = self.df[self.df.patient_id == int(patient_id)].values[0][1:-1]\n",
    "        spleen = np.argmax(label[10:13], keepdims = False)\n",
    "\n",
    "        if self.mode != 'test':\n",
    "            images = torch.tensor(images).float()\n",
    "#             labels = torch.tensor([liver] * n_slice_per_c).float()\n",
    "            labels = torch.tensor([spleen] * n_slice_per_c)\n",
    "            \n",
    "            if self.mode == 'train' and random.random() < p_rand_order_v1:\n",
    "                indices = torch.randperm(images.size(0))\n",
    "                images = images[indices]\n",
    "\n",
    "            return images, labels\n",
    "        else:\n",
    "            return torch.tensor(images).float()\n"
   ]
  },
  {
   "cell_type": "markdown",
   "id": "19d84ce5",
   "metadata": {
    "execution": {
     "iopub.execute_input": "2023-09-30T17:28:01.19621Z",
     "iopub.status.busy": "2023-09-30T17:28:01.195466Z",
     "iopub.status.idle": "2023-09-30T17:28:01.618783Z",
     "shell.execute_reply": "2023-09-30T17:28:01.61817Z",
     "shell.execute_reply.started": "2023-09-30T17:28:01.196181Z"
    },
    "jupyter": {
     "outputs_hidden": true
    },
    "papermill": {
     "duration": 0.00627,
     "end_time": "2023-10-04T12:44:45.701885",
     "exception": false,
     "start_time": "2023-10-04T12:44:45.695615",
     "status": "completed"
    },
    "tags": []
   },
   "source": [
    "m = timm.create_model(\n",
    "            \"resnet50d\",\n",
    "            in_chans=in_chans,\n",
    "            num_classes=out_dim,\n",
    "            features_only=False,\n",
    "            drop_rate=drop_rate,\n",
    "            drop_path_rate=drop_path_rate,\n",
    "            pretrained=False\n",
    "        )\n",
    "m"
   ]
  },
  {
   "cell_type": "markdown",
   "id": "da23f5a7",
   "metadata": {
    "execution": {
     "iopub.execute_input": "2023-09-30T17:28:11.595054Z",
     "iopub.status.busy": "2023-09-30T17:28:11.5946Z",
     "iopub.status.idle": "2023-09-30T17:28:12.008734Z",
     "shell.execute_reply": "2023-09-30T17:28:12.007714Z",
     "shell.execute_reply.started": "2023-09-30T17:28:11.595018Z"
    },
    "jupyter": {
     "outputs_hidden": true
    },
    "papermill": {
     "duration": 0.00641,
     "end_time": "2023-10-04T12:44:45.714597",
     "exception": false,
     "start_time": "2023-10-04T12:44:45.708187",
     "status": "completed"
    },
    "tags": []
   },
   "source": [
    "m = timm.create_model(\n",
    "            backbone,\n",
    "            in_chans=in_chans,\n",
    "            num_classes=out_dim,\n",
    "            features_only=False,\n",
    "            drop_rate=drop_rate,\n",
    "            drop_path_rate=drop_path_rate,\n",
    "            pretrained=False\n",
    "        )\n",
    "m"
   ]
  },
  {
   "cell_type": "markdown",
   "id": "517f8864",
   "metadata": {
    "execution": {
     "iopub.execute_input": "2023-10-03T10:57:32.290253Z",
     "iopub.status.busy": "2023-10-03T10:57:32.28993Z",
     "iopub.status.idle": "2023-10-03T10:57:32.770257Z",
     "shell.execute_reply": "2023-10-03T10:57:32.769383Z",
     "shell.execute_reply.started": "2023-10-03T10:57:32.290225Z"
    },
    "jupyter": {
     "outputs_hidden": true
    },
    "papermill": {
     "duration": 0.006237,
     "end_time": "2023-10-04T12:44:45.727183",
     "exception": false,
     "start_time": "2023-10-04T12:44:45.720946",
     "status": "completed"
    },
    "tags": []
   },
   "source": [
    "m = timm.create_model(\n",
    "            \"legacy_seresnet50\",\n",
    "            in_chans=in_chans,\n",
    "            num_classes=out_dim,\n",
    "            features_only=False,\n",
    "            drop_rate=drop_rate,\n",
    "            pretrained=False\n",
    "        )\n",
    "m"
   ]
  },
  {
   "cell_type": "code",
   "execution_count": 17,
   "id": "b431ce0a",
   "metadata": {
    "execution": {
     "iopub.execute_input": "2023-10-04T12:44:45.741564Z",
     "iopub.status.busy": "2023-10-04T12:44:45.740734Z",
     "iopub.status.idle": "2023-10-04T12:44:45.748645Z",
     "shell.execute_reply": "2023-10-04T12:44:45.747899Z"
    },
    "papermill": {
     "duration": 0.016591,
     "end_time": "2023-10-04T12:44:45.750267",
     "exception": false,
     "start_time": "2023-10-04T12:44:45.733676",
     "status": "completed"
    },
    "tags": []
   },
   "outputs": [],
   "source": [
    "class TimmModel(nn.Module):\n",
    "    def __init__(self, backbone, pretrained=False):\n",
    "        super(TimmModel, self).__init__()\n",
    "\n",
    "        self.encoder = timm.create_model(\n",
    "            backbone,\n",
    "            in_chans=in_chans,\n",
    "            num_classes=out_dim,\n",
    "            features_only=False,\n",
    "            drop_rate=drop_rate,\n",
    "            pretrained=pretrained\n",
    "        )\n",
    "        \n",
    "        \n",
    "        if 'efficient' in backbone:\n",
    "            hdim = self.encoder.conv_head.out_channels\n",
    "            self.encoder.classifier = nn.Identity()\n",
    "        elif 'resnet' in backbone:\n",
    "            hdim = 2048\n",
    "            self.encoder.last_linear = nn.Identity()\n",
    "        elif 'convnext' in backbone:\n",
    "            hdim = self.encoder.head.fc.in_features\n",
    "            self.encoder.head.fc = nn.Identity()\n",
    "        self.lstm = nn.LSTM(hdim, 256, num_layers=2, dropout=drop_rate, bidirectional=True, batch_first=True)\n",
    "        self.head = nn.Sequential(\n",
    "            nn.Linear(512, 256),\n",
    "            nn.BatchNorm1d(256),\n",
    "            nn.Dropout(drop_rate_last),\n",
    "            nn.LeakyReLU(0.1),\n",
    "            nn.Linear(256, out_dim),\n",
    "        )\n",
    "    def forward(self, x):  # (bs, nslice, ch, sz, sz)\n",
    "        bs = x.shape[0]\n",
    "        x = x.view(bs * n_slice_per_c, in_chans, image_size, image_size)\n",
    "        feat = self.encoder(x)\n",
    "        feat = feat.view(bs, n_slice_per_c, -1)\n",
    "        feat, _ = self.lstm(feat)\n",
    "        feat = feat.contiguous().view(bs * n_slice_per_c, -1)\n",
    "        feat = self.head(feat)\n",
    "        feat = feat.view(bs, n_slice_per_c,-1).contiguous()\n",
    "\n",
    "        return feat"
   ]
  },
  {
   "cell_type": "code",
   "execution_count": 18,
   "id": "1027e160",
   "metadata": {
    "execution": {
     "iopub.execute_input": "2023-10-04T12:44:45.764864Z",
     "iopub.status.busy": "2023-10-04T12:44:45.764260Z",
     "iopub.status.idle": "2023-10-04T12:44:52.561620Z",
     "shell.execute_reply": "2023-10-04T12:44:52.560641Z"
    },
    "papermill": {
     "duration": 6.806647,
     "end_time": "2023-10-04T12:44:52.563422",
     "exception": false,
     "start_time": "2023-10-04T12:44:45.756775",
     "status": "completed"
    },
    "tags": []
   },
   "outputs": [
    {
     "data": {
      "text/plain": [
       "torch.Size([2, 12, 3])"
      ]
     },
     "execution_count": 18,
     "metadata": {},
     "output_type": "execute_result"
    }
   ],
   "source": [
    "m = TimmModel(backbone)\n",
    "out = m(torch.rand(2, n_slice_per_c, in_chans, image_size, image_size))\n",
    "out.shape"
   ]
  },
  {
   "cell_type": "code",
   "execution_count": 19,
   "id": "e47d5ee8",
   "metadata": {
    "execution": {
     "iopub.execute_input": "2023-10-04T12:44:52.578599Z",
     "iopub.status.busy": "2023-10-04T12:44:52.578246Z",
     "iopub.status.idle": "2023-10-04T12:44:55.554176Z",
     "shell.execute_reply": "2023-10-04T12:44:55.553219Z"
    },
    "papermill": {
     "duration": 2.985936,
     "end_time": "2023-10-04T12:44:55.556407",
     "exception": false,
     "start_time": "2023-10-04T12:44:52.570471",
     "status": "completed"
    },
    "tags": []
   },
   "outputs": [],
   "source": [
    "# bce = nn.BCEWithLogitsLoss(reduction='none')\n",
    "cce = nn.CrossEntropyLoss(label_smoothing = 0.05, weight = torch.tensor([1.0, 2.0, 4.0]).to('cuda'))\n",
    "\n",
    "\n",
    "def criterion(logits, targets, activated=False):\n",
    "    if activated:\n",
    "        losses = nn.BCELoss(reduction='none')(logits.view(-1), targets.view(-1))\n",
    "    else:\n",
    "        losses = cce(logits.view(-1,3), targets.view(-1))\n",
    "#     losses[targets.view(-1) > 0] *= 2.\n",
    "#     norm = torch.ones(logits.view(-1).shape[0]).to(device)\n",
    "#     norm[targets.view(-1) > 0] *= 2\n",
    "    return losses\n"
   ]
  },
  {
   "cell_type": "code",
   "execution_count": 20,
   "id": "c6591af1",
   "metadata": {
    "execution": {
     "iopub.execute_input": "2023-10-04T12:44:55.572115Z",
     "iopub.status.busy": "2023-10-04T12:44:55.571517Z",
     "iopub.status.idle": "2023-10-04T12:44:55.581388Z",
     "shell.execute_reply": "2023-10-04T12:44:55.580589Z"
    },
    "papermill": {
     "duration": 0.019593,
     "end_time": "2023-10-04T12:44:55.583085",
     "exception": false,
     "start_time": "2023-10-04T12:44:55.563492",
     "status": "completed"
    },
    "tags": []
   },
   "outputs": [],
   "source": [
    "def mixup(input, truth, clip=[0, 1]):\n",
    "    indices = torch.randperm(input.size(0))\n",
    "    shuffled_input = input[indices]\n",
    "    shuffled_labels = truth[indices]\n",
    "\n",
    "    lam = np.random.uniform(clip[0], clip[1])\n",
    "    input = input * lam + shuffled_input * (1 - lam)\n",
    "    return input, truth, shuffled_labels, lam\n",
    "def train_func(model, loader_train, optimizer, scaler=None):\n",
    "    model.train()\n",
    "    train_loss = []\n",
    "    bar = tqdm(loader_train)\n",
    "    for images, targets in bar:\n",
    "        optimizer.zero_grad()\n",
    "        images = images.cuda()\n",
    "        targets = targets.cuda()\n",
    "        \n",
    "        do_mixup = False\n",
    "        if random.random() < p_mixup:\n",
    "            do_mixup = True\n",
    "            images, targets, targets_mix, lam = mixup(images, targets)\n",
    "\n",
    "        with amp.autocast():\n",
    "            logits = model(images)\n",
    "            loss = criterion(logits, targets)\n",
    "            if do_mixup:\n",
    "                loss11 = criterion(logits, targets_mix)\n",
    "                loss = loss * lam  + loss11 * (1 - lam)\n",
    "        train_loss.append(loss.item())\n",
    "        scaler.scale(loss).backward()\n",
    "        scaler.step(optimizer)\n",
    "        scaler.update()\n",
    "        \n",
    "        bar.set_description(f'smth:{np.mean(train_loss[-30:]):.4f}')\n",
    "\n",
    "    return np.mean(train_loss)\n",
    "\n",
    "def valid_func(model, loader_valid):\n",
    "    model.eval()\n",
    "    valid_loss = []\n",
    "    gts = []\n",
    "    outputs = []\n",
    "    bar = tqdm(loader_valid)\n",
    "    tot_loss = 0\n",
    "    with torch.no_grad():\n",
    "        for images, targets in bar:\n",
    "            images = images.cuda()\n",
    "            targets = targets.cuda()\n",
    "\n",
    "            logits = model(images)\n",
    "            loss = criterion(logits, targets)\n",
    "            \n",
    "            gts.append(targets.cpu())\n",
    "            outputs.append(logits.cpu())\n",
    "            valid_loss.append(loss.item())\n",
    "            tot_loss += loss.item()\n",
    "            \n",
    "            bar.set_description(f'smth:{np.mean(valid_loss[-30:]):.4f}')\n",
    "\n",
    "    outputs = torch.cat(outputs)\n",
    "    gts = torch.cat(gts)\n",
    "#     valid_loss = criterion(outputs, gts).item()\n",
    "\n",
    "    return np.mean(valid_loss)"
   ]
  },
  {
   "cell_type": "code",
   "execution_count": 21,
   "id": "4046aa50",
   "metadata": {
    "execution": {
     "iopub.execute_input": "2023-10-04T12:44:55.596938Z",
     "iopub.status.busy": "2023-10-04T12:44:55.596704Z",
     "iopub.status.idle": "2023-10-04T12:44:55.836483Z",
     "shell.execute_reply": "2023-10-04T12:44:55.835641Z"
    },
    "papermill": {
     "duration": 0.248781,
     "end_time": "2023-10-04T12:44:55.838235",
     "exception": false,
     "start_time": "2023-10-04T12:44:55.589454",
     "status": "completed"
    },
    "tags": []
   },
   "outputs": [
    {
     "name": "stderr",
     "output_type": "stream",
     "text": [
      "/opt/conda/lib/python3.10/site-packages/torch/optim/lr_scheduler.py:139: UserWarning: Detected call of `lr_scheduler.step()` before `optimizer.step()`. In PyTorch 1.1.0 and later, you should call them in the opposite order: `optimizer.step()` before `lr_scheduler.step()`.  Failure to do this will result in PyTorch skipping the first value of the learning rate schedule. See more details at https://pytorch.org/docs/stable/optim.html#how-to-adjust-learning-rate\n",
      "  warnings.warn(\"Detected call of `lr_scheduler.step()` before `optimizer.step()`. \"\n",
      "/opt/conda/lib/python3.10/site-packages/torch/optim/lr_scheduler.py:152: UserWarning: The epoch parameter in `scheduler.step()` was not necessary and is being deprecated where possible. Please use `scheduler.step()` to step the scheduler. During the deprecation, if epoch is different from None, the closed form is used instead of the new chainable form, where available. Please open an issue if you are unable to replicate your use case: https://github.com/pytorch/pytorch/issues/new/choose.\n",
      "  warnings.warn(EPOCH_DEPRECATION_WARNING, UserWarning)\n"
     ]
    },
    {
     "data": {
      "text/plain": [
       "[<matplotlib.lines.Line2D at 0x7e736b35e830>]"
      ]
     },
     "execution_count": 21,
     "metadata": {},
     "output_type": "execute_result"
    },
    {
     "data": {
      "image/png": "[encoded data removed]",
      "text/plain": [
       "<Figure size 2000x200 with 1 Axes>"
      ]
     },
     "metadata": {},
     "output_type": "display_data"
    }
   ],
   "source": [
    "rcParams['figure.figsize'] = 20, 2\n",
    "optimizer = optim.AdamW(m.parameters(), lr=init_lr)\n",
    "scheduler_cosine = torch.optim.lr_scheduler.CosineAnnealingLR(optimizer, n_epochs, eta_min=eta_min)\n",
    "\n",
    "lrs = []\n",
    "for epoch in range(1, n_epochs+1):\n",
    "    scheduler_cosine.step(epoch-1)\n",
    "    lrs.append(optimizer.param_groups[0][\"lr\"])\n",
    "plt.plot(range(len(lrs)), lrs)"
   ]
  },
  {
   "cell_type": "code",
   "execution_count": 22,
   "id": "22f4359a",
   "metadata": {
    "execution": {
     "iopub.execute_input": "2023-10-04T12:44:55.854009Z",
     "iopub.status.busy": "2023-10-04T12:44:55.853168Z",
     "iopub.status.idle": "2023-10-04T12:44:55.861162Z",
     "shell.execute_reply": "2023-10-04T12:44:55.860389Z"
    },
    "papermill": {
     "duration": 0.017368,
     "end_time": "2023-10-04T12:44:55.862833",
     "exception": false,
     "start_time": "2023-10-04T12:44:55.845465",
     "status": "completed"
    },
    "tags": []
   },
   "outputs": [],
   "source": [
    "train_df = train_df.drop(['liver_det'],axis=1)\n",
    "valid_df = valid_df.drop(['liver_det'],axis=1)\n",
    "valid_df = valid_df.drop([2700,1017])"
   ]
  },
  {
   "cell_type": "code",
   "execution_count": 23,
   "id": "5525220b",
   "metadata": {
    "execution": {
     "iopub.execute_input": "2023-10-04T12:44:55.877565Z",
     "iopub.status.busy": "2023-10-04T12:44:55.877306Z",
     "iopub.status.idle": "2023-10-04T12:44:55.892041Z",
     "shell.execute_reply": "2023-10-04T12:44:55.891113Z"
    },
    "papermill": {
     "duration": 0.024007,
     "end_time": "2023-10-04T12:44:55.893657",
     "exception": false,
     "start_time": "2023-10-04T12:44:55.869650",
     "status": "completed"
    },
    "tags": []
   },
   "outputs": [
    {
     "data": {
      "text/html": [
       "<div>\n",
       "<style scoped>\n",
       "    .dataframe tbody tr th:only-of-type {\n",
       "        vertical-align: middle;\n",
       "    }\n",
       "\n",
       "    .dataframe tbody tr th {\n",
       "        vertical-align: top;\n",
       "    }\n",
       "\n",
       "    .dataframe thead th {\n",
       "        text-align: right;\n",
       "    }\n",
       "</style>\n",
       "<table border=\"1\" class=\"dataframe\">\n",
       "  <thead>\n",
       "    <tr style=\"text-align: right;\">\n",
       "      <th></th>\n",
       "      <th>patient_id</th>\n",
       "      <th>bowel_healthy</th>\n",
       "      <th>bowel_injury</th>\n",
       "      <th>extravasation_healthy</th>\n",
       "      <th>extravasation_injury</th>\n",
       "      <th>kidney_healthy</th>\n",
       "      <th>kidney_low</th>\n",
       "      <th>kidney_high</th>\n",
       "      <th>liver_healthy</th>\n",
       "      <th>liver_low</th>\n",
       "      <th>liver_high</th>\n",
       "      <th>spleen_healthy</th>\n",
       "      <th>spleen_low</th>\n",
       "      <th>spleen_high</th>\n",
       "      <th>any_injury</th>\n",
       "    </tr>\n",
       "  </thead>\n",
       "  <tbody>\n",
       "    <tr>\n",
       "      <th>0</th>\n",
       "      <td>10004</td>\n",
       "      <td>1</td>\n",
       "      <td>0</td>\n",
       "      <td>0</td>\n",
       "      <td>1</td>\n",
       "      <td>0</td>\n",
       "      <td>1</td>\n",
       "      <td>0</td>\n",
       "      <td>1</td>\n",
       "      <td>0</td>\n",
       "      <td>0</td>\n",
       "      <td>0</td>\n",
       "      <td>0</td>\n",
       "      <td>1</td>\n",
       "      <td>1</td>\n",
       "    </tr>\n",
       "    <tr>\n",
       "      <th>4</th>\n",
       "      <td>10051</td>\n",
       "      <td>1</td>\n",
       "      <td>0</td>\n",
       "      <td>1</td>\n",
       "      <td>0</td>\n",
       "      <td>1</td>\n",
       "      <td>0</td>\n",
       "      <td>0</td>\n",
       "      <td>1</td>\n",
       "      <td>0</td>\n",
       "      <td>0</td>\n",
       "      <td>0</td>\n",
       "      <td>1</td>\n",
       "      <td>0</td>\n",
       "      <td>1</td>\n",
       "    </tr>\n",
       "    <tr>\n",
       "      <th>10</th>\n",
       "      <td>10127</td>\n",
       "      <td>1</td>\n",
       "      <td>0</td>\n",
       "      <td>1</td>\n",
       "      <td>0</td>\n",
       "      <td>1</td>\n",
       "      <td>0</td>\n",
       "      <td>0</td>\n",
       "      <td>1</td>\n",
       "      <td>0</td>\n",
       "      <td>0</td>\n",
       "      <td>0</td>\n",
       "      <td>1</td>\n",
       "      <td>0</td>\n",
       "      <td>1</td>\n",
       "    </tr>\n",
       "    <tr>\n",
       "      <th>11</th>\n",
       "      <td>10132</td>\n",
       "      <td>1</td>\n",
       "      <td>0</td>\n",
       "      <td>1</td>\n",
       "      <td>0</td>\n",
       "      <td>1</td>\n",
       "      <td>0</td>\n",
       "      <td>0</td>\n",
       "      <td>1</td>\n",
       "      <td>0</td>\n",
       "      <td>0</td>\n",
       "      <td>0</td>\n",
       "      <td>0</td>\n",
       "      <td>1</td>\n",
       "      <td>1</td>\n",
       "    </tr>\n",
       "    <tr>\n",
       "      <th>16</th>\n",
       "      <td>10217</td>\n",
       "      <td>1</td>\n",
       "      <td>0</td>\n",
       "      <td>0</td>\n",
       "      <td>1</td>\n",
       "      <td>1</td>\n",
       "      <td>0</td>\n",
       "      <td>0</td>\n",
       "      <td>0</td>\n",
       "      <td>1</td>\n",
       "      <td>0</td>\n",
       "      <td>0</td>\n",
       "      <td>0</td>\n",
       "      <td>1</td>\n",
       "      <td>1</td>\n",
       "    </tr>\n",
       "    <tr>\n",
       "      <th>...</th>\n",
       "      <td>...</td>\n",
       "      <td>...</td>\n",
       "      <td>...</td>\n",
       "      <td>...</td>\n",
       "      <td>...</td>\n",
       "      <td>...</td>\n",
       "      <td>...</td>\n",
       "      <td>...</td>\n",
       "      <td>...</td>\n",
       "      <td>...</td>\n",
       "      <td>...</td>\n",
       "      <td>...</td>\n",
       "      <td>...</td>\n",
       "      <td>...</td>\n",
       "      <td>...</td>\n",
       "    </tr>\n",
       "    <tr>\n",
       "      <th>991</th>\n",
       "      <td>28213</td>\n",
       "      <td>1</td>\n",
       "      <td>0</td>\n",
       "      <td>1</td>\n",
       "      <td>0</td>\n",
       "      <td>0</td>\n",
       "      <td>1</td>\n",
       "      <td>0</td>\n",
       "      <td>1</td>\n",
       "      <td>0</td>\n",
       "      <td>0</td>\n",
       "      <td>1</td>\n",
       "      <td>0</td>\n",
       "      <td>0</td>\n",
       "      <td>1</td>\n",
       "    </tr>\n",
       "    <tr>\n",
       "      <th>993</th>\n",
       "      <td>28284</td>\n",
       "      <td>1</td>\n",
       "      <td>0</td>\n",
       "      <td>1</td>\n",
       "      <td>0</td>\n",
       "      <td>1</td>\n",
       "      <td>0</td>\n",
       "      <td>0</td>\n",
       "      <td>1</td>\n",
       "      <td>0</td>\n",
       "      <td>0</td>\n",
       "      <td>1</td>\n",
       "      <td>0</td>\n",
       "      <td>0</td>\n",
       "      <td>0</td>\n",
       "    </tr>\n",
       "    <tr>\n",
       "      <th>995</th>\n",
       "      <td>28294</td>\n",
       "      <td>1</td>\n",
       "      <td>0</td>\n",
       "      <td>1</td>\n",
       "      <td>0</td>\n",
       "      <td>1</td>\n",
       "      <td>0</td>\n",
       "      <td>0</td>\n",
       "      <td>1</td>\n",
       "      <td>0</td>\n",
       "      <td>0</td>\n",
       "      <td>1</td>\n",
       "      <td>0</td>\n",
       "      <td>0</td>\n",
       "      <td>0</td>\n",
       "    </tr>\n",
       "    <tr>\n",
       "      <th>996</th>\n",
       "      <td>28297</td>\n",
       "      <td>1</td>\n",
       "      <td>0</td>\n",
       "      <td>1</td>\n",
       "      <td>0</td>\n",
       "      <td>1</td>\n",
       "      <td>0</td>\n",
       "      <td>0</td>\n",
       "      <td>1</td>\n",
       "      <td>0</td>\n",
       "      <td>0</td>\n",
       "      <td>1</td>\n",
       "      <td>0</td>\n",
       "      <td>0</td>\n",
       "      <td>0</td>\n",
       "    </tr>\n",
       "    <tr>\n",
       "      <th>997</th>\n",
       "      <td>28302</td>\n",
       "      <td>1</td>\n",
       "      <td>0</td>\n",
       "      <td>1</td>\n",
       "      <td>0</td>\n",
       "      <td>1</td>\n",
       "      <td>0</td>\n",
       "      <td>0</td>\n",
       "      <td>1</td>\n",
       "      <td>0</td>\n",
       "      <td>0</td>\n",
       "      <td>1</td>\n",
       "      <td>0</td>\n",
       "      <td>0</td>\n",
       "      <td>0</td>\n",
       "    </tr>\n",
       "  </tbody>\n",
       "</table>\n",
       "<p>1010 rows × 15 columns</p>\n",
       "</div>"
      ],
      "text/plain": [
       "     patient_id  bowel_healthy  bowel_injury  extravasation_healthy  \\\n",
       "0         10004              1             0                      0   \n",
       "4         10051              1             0                      1   \n",
       "10        10127              1             0                      1   \n",
       "11        10132              1             0                      1   \n",
       "16        10217              1             0                      0   \n",
       "..          ...            ...           ...                    ...   \n",
       "991       28213              1             0                      1   \n",
       "993       28284              1             0                      1   \n",
       "995       28294              1             0                      1   \n",
       "996       28297              1             0                      1   \n",
       "997       28302              1             0                      1   \n",
       "\n",
       "     extravasation_injury  kidney_healthy  kidney_low  kidney_high  \\\n",
       "0                       1               0           1            0   \n",
       "4                       0               1           0            0   \n",
       "10                      0               1           0            0   \n",
       "11                      0               1           0            0   \n",
       "16                      1               1           0            0   \n",
       "..                    ...             ...         ...          ...   \n",
       "991                     0               0           1            0   \n",
       "993                     0               1           0            0   \n",
       "995                     0               1           0            0   \n",
       "996                     0               1           0            0   \n",
       "997                     0               1           0            0   \n",
       "\n",
       "     liver_healthy  liver_low  liver_high  spleen_healthy  spleen_low  \\\n",
       "0                1          0           0               0           0   \n",
       "4                1          0           0               0           1   \n",
       "10               1          0           0               0           1   \n",
       "11               1          0           0               0           0   \n",
       "16               0          1           0               0           0   \n",
       "..             ...        ...         ...             ...         ...   \n",
       "991              1          0           0               1           0   \n",
       "993              1          0           0               1           0   \n",
       "995              1          0           0               1           0   \n",
       "996              1          0           0               1           0   \n",
       "997              1          0           0               1           0   \n",
       "\n",
       "     spleen_high  any_injury  \n",
       "0              1           1  \n",
       "4              0           1  \n",
       "10             0           1  \n",
       "11             1           1  \n",
       "16             1           1  \n",
       "..           ...         ...  \n",
       "991            0           1  \n",
       "993            0           0  \n",
       "995            0           0  \n",
       "996            0           0  \n",
       "997            0           0  \n",
       "\n",
       "[1010 rows x 15 columns]"
      ]
     },
     "execution_count": 23,
     "metadata": {},
     "output_type": "execute_result"
    }
   ],
   "source": [
    "train_df"
   ]
  },
  {
   "cell_type": "code",
   "execution_count": 24,
   "id": "be01eb53",
   "metadata": {
    "execution": {
     "iopub.execute_input": "2023-10-04T12:44:55.909260Z",
     "iopub.status.busy": "2023-10-04T12:44:55.909037Z",
     "iopub.status.idle": "2023-10-04T13:56:54.162537Z",
     "shell.execute_reply": "2023-10-04T13:56:54.160808Z"
    },
    "papermill": {
     "duration": 4318.267391,
     "end_time": "2023-10-04T13:56:54.168278",
     "exception": false,
     "start_time": "2023-10-04T12:44:55.900887",
     "status": "completed"
    },
    "tags": []
   },
   "outputs": [
    {
     "name": "stderr",
     "output_type": "stream",
     "text": [
      "Downloading: \"https://github.com/rwightman/pytorch-image-models/releases/download/v0.1-cadene/se_resnet50-ce0d4300.pth\" to /root/.cache/torch/hub/checkpoints/se_resnet50-ce0d4300.pth\n"
     ]
    },
    {
     "name": "stdout",
     "output_type": "stream",
     "text": [
      "1010 208\n",
      "Wed Oct  4 12:45:05 2023 Epoch: 21\n"
     ]
    },
    {
     "name": "stderr",
     "output_type": "stream",
     "text": [
      "smth:0.9727: 100%|██████████| 63/63 [12:22<00:00, 11.79s/it]\n",
      "smth:1.3142: 100%|██████████| 13/13 [02:41<00:00, 12.39s/it]\n"
     ]
    },
    {
     "name": "stdout",
     "output_type": "stream",
     "text": [
      "Wed Oct  4 13:00:09 2023  Epoch 21, lr: 0.0003000, train loss: 0.96510, valid loss: 1.31416, metric: 1.314164.\n",
      "Wed Oct  4 13:00:10 2023 Epoch: 22\n"
     ]
    },
    {
     "name": "stderr",
     "output_type": "stream",
     "text": [
      "smth:0.9722: 100%|██████████| 63/63 [02:38<00:00,  2.52s/it]\n",
      "smth:0.8542: 100%|██████████| 13/13 [00:23<00:00,  1.84s/it]\n"
     ]
    },
    {
     "name": "stdout",
     "output_type": "stream",
     "text": [
      "Wed Oct  4 13:03:13 2023  Epoch 22, lr: 0.0002982, train loss: 0.96821, valid loss: 0.85417, metric: 0.854167.\n",
      "Wed Oct  4 13:03:15 2023 Epoch: 23\n"
     ]
    },
    {
     "name": "stderr",
     "output_type": "stream",
     "text": [
      "smth:0.9276: 100%|██████████| 63/63 [02:28<00:00,  2.36s/it]\n",
      "smth:0.8686: 100%|██████████| 13/13 [00:23<00:00,  1.81s/it]\n"
     ]
    },
    {
     "name": "stdout",
     "output_type": "stream",
     "text": [
      "Wed Oct  4 13:06:07 2023  Epoch 23, lr: 0.0002927, train loss: 0.93612, valid loss: 0.86855, metric: 0.868554.\n",
      "Wed Oct  4 13:06:08 2023 Epoch: 24\n"
     ]
    },
    {
     "name": "stderr",
     "output_type": "stream",
     "text": [
      "smth:0.9576: 100%|██████████| 63/63 [02:30<00:00,  2.38s/it]\n",
      "smth:0.8023: 100%|██████████| 13/13 [00:23<00:00,  1.80s/it]\n"
     ]
    },
    {
     "name": "stdout",
     "output_type": "stream",
     "text": [
      "Wed Oct  4 13:09:02 2023  Epoch 24, lr: 0.0002838, train loss: 0.96436, valid loss: 0.80231, metric: 0.802310.\n",
      "Wed Oct  4 13:09:04 2023 Epoch: 25\n"
     ]
    },
    {
     "name": "stderr",
     "output_type": "stream",
     "text": [
      "smth:0.9251: 100%|██████████| 63/63 [02:29<00:00,  2.37s/it]\n",
      "smth:0.8610: 100%|██████████| 13/13 [00:23<00:00,  1.84s/it]\n"
     ]
    },
    {
     "name": "stdout",
     "output_type": "stream",
     "text": [
      "Wed Oct  4 13:11:57 2023  Epoch 25, lr: 0.0002716, train loss: 0.93115, valid loss: 0.86099, metric: 0.860987.\n",
      "Wed Oct  4 13:11:59 2023 Epoch: 26\n"
     ]
    },
    {
     "name": "stderr",
     "output_type": "stream",
     "text": [
      "smth:0.9253: 100%|██████████| 63/63 [02:27<00:00,  2.34s/it]\n",
      "smth:0.8237: 100%|██████████| 13/13 [00:24<00:00,  1.89s/it]\n"
     ]
    },
    {
     "name": "stdout",
     "output_type": "stream",
     "text": [
      "Wed Oct  4 13:14:51 2023  Epoch 26, lr: 0.0002565, train loss: 0.91893, valid loss: 0.82367, metric: 0.823671.\n",
      "Wed Oct  4 13:14:52 2023 Epoch: 27\n"
     ]
    },
    {
     "name": "stderr",
     "output_type": "stream",
     "text": [
      "smth:0.9196: 100%|██████████| 63/63 [02:30<00:00,  2.38s/it]\n",
      "smth:0.7772: 100%|██████████| 13/13 [00:23<00:00,  1.80s/it]\n"
     ]
    },
    {
     "name": "stdout",
     "output_type": "stream",
     "text": [
      "Wed Oct  4 13:17:46 2023  Epoch 27, lr: 0.0002388, train loss: 0.93374, valid loss: 0.77725, metric: 0.777245.\n",
      "Wed Oct  4 13:17:48 2023 Epoch: 28\n"
     ]
    },
    {
     "name": "stderr",
     "output_type": "stream",
     "text": [
      "smth:0.9343: 100%|██████████| 63/63 [02:27<00:00,  2.34s/it]\n",
      "smth:0.8695: 100%|██████████| 13/13 [00:23<00:00,  1.84s/it]\n"
     ]
    },
    {
     "name": "stdout",
     "output_type": "stream",
     "text": [
      "Wed Oct  4 13:20:39 2023  Epoch 28, lr: 0.0002189, train loss: 0.92205, valid loss: 0.86952, metric: 0.869524.\n",
      "Wed Oct  4 13:20:42 2023 Epoch: 29\n"
     ]
    },
    {
     "name": "stderr",
     "output_type": "stream",
     "text": [
      "smth:0.9495: 100%|██████████| 63/63 [02:29<00:00,  2.37s/it]\n",
      "smth:0.7742: 100%|██████████| 13/13 [00:24<00:00,  1.86s/it]\n"
     ]
    },
    {
     "name": "stdout",
     "output_type": "stream",
     "text": [
      "Wed Oct  4 13:23:35 2023  Epoch 29, lr: 0.0001974, train loss: 0.92089, valid loss: 0.77418, metric: 0.774176.\n",
      "Wed Oct  4 13:23:37 2023 Epoch: 30\n"
     ]
    },
    {
     "name": "stderr",
     "output_type": "stream",
     "text": [
      "smth:0.8886: 100%|██████████| 63/63 [02:31<00:00,  2.40s/it]\n",
      "smth:0.9023: 100%|██████████| 13/13 [00:24<00:00,  1.92s/it]\n"
     ]
    },
    {
     "name": "stdout",
     "output_type": "stream",
     "text": [
      "Wed Oct  4 13:26:33 2023  Epoch 30, lr: 0.0001747, train loss: 0.90195, valid loss: 0.90230, metric: 0.902301.\n",
      "Wed Oct  4 13:26:34 2023 Epoch: 31\n"
     ]
    },
    {
     "name": "stderr",
     "output_type": "stream",
     "text": [
      "smth:0.8599: 100%|██████████| 63/63 [02:38<00:00,  2.52s/it]\n",
      "smth:0.9696: 100%|██████████| 13/13 [00:25<00:00,  1.96s/it]\n"
     ]
    },
    {
     "name": "stdout",
     "output_type": "stream",
     "text": [
      "Wed Oct  4 13:29:39 2023  Epoch 31, lr: 0.0001515, train loss: 0.86990, valid loss: 0.96961, metric: 0.969614.\n",
      "Wed Oct  4 13:29:40 2023 Epoch: 32\n"
     ]
    },
    {
     "name": "stderr",
     "output_type": "stream",
     "text": [
      "smth:0.8793: 100%|██████████| 63/63 [02:35<00:00,  2.47s/it]\n",
      "smth:0.8273: 100%|██████████| 13/13 [00:26<00:00,  2.00s/it]\n"
     ]
    },
    {
     "name": "stdout",
     "output_type": "stream",
     "text": [
      "Wed Oct  4 13:32:42 2023  Epoch 32, lr: 0.0001283, train loss: 0.87487, valid loss: 0.82725, metric: 0.827255.\n",
      "Wed Oct  4 13:32:44 2023 Epoch: 33\n"
     ]
    },
    {
     "name": "stderr",
     "output_type": "stream",
     "text": [
      "smth:0.8536: 100%|██████████| 63/63 [02:37<00:00,  2.51s/it]\n",
      "smth:1.1427: 100%|██████████| 13/13 [00:26<00:00,  2.03s/it]\n"
     ]
    },
    {
     "name": "stdout",
     "output_type": "stream",
     "text": [
      "Wed Oct  4 13:35:49 2023  Epoch 33, lr: 0.0001056, train loss: 0.85835, valid loss: 1.14270, metric: 1.142700.\n",
      "Wed Oct  4 13:35:50 2023 Epoch: 34\n"
     ]
    },
    {
     "name": "stderr",
     "output_type": "stream",
     "text": [
      "smth:0.8612: 100%|██████████| 63/63 [02:36<00:00,  2.49s/it]\n",
      "smth:0.8435: 100%|██████████| 13/13 [00:25<00:00,  1.96s/it]\n"
     ]
    },
    {
     "name": "stdout",
     "output_type": "stream",
     "text": [
      "Wed Oct  4 13:38:53 2023  Epoch 34, lr: 0.0000841, train loss: 0.86913, valid loss: 0.84349, metric: 0.843495.\n",
      "Wed Oct  4 13:38:54 2023 Epoch: 35\n"
     ]
    },
    {
     "name": "stderr",
     "output_type": "stream",
     "text": [
      "smth:0.8556: 100%|██████████| 63/63 [02:39<00:00,  2.53s/it]\n",
      "smth:0.8242: 100%|██████████| 13/13 [00:26<00:00,  2.01s/it]\n"
     ]
    },
    {
     "name": "stdout",
     "output_type": "stream",
     "text": [
      "Wed Oct  4 13:42:00 2023  Epoch 35, lr: 0.0000642, train loss: 0.85692, valid loss: 0.82415, metric: 0.824152.\n",
      "Wed Oct  4 13:42:01 2023 Epoch: 36\n"
     ]
    },
    {
     "name": "stderr",
     "output_type": "stream",
     "text": [
      "smth:0.7861: 100%|██████████| 63/63 [02:37<00:00,  2.50s/it]\n",
      "smth:0.9089: 100%|██████████| 13/13 [00:24<00:00,  1.86s/it]\n"
     ]
    },
    {
     "name": "stdout",
     "output_type": "stream",
     "text": [
      "Wed Oct  4 13:45:03 2023  Epoch 36, lr: 0.0000465, train loss: 0.80368, valid loss: 0.90889, metric: 0.908889.\n",
      "Wed Oct  4 13:45:05 2023 Epoch: 37\n"
     ]
    },
    {
     "name": "stderr",
     "output_type": "stream",
     "text": [
      "smth:0.7840: 100%|██████████| 63/63 [02:32<00:00,  2.42s/it]\n",
      "smth:0.8283: 100%|██████████| 13/13 [00:24<00:00,  1.89s/it]\n"
     ]
    },
    {
     "name": "stdout",
     "output_type": "stream",
     "text": [
      "Wed Oct  4 13:48:03 2023  Epoch 37, lr: 0.0000314, train loss: 0.80457, valid loss: 0.82826, metric: 0.828258.\n",
      "Wed Oct  4 13:48:04 2023 Epoch: 38\n"
     ]
    },
    {
     "name": "stderr",
     "output_type": "stream",
     "text": [
      "smth:0.8265: 100%|██████████| 63/63 [02:28<00:00,  2.35s/it]\n",
      "smth:0.8287: 100%|██████████| 13/13 [00:23<00:00,  1.81s/it]\n"
     ]
    },
    {
     "name": "stdout",
     "output_type": "stream",
     "text": [
      "Wed Oct  4 13:50:56 2023  Epoch 38, lr: 0.0000192, train loss: 0.78257, valid loss: 0.82868, metric: 0.828678.\n",
      "Wed Oct  4 13:50:58 2023 Epoch: 39\n"
     ]
    },
    {
     "name": "stderr",
     "output_type": "stream",
     "text": [
      "smth:0.8707: 100%|██████████| 63/63 [02:31<00:00,  2.40s/it]\n",
      "smth:0.8424: 100%|██████████| 13/13 [00:24<00:00,  1.92s/it]\n"
     ]
    },
    {
     "name": "stdout",
     "output_type": "stream",
     "text": [
      "Wed Oct  4 13:53:54 2023  Epoch 39, lr: 0.0000103, train loss: 0.81946, valid loss: 0.84235, metric: 0.842352.\n",
      "Wed Oct  4 13:53:56 2023 Epoch: 40\n"
     ]
    },
    {
     "name": "stderr",
     "output_type": "stream",
     "text": [
      "smth:0.7857: 100%|██████████| 63/63 [02:31<00:00,  2.41s/it]\n",
      "smth:0.8333: 100%|██████████| 13/13 [00:23<00:00,  1.82s/it]\n"
     ]
    },
    {
     "name": "stdout",
     "output_type": "stream",
     "text": [
      "Wed Oct  4 13:56:51 2023  Epoch 40, lr: 0.0000048, train loss: 0.77872, valid loss: 0.83326, metric: 0.833264.\n"
     ]
    }
   ],
   "source": [
    "dataset_train = CLSDataset(train_df, 'train', transform=transforms_train)\n",
    "dataset_valid = CLSDataset(valid_df, 'valid', transform=transforms_valid)\n",
    "loader_train = torch.utils.data.DataLoader(dataset_train, batch_size=batch_size, shuffle=True, num_workers=num_workers, drop_last=True)\n",
    "loader_valid = torch.utils.data.DataLoader(dataset_valid, batch_size=batch_size, shuffle=False, num_workers=num_workers)\n",
    "\n",
    "model = TimmModel(backbone, pretrained=True)\n",
    "model = model.to(device)\n",
    "chk = torch.load('/kaggle/input/spleense/last_epoch.pth')\n",
    "\n",
    "optimizer = optim.AdamW(model.parameters(), lr=init_lr)\n",
    "scaler = torch.cuda.amp.GradScaler() if use_amp else None\n",
    "\n",
    "model.load_state_dict(chk['model_state_dict'])\n",
    "optimizer.load_state_dict(chk['optimizer_state_dict'])\n",
    "scaler.load_state_dict(chk['scaler_state_dict'])\n",
    "\n",
    "metric_best = chk['score_best']\n",
    "loss_min = np.inf\n",
    "\n",
    "scheduler_cosine = torch.optim.lr_scheduler.CosineAnnealingWarmRestarts(optimizer, n_epochs, eta_min=eta_min)\n",
    "curr_epoch = chk['epoch']\n",
    "\n",
    "print(len(dataset_train), len(dataset_valid))\n",
    "\n",
    "for epoch in range(1+curr_epoch, curr_epoch+n_epochs+1):\n",
    "    scheduler_cosine.step(epoch-1)\n",
    "\n",
    "    print(time.ctime(), 'Epoch:', epoch)\n",
    "\n",
    "    train_loss = train_func(model, loader_train, optimizer, scaler)\n",
    "    valid_loss = valid_func(model, loader_valid)\n",
    "    metric = valid_loss\n",
    "\n",
    "    content = time.ctime() + ' ' + f' Epoch {epoch}, lr: {optimizer.param_groups[0][\"lr\"]:.7f}, train loss: {train_loss:.5f}, valid loss: {valid_loss:.5f}, metric: {(metric):.6f}.'\n",
    "    print(content)\n",
    "\n",
    "    if metric < metric_best:\n",
    "        print(f'metric_best ({metric_best:.6f} --> {metric:.6f}). Saving model ...')\n",
    "#             if not DEBUG:\n",
    "        torch.save(model.state_dict(), 'best_model.pth')\n",
    "        metric_best = metric\n",
    "    torch.cuda.empty_cache()\n",
    "    # Save Last\n",
    "    if(epoch%4==0):\n",
    "        torch.save(\n",
    "        {\n",
    "            'epoch': epoch,\n",
    "            'model_state_dict': model.state_dict(),\n",
    "            'optimizer_state_dict': optimizer.state_dict(),\n",
    "            'scaler_state_dict': scaler.state_dict() if scaler else None,\n",
    "            'score_best': metric_best,\n",
    "        },\n",
    "        f'checkpoint_{epoch}.pth'\n",
    "    )\n",
    "    torch.save(\n",
    "        {\n",
    "            'epoch': epoch,\n",
    "            'model_state_dict': model.state_dict(),\n",
    "            'optimizer_state_dict': optimizer.state_dict(),\n",
    "            'scaler_state_dict': scaler.state_dict() if scaler else None,\n",
    "            'score_best': metric_best,\n",
    "        },\n",
    "        'last_epoch.pth'\n",
    "    )\n"
   ]
  },
  {
   "cell_type": "code",
   "execution_count": 25,
   "id": "cfccecc5",
   "metadata": {
    "execution": {
     "iopub.execute_input": "2023-10-04T13:56:54.474382Z",
     "iopub.status.busy": "2023-10-04T13:56:54.473545Z",
     "iopub.status.idle": "2023-10-04T13:56:54.479156Z",
     "shell.execute_reply": "2023-10-04T13:56:54.478278Z"
    },
    "papermill": {
     "duration": 0.146631,
     "end_time": "2023-10-04T13:56:54.481118",
     "exception": false,
     "start_time": "2023-10-04T13:56:54.334487",
     "status": "completed"
    },
    "tags": []
   },
   "outputs": [],
   "source": [
    "torch.cuda.empty_cache()"
   ]
  },
  {
   "cell_type": "code",
   "execution_count": null,
   "id": "217fd50a",
   "metadata": {
    "papermill": {
     "duration": 0.200188,
     "end_time": "2023-10-04T13:56:54.824774",
     "exception": false,
     "start_time": "2023-10-04T13:56:54.624586",
     "status": "completed"
    },
    "tags": []
   },
   "outputs": [],
   "source": []
  }
 ],
 "metadata": {
  "kernelspec": {
   "display_name": "Python 3",
   "language": "python",
   "name": "python3"
  },
  "language_info": {
   "codemirror_mode": {
    "name": "ipython",
    "version": 3
   },
   "file_extension": ".py",
   "mimetype": "text/x-python",
   "name": "python",
   "nbconvert_exporter": "python",
   "pygments_lexer": "ipython3",
   "version": "3.10.12"
  },
  "papermill": {
   "default_parameters": {},
   "duration": 4353.721474,
   "end_time": "2023-10-04T13:56:58.335168",
   "environment_variables": {},
   "exception": null,
   "input_path": "__notebook__.ipynb",
   "output_path": "__notebook__.ipynb",
   "parameters": {},
   "start_time": "2023-10-04T12:44:24.613694",
   "version": "2.4.0"
  }
 },
 "nbformat": 4,
 "nbformat_minor": 5
}
