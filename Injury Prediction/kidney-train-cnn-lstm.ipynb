{
 "cells": [
  {
   "cell_type": "code",
   "execution_count": 1,
   "id": "2bd3e737",
   "metadata": {
    "execution": {
     "iopub.execute_input": "2023-10-12T07:15:50.592730Z",
     "iopub.status.busy": "2023-10-12T07:15:50.592402Z",
     "iopub.status.idle": "2023-10-12T07:15:57.939822Z",
     "shell.execute_reply": "2023-10-12T07:15:57.938841Z"
    },
    "papermill": {
     "duration": 7.356898,
     "end_time": "2023-10-12T07:15:57.941983",
     "exception": false,
     "start_time": "2023-10-12T07:15:50.585085",
     "status": "completed"
    },
    "tags": []
   },
   "outputs": [
    {
     "name": "stderr",
     "output_type": "stream",
     "text": [
      "/opt/conda/lib/python3.10/site-packages/scipy/__init__.py:146: UserWarning: A NumPy version >=1.16.5 and <1.23.0 is required for this version of SciPy (detected version 1.23.5\n",
      "  warnings.warn(f\"A NumPy version >={np_minversion} and <{np_maxversion}\"\n"
     ]
    }
   ],
   "source": [
    "import os\n",
    "import sys\n",
    "import gc\n",
    "import ast\n",
    "import cv2\n",
    "import time\n",
    "import timm\n",
    "import pickle\n",
    "import random\n",
    "import argparse\n",
    "import warnings\n",
    "import numpy as np \n",
    "import pandas as pd\n",
    "from glob import glob\n",
    "from PIL import Image\n",
    "from tqdm import tqdm\n",
    "import albumentations\n",
    "from pylab import rcParams\n",
    "import matplotlib.pyplot as plt\n",
    "from sklearn.model_selection import KFold, StratifiedKFold\n",
    "\n",
    "import torch\n",
    "import torch.nn as nn\n",
    "import torch.optim as optim\n",
    "import torch.cuda.amp as amp\n",
    "import torch.nn.functional as F\n",
    "from torch.utils.data import DataLoader, Dataset\n",
    "\n",
    "device = torch.device('cuda')\n",
    "torch.backends.cudnn.benchmark = True"
   ]
  },
  {
   "cell_type": "code",
   "execution_count": 2,
   "id": "76e8849d",
   "metadata": {
    "execution": {
     "iopub.execute_input": "2023-10-12T07:15:57.954802Z",
     "iopub.status.busy": "2023-10-12T07:15:57.954377Z",
     "iopub.status.idle": "2023-10-12T07:15:57.959609Z",
     "shell.execute_reply": "2023-10-12T07:15:57.958609Z"
    },
    "papermill": {
     "duration": 0.013814,
     "end_time": "2023-10-12T07:15:57.961819",
     "exception": false,
     "start_time": "2023-10-12T07:15:57.948005",
     "status": "completed"
    },
    "tags": []
   },
   "outputs": [],
   "source": [
    "image_size = 224\n",
    "n_slice_per_c = 12    # number of slices for each instance\n",
    "in_chans = 3      # number of channels in input to CNN\n",
    "backbone = 'legacy_seresnet50'\n",
    " \n",
    "init_lr = 3e-4\n",
    "eta_min = 3e-5\n",
    "batch_size = 16 \n",
    "drop_rate = 0.2\n",
    "drop_rate_last = 0.3\n",
    "drop_path_rate = 0.\n",
    "p_mixup = 0.5\n",
    "p_rand_order_v1 = 0.2    #probabilty of random arrangement of images\n",
    "\n",
    "data_dir = '../input/rsna-cropped-2d-224-0920-2m/cropped_2d_224_15_ext0_5ch_0920_2m/cropped_2d_224_15_ext0_5ch_0920_2m'\n",
    "use_amp = True\n",
    "num_workers = 2\n",
    "out_dim = 3           # number of output classes\n",
    "\n",
    "n_epochs = 60\n",
    "\n",
    "# log_dir = './logs'\n",
    "# model_dir = './models'\n",
    "# os.makedirs(log_dir, exist_ok=True)\n",
    "# os.makedirs(model_dir, exist_ok=True)"
   ]
  },
  {
   "cell_type": "code",
   "execution_count": 3,
   "id": "3a926e9f",
   "metadata": {
    "execution": {
     "iopub.execute_input": "2023-10-12T07:15:57.973770Z",
     "iopub.status.busy": "2023-10-12T07:15:57.973480Z",
     "iopub.status.idle": "2023-10-12T07:15:57.977849Z",
     "shell.execute_reply": "2023-10-12T07:15:57.976895Z"
    },
    "papermill": {
     "duration": 0.012898,
     "end_time": "2023-10-12T07:15:57.979941",
     "exception": false,
     "start_time": "2023-10-12T07:15:57.967043",
     "status": "completed"
    },
    "tags": []
   },
   "outputs": [
    {
     "name": "stdout",
     "output_type": "stream",
     "text": [
      "60\n"
     ]
    }
   ],
   "source": [
    "print(n_epochs)"
   ]
  },
  {
   "cell_type": "code",
   "execution_count": 4,
   "id": "3a0e7dc5",
   "metadata": {
    "execution": {
     "iopub.execute_input": "2023-10-12T07:15:57.992668Z",
     "iopub.status.busy": "2023-10-12T07:15:57.991903Z",
     "iopub.status.idle": "2023-10-12T07:15:58.004135Z",
     "shell.execute_reply": "2023-10-12T07:15:58.002840Z"
    },
    "papermill": {
     "duration": 0.020631,
     "end_time": "2023-10-12T07:15:58.005878",
     "exception": false,
     "start_time": "2023-10-12T07:15:57.985247",
     "status": "completed"
    },
    "tags": []
   },
   "outputs": [
    {
     "name": "stderr",
     "output_type": "stream",
     "text": [
      "/opt/conda/lib/python3.10/site-packages/albumentations/augmentations/transforms.py:1258: FutureWarning: This class has been deprecated. Please use RandomBrightnessContrast\n",
      "  warnings.warn(\n",
      "/opt/conda/lib/python3.10/site-packages/albumentations/augmentations/blur/transforms.py:184: UserWarning: blur_limit and sigma_limit minimum value can not be both equal to 0. blur_limit minimum value changed to 3.\n",
      "  warnings.warn(\n",
      "/opt/conda/lib/python3.10/site-packages/albumentations/augmentations/dropout/cutout.py:49: FutureWarning: Cutout has been deprecated. Please use CoarseDropout\n",
      "  warnings.warn(\n"
     ]
    }
   ],
   "source": [
    "transforms_train = albumentations.Compose([\n",
    "    albumentations.Crop(x_min=0, y_min=56, x_max=400, y_max=456,always_apply=True),\n",
    "    albumentations.Resize(224, 224),\n",
    "    albumentations.HorizontalFlip(p=0.5),\n",
    "    albumentations.VerticalFlip(p=0.5),\n",
    "    albumentations.Transpose(p=0.5),\n",
    "    albumentations.RandomBrightness(limit=0.1, p=0.7),\n",
    "    albumentations.ShiftScaleRotate(shift_limit=0.3, scale_limit=0.3, rotate_limit=45, border_mode=4, p=0.7),\n",
    "\n",
    "    albumentations.OneOf([\n",
    "        albumentations.MotionBlur(blur_limit=3),\n",
    "        albumentations.MedianBlur(blur_limit=3),\n",
    "        albumentations.GaussianBlur(blur_limit=3),\n",
    "        albumentations.GaussNoise(var_limit=(3.0, 9.0)),\n",
    "    ], p=0.5),\n",
    "    albumentations.OneOf([\n",
    "        albumentations.OpticalDistortion(distort_limit=1.),\n",
    "        albumentations.GridDistortion(num_steps=5, distort_limit=1.),\n",
    "    ], p=0.5),\n",
    "\n",
    "    albumentations.Cutout(max_h_size=int(224 * 0.5), max_w_size=int(224 * 0.5), num_holes=1, p=0.5),\n",
    "])\n",
    "\n",
    "transforms_valid = albumentations.Compose([\n",
    "    albumentations.Crop(x_min=0, y_min=56, x_max=400, y_max=456,always_apply=True),\n",
    "    albumentations.Resize(224, 224),\n",
    "])\n"
   ]
  },
  {
   "cell_type": "code",
   "execution_count": 5,
   "id": "a442a8ad",
   "metadata": {
    "execution": {
     "iopub.execute_input": "2023-10-12T07:15:58.017944Z",
     "iopub.status.busy": "2023-10-12T07:15:58.017438Z",
     "iopub.status.idle": "2023-10-12T07:15:58.215254Z",
     "shell.execute_reply": "2023-10-12T07:15:58.214274Z"
    },
    "papermill": {
     "duration": 0.206156,
     "end_time": "2023-10-12T07:15:58.217460",
     "exception": false,
     "start_time": "2023-10-12T07:15:58.011304",
     "status": "completed"
    },
    "tags": []
   },
   "outputs": [],
   "source": [
    "train_df = pd.read_csv('/kaggle/input/rsna-2023-abdominal-trauma-detection/train.csv')\n",
    "with open('/kaggle/input/liver-train-images/conv_range.pkl', 'rb') as f:\n",
    "    conv_range = pickle.load(f)"
   ]
  },
  {
   "cell_type": "code",
   "execution_count": 6,
   "id": "c6322590",
   "metadata": {
    "execution": {
     "iopub.execute_input": "2023-10-12T07:15:58.229939Z",
     "iopub.status.busy": "2023-10-12T07:15:58.229644Z",
     "iopub.status.idle": "2023-10-12T07:16:01.327323Z",
     "shell.execute_reply": "2023-10-12T07:16:01.326445Z"
    },
    "papermill": {
     "duration": 3.106025,
     "end_time": "2023-10-12T07:16:01.329284",
     "exception": false,
     "start_time": "2023-10-12T07:15:58.223259",
     "status": "completed"
    },
    "tags": []
   },
   "outputs": [
    {
     "name": "stderr",
     "output_type": "stream",
     "text": [
      "100%|██████████| 2858/2858 [00:03<00:00, 926.96it/s]\n"
     ]
    }
   ],
   "source": [
    "train_df['liver_det'] = False\n",
    "for item in tqdm(conv_range):\n",
    "    train_df.loc[train_df['patient_id']==int(item),['liver_det']] = True"
   ]
  },
  {
   "cell_type": "code",
   "execution_count": 7,
   "id": "ac32ec98",
   "metadata": {
    "execution": {
     "iopub.execute_input": "2023-10-12T07:16:01.344402Z",
     "iopub.status.busy": "2023-10-12T07:16:01.344131Z",
     "iopub.status.idle": "2023-10-12T07:16:01.351136Z",
     "shell.execute_reply": "2023-10-12T07:16:01.350108Z"
    },
    "papermill": {
     "duration": 0.016596,
     "end_time": "2023-10-12T07:16:01.352980",
     "exception": false,
     "start_time": "2023-10-12T07:16:01.336384",
     "status": "completed"
    },
    "tags": []
   },
   "outputs": [],
   "source": [
    "train_df = train_df[train_df['liver_det']==True]"
   ]
  },
  {
   "cell_type": "code",
   "execution_count": 8,
   "id": "198d6f3f",
   "metadata": {
    "execution": {
     "iopub.execute_input": "2023-10-12T07:16:01.367522Z",
     "iopub.status.busy": "2023-10-12T07:16:01.367274Z",
     "iopub.status.idle": "2023-10-12T07:16:01.385929Z",
     "shell.execute_reply": "2023-10-12T07:16:01.384909Z"
    },
    "papermill": {
     "duration": 0.028065,
     "end_time": "2023-10-12T07:16:01.387836",
     "exception": false,
     "start_time": "2023-10-12T07:16:01.359771",
     "status": "completed"
    },
    "tags": []
   },
   "outputs": [
    {
     "data": {
      "text/html": [
       "<div>\n",
       "<style scoped>\n",
       "    .dataframe tbody tr th:only-of-type {\n",
       "        vertical-align: middle;\n",
       "    }\n",
       "\n",
       "    .dataframe tbody tr th {\n",
       "        vertical-align: top;\n",
       "    }\n",
       "\n",
       "    .dataframe thead th {\n",
       "        text-align: right;\n",
       "    }\n",
       "</style>\n",
       "<table border=\"1\" class=\"dataframe\">\n",
       "  <thead>\n",
       "    <tr style=\"text-align: right;\">\n",
       "      <th></th>\n",
       "      <th>patient_id</th>\n",
       "      <th>bowel_healthy</th>\n",
       "      <th>bowel_injury</th>\n",
       "      <th>extravasation_healthy</th>\n",
       "      <th>extravasation_injury</th>\n",
       "      <th>kidney_healthy</th>\n",
       "      <th>kidney_low</th>\n",
       "      <th>kidney_high</th>\n",
       "      <th>liver_healthy</th>\n",
       "      <th>liver_low</th>\n",
       "      <th>liver_high</th>\n",
       "      <th>spleen_healthy</th>\n",
       "      <th>spleen_low</th>\n",
       "      <th>spleen_high</th>\n",
       "      <th>any_injury</th>\n",
       "      <th>liver_det</th>\n",
       "    </tr>\n",
       "  </thead>\n",
       "  <tbody>\n",
       "    <tr>\n",
       "      <th>0</th>\n",
       "      <td>10004</td>\n",
       "      <td>1</td>\n",
       "      <td>0</td>\n",
       "      <td>0</td>\n",
       "      <td>1</td>\n",
       "      <td>0</td>\n",
       "      <td>1</td>\n",
       "      <td>0</td>\n",
       "      <td>1</td>\n",
       "      <td>0</td>\n",
       "      <td>0</td>\n",
       "      <td>0</td>\n",
       "      <td>0</td>\n",
       "      <td>1</td>\n",
       "      <td>1</td>\n",
       "      <td>True</td>\n",
       "    </tr>\n",
       "    <tr>\n",
       "      <th>1</th>\n",
       "      <td>10005</td>\n",
       "      <td>1</td>\n",
       "      <td>0</td>\n",
       "      <td>1</td>\n",
       "      <td>0</td>\n",
       "      <td>1</td>\n",
       "      <td>0</td>\n",
       "      <td>0</td>\n",
       "      <td>1</td>\n",
       "      <td>0</td>\n",
       "      <td>0</td>\n",
       "      <td>1</td>\n",
       "      <td>0</td>\n",
       "      <td>0</td>\n",
       "      <td>0</td>\n",
       "      <td>True</td>\n",
       "    </tr>\n",
       "    <tr>\n",
       "      <th>2</th>\n",
       "      <td>10007</td>\n",
       "      <td>1</td>\n",
       "      <td>0</td>\n",
       "      <td>1</td>\n",
       "      <td>0</td>\n",
       "      <td>1</td>\n",
       "      <td>0</td>\n",
       "      <td>0</td>\n",
       "      <td>1</td>\n",
       "      <td>0</td>\n",
       "      <td>0</td>\n",
       "      <td>1</td>\n",
       "      <td>0</td>\n",
       "      <td>0</td>\n",
       "      <td>0</td>\n",
       "      <td>True</td>\n",
       "    </tr>\n",
       "    <tr>\n",
       "      <th>3</th>\n",
       "      <td>10026</td>\n",
       "      <td>1</td>\n",
       "      <td>0</td>\n",
       "      <td>1</td>\n",
       "      <td>0</td>\n",
       "      <td>1</td>\n",
       "      <td>0</td>\n",
       "      <td>0</td>\n",
       "      <td>1</td>\n",
       "      <td>0</td>\n",
       "      <td>0</td>\n",
       "      <td>1</td>\n",
       "      <td>0</td>\n",
       "      <td>0</td>\n",
       "      <td>0</td>\n",
       "      <td>True</td>\n",
       "    </tr>\n",
       "    <tr>\n",
       "      <th>4</th>\n",
       "      <td>10051</td>\n",
       "      <td>1</td>\n",
       "      <td>0</td>\n",
       "      <td>1</td>\n",
       "      <td>0</td>\n",
       "      <td>1</td>\n",
       "      <td>0</td>\n",
       "      <td>0</td>\n",
       "      <td>1</td>\n",
       "      <td>0</td>\n",
       "      <td>0</td>\n",
       "      <td>0</td>\n",
       "      <td>1</td>\n",
       "      <td>0</td>\n",
       "      <td>1</td>\n",
       "      <td>True</td>\n",
       "    </tr>\n",
       "    <tr>\n",
       "      <th>...</th>\n",
       "      <td>...</td>\n",
       "      <td>...</td>\n",
       "      <td>...</td>\n",
       "      <td>...</td>\n",
       "      <td>...</td>\n",
       "      <td>...</td>\n",
       "      <td>...</td>\n",
       "      <td>...</td>\n",
       "      <td>...</td>\n",
       "      <td>...</td>\n",
       "      <td>...</td>\n",
       "      <td>...</td>\n",
       "      <td>...</td>\n",
       "      <td>...</td>\n",
       "      <td>...</td>\n",
       "      <td>...</td>\n",
       "    </tr>\n",
       "    <tr>\n",
       "      <th>3142</th>\n",
       "      <td>9951</td>\n",
       "      <td>1</td>\n",
       "      <td>0</td>\n",
       "      <td>1</td>\n",
       "      <td>0</td>\n",
       "      <td>1</td>\n",
       "      <td>0</td>\n",
       "      <td>0</td>\n",
       "      <td>1</td>\n",
       "      <td>0</td>\n",
       "      <td>0</td>\n",
       "      <td>1</td>\n",
       "      <td>0</td>\n",
       "      <td>0</td>\n",
       "      <td>0</td>\n",
       "      <td>True</td>\n",
       "    </tr>\n",
       "    <tr>\n",
       "      <th>3143</th>\n",
       "      <td>9960</td>\n",
       "      <td>1</td>\n",
       "      <td>0</td>\n",
       "      <td>1</td>\n",
       "      <td>0</td>\n",
       "      <td>1</td>\n",
       "      <td>0</td>\n",
       "      <td>0</td>\n",
       "      <td>1</td>\n",
       "      <td>0</td>\n",
       "      <td>0</td>\n",
       "      <td>1</td>\n",
       "      <td>0</td>\n",
       "      <td>0</td>\n",
       "      <td>0</td>\n",
       "      <td>True</td>\n",
       "    </tr>\n",
       "    <tr>\n",
       "      <th>3144</th>\n",
       "      <td>9961</td>\n",
       "      <td>1</td>\n",
       "      <td>0</td>\n",
       "      <td>1</td>\n",
       "      <td>0</td>\n",
       "      <td>1</td>\n",
       "      <td>0</td>\n",
       "      <td>0</td>\n",
       "      <td>1</td>\n",
       "      <td>0</td>\n",
       "      <td>0</td>\n",
       "      <td>1</td>\n",
       "      <td>0</td>\n",
       "      <td>0</td>\n",
       "      <td>0</td>\n",
       "      <td>True</td>\n",
       "    </tr>\n",
       "    <tr>\n",
       "      <th>3145</th>\n",
       "      <td>9980</td>\n",
       "      <td>1</td>\n",
       "      <td>0</td>\n",
       "      <td>1</td>\n",
       "      <td>0</td>\n",
       "      <td>1</td>\n",
       "      <td>0</td>\n",
       "      <td>0</td>\n",
       "      <td>1</td>\n",
       "      <td>0</td>\n",
       "      <td>0</td>\n",
       "      <td>0</td>\n",
       "      <td>0</td>\n",
       "      <td>1</td>\n",
       "      <td>1</td>\n",
       "      <td>True</td>\n",
       "    </tr>\n",
       "    <tr>\n",
       "      <th>3146</th>\n",
       "      <td>9983</td>\n",
       "      <td>1</td>\n",
       "      <td>0</td>\n",
       "      <td>1</td>\n",
       "      <td>0</td>\n",
       "      <td>1</td>\n",
       "      <td>0</td>\n",
       "      <td>0</td>\n",
       "      <td>1</td>\n",
       "      <td>0</td>\n",
       "      <td>0</td>\n",
       "      <td>0</td>\n",
       "      <td>0</td>\n",
       "      <td>1</td>\n",
       "      <td>1</td>\n",
       "      <td>True</td>\n",
       "    </tr>\n",
       "  </tbody>\n",
       "</table>\n",
       "<p>2858 rows × 16 columns</p>\n",
       "</div>"
      ],
      "text/plain": [
       "      patient_id  bowel_healthy  bowel_injury  extravasation_healthy  \\\n",
       "0          10004              1             0                      0   \n",
       "1          10005              1             0                      1   \n",
       "2          10007              1             0                      1   \n",
       "3          10026              1             0                      1   \n",
       "4          10051              1             0                      1   \n",
       "...          ...            ...           ...                    ...   \n",
       "3142        9951              1             0                      1   \n",
       "3143        9960              1             0                      1   \n",
       "3144        9961              1             0                      1   \n",
       "3145        9980              1             0                      1   \n",
       "3146        9983              1             0                      1   \n",
       "\n",
       "      extravasation_injury  kidney_healthy  kidney_low  kidney_high  \\\n",
       "0                        1               0           1            0   \n",
       "1                        0               1           0            0   \n",
       "2                        0               1           0            0   \n",
       "3                        0               1           0            0   \n",
       "4                        0               1           0            0   \n",
       "...                    ...             ...         ...          ...   \n",
       "3142                     0               1           0            0   \n",
       "3143                     0               1           0            0   \n",
       "3144                     0               1           0            0   \n",
       "3145                     0               1           0            0   \n",
       "3146                     0               1           0            0   \n",
       "\n",
       "      liver_healthy  liver_low  liver_high  spleen_healthy  spleen_low  \\\n",
       "0                 1          0           0               0           0   \n",
       "1                 1          0           0               1           0   \n",
       "2                 1          0           0               1           0   \n",
       "3                 1          0           0               1           0   \n",
       "4                 1          0           0               0           1   \n",
       "...             ...        ...         ...             ...         ...   \n",
       "3142              1          0           0               1           0   \n",
       "3143              1          0           0               1           0   \n",
       "3144              1          0           0               1           0   \n",
       "3145              1          0           0               0           0   \n",
       "3146              1          0           0               0           0   \n",
       "\n",
       "      spleen_high  any_injury  liver_det  \n",
       "0               1           1       True  \n",
       "1               0           0       True  \n",
       "2               0           0       True  \n",
       "3               0           0       True  \n",
       "4               0           1       True  \n",
       "...           ...         ...        ...  \n",
       "3142            0           0       True  \n",
       "3143            0           0       True  \n",
       "3144            0           0       True  \n",
       "3145            1           1       True  \n",
       "3146            1           1       True  \n",
       "\n",
       "[2858 rows x 16 columns]"
      ]
     },
     "execution_count": 8,
     "metadata": {},
     "output_type": "execute_result"
    }
   ],
   "source": [
    "train_df"
   ]
  },
  {
   "cell_type": "code",
   "execution_count": 9,
   "id": "c6b8120b",
   "metadata": {
    "execution": {
     "iopub.execute_input": "2023-10-12T07:16:01.404626Z",
     "iopub.status.busy": "2023-10-12T07:16:01.403777Z",
     "iopub.status.idle": "2023-10-12T07:16:01.409667Z",
     "shell.execute_reply": "2023-10-12T07:16:01.408832Z"
    },
    "papermill": {
     "duration": 0.015803,
     "end_time": "2023-10-12T07:16:01.411466",
     "exception": false,
     "start_time": "2023-10-12T07:16:01.395663",
     "status": "completed"
    },
    "tags": []
   },
   "outputs": [
    {
     "data": {
      "text/plain": [
       "2858"
      ]
     },
     "execution_count": 9,
     "metadata": {},
     "output_type": "execute_result"
    }
   ],
   "source": [
    "len(train_df)"
   ]
  },
  {
   "cell_type": "markdown",
   "id": "832cfcda",
   "metadata": {
    "execution": {
     "iopub.execute_input": "2023-10-08T13:57:00.185445Z",
     "iopub.status.busy": "2023-10-08T13:57:00.184834Z",
     "iopub.status.idle": "2023-10-08T13:57:00.196569Z",
     "shell.execute_reply": "2023-10-08T13:57:00.195706Z",
     "shell.execute_reply.started": "2023-10-08T13:57:00.185385Z"
    },
    "papermill": {
     "duration": 0.007402,
     "end_time": "2023-10-12T07:16:01.425983",
     "exception": false,
     "start_time": "2023-10-12T07:16:01.418581",
     "status": "completed"
    },
    "tags": []
   },
   "source": [
    "train_df = train_df.drop([2700,1017,2099,2651])"
   ]
  },
  {
   "cell_type": "code",
   "execution_count": 10,
   "id": "e7465ac5",
   "metadata": {
    "execution": {
     "iopub.execute_input": "2023-10-12T07:16:01.441931Z",
     "iopub.status.busy": "2023-10-12T07:16:01.441579Z",
     "iopub.status.idle": "2023-10-12T07:16:01.448296Z",
     "shell.execute_reply": "2023-10-12T07:16:01.447419Z"
    },
    "papermill": {
     "duration": 0.016679,
     "end_time": "2023-10-12T07:16:01.450000",
     "exception": false,
     "start_time": "2023-10-12T07:16:01.433321",
     "status": "completed"
    },
    "tags": []
   },
   "outputs": [
    {
     "data": {
      "text/plain": [
       "171"
      ]
     },
     "execution_count": 10,
     "metadata": {},
     "output_type": "execute_result"
    }
   ],
   "source": [
    "len(train_df[train_df['kidney_healthy']==0])"
   ]
  },
  {
   "cell_type": "code",
   "execution_count": 11,
   "id": "3c5e1dee",
   "metadata": {
    "execution": {
     "iopub.execute_input": "2023-10-12T07:16:01.465788Z",
     "iopub.status.busy": "2023-10-12T07:16:01.465516Z",
     "iopub.status.idle": "2023-10-12T07:16:01.473320Z",
     "shell.execute_reply": "2023-10-12T07:16:01.472389Z"
    },
    "papermill": {
     "duration": 0.017708,
     "end_time": "2023-10-12T07:16:01.475053",
     "exception": false,
     "start_time": "2023-10-12T07:16:01.457345",
     "status": "completed"
    },
    "tags": []
   },
   "outputs": [],
   "source": [
    "train_df1_1 = train_df[train_df['kidney_healthy'] == 0][:93]\n",
    "train_df1_2 = train_df[train_df['kidney_healthy'] == 0][124:]\n",
    "train_df1 = pd.concat([train_df1_1,train_df1_2])\n",
    "test_df1 = train_df[train_df['kidney_healthy'] == 0][93:124]\n"
   ]
  },
  {
   "cell_type": "code",
   "execution_count": 12,
   "id": "3dd73cdd",
   "metadata": {
    "execution": {
     "iopub.execute_input": "2023-10-12T07:16:01.491724Z",
     "iopub.status.busy": "2023-10-12T07:16:01.490773Z",
     "iopub.status.idle": "2023-10-12T07:16:01.497623Z",
     "shell.execute_reply": "2023-10-12T07:16:01.496798Z"
    },
    "papermill": {
     "duration": 0.016823,
     "end_time": "2023-10-12T07:16:01.499328",
     "exception": false,
     "start_time": "2023-10-12T07:16:01.482505",
     "status": "completed"
    },
    "tags": []
   },
   "outputs": [],
   "source": [
    "train_df2 = train_df[train_df['kidney_healthy'] == 1][500:1250]\n",
    "test_df2 = train_df[train_df['kidney_healthy'] == 1][850:1000]"
   ]
  },
  {
   "cell_type": "code",
   "execution_count": 13,
   "id": "1ea4a7dd",
   "metadata": {
    "execution": {
     "iopub.execute_input": "2023-10-12T07:16:01.514888Z",
     "iopub.status.busy": "2023-10-12T07:16:01.514631Z",
     "iopub.status.idle": "2023-10-12T07:16:01.519923Z",
     "shell.execute_reply": "2023-10-12T07:16:01.518996Z"
    },
    "papermill": {
     "duration": 0.01519,
     "end_time": "2023-10-12T07:16:01.521607",
     "exception": false,
     "start_time": "2023-10-12T07:16:01.506417",
     "status": "completed"
    },
    "tags": []
   },
   "outputs": [],
   "source": [
    "train_df = pd.concat([train_df1,train_df2])\n",
    "valid_df = pd.concat([test_df1,test_df2])"
   ]
  },
  {
   "cell_type": "code",
   "execution_count": 14,
   "id": "9249b7f5",
   "metadata": {
    "execution": {
     "iopub.execute_input": "2023-10-12T07:16:01.537672Z",
     "iopub.status.busy": "2023-10-12T07:16:01.537140Z",
     "iopub.status.idle": "2023-10-12T07:16:01.542790Z",
     "shell.execute_reply": "2023-10-12T07:16:01.541904Z"
    },
    "papermill": {
     "duration": 0.015607,
     "end_time": "2023-10-12T07:16:01.544469",
     "exception": false,
     "start_time": "2023-10-12T07:16:01.528862",
     "status": "completed"
    },
    "tags": []
   },
   "outputs": [
    {
     "data": {
      "text/plain": [
       "181"
      ]
     },
     "execution_count": 14,
     "metadata": {},
     "output_type": "execute_result"
    }
   ],
   "source": [
    "len(valid_df)"
   ]
  },
  {
   "cell_type": "code",
   "execution_count": 15,
   "id": "761233ca",
   "metadata": {
    "execution": {
     "iopub.execute_input": "2023-10-12T07:16:01.560736Z",
     "iopub.status.busy": "2023-10-12T07:16:01.559930Z",
     "iopub.status.idle": "2023-10-12T07:16:02.403407Z",
     "shell.execute_reply": "2023-10-12T07:16:02.402514Z"
    },
    "papermill": {
     "duration": 0.853427,
     "end_time": "2023-10-12T07:16:02.405289",
     "exception": false,
     "start_time": "2023-10-12T07:16:01.551862",
     "status": "completed"
    },
    "tags": []
   },
   "outputs": [
    {
     "name": "stderr",
     "output_type": "stream",
     "text": [
      "100%|██████████| 2858/2858 [00:00<00:00, 53875.84it/s]\n"
     ]
    }
   ],
   "source": [
    "train_dict= {}\n",
    "for name in tqdm(os.listdir('/kaggle/input/liver-train-images/output/')):\n",
    "    paths = [f'/kaggle/input/liver-train-images/output/{name}/{item}.png' for item in range(0, 60)]\n",
    "    train_dict[int(name)] = paths"
   ]
  },
  {
   "cell_type": "code",
   "execution_count": 16,
   "id": "dfb72a67",
   "metadata": {
    "execution": {
     "iopub.execute_input": "2023-10-12T07:16:02.424234Z",
     "iopub.status.busy": "2023-10-12T07:16:02.423576Z",
     "iopub.status.idle": "2023-10-12T07:16:02.428466Z",
     "shell.execute_reply": "2023-10-12T07:16:02.427657Z"
    },
    "papermill": {
     "duration": 0.017174,
     "end_time": "2023-10-12T07:16:02.430184",
     "exception": false,
     "start_time": "2023-10-12T07:16:02.413010",
     "status": "completed"
    },
    "tags": []
   },
   "outputs": [],
   "source": [
    "def select_elements_with_spacing(input_list):\n",
    "    \n",
    "    selected_indices = []\n",
    "        \n",
    "    selected_indices = [i for i in range(2,58,5)]\n",
    "    \n",
    "    selected_elements = [input_list[index] for index in selected_indices]\n",
    "    \n",
    "    return selected_elements\n"
   ]
  },
  {
   "cell_type": "code",
   "execution_count": 17,
   "id": "2c47dbd9",
   "metadata": {
    "execution": {
     "iopub.execute_input": "2023-10-12T07:16:02.447212Z",
     "iopub.status.busy": "2023-10-12T07:16:02.446387Z",
     "iopub.status.idle": "2023-10-12T07:16:02.451191Z",
     "shell.execute_reply": "2023-10-12T07:16:02.450281Z"
    },
    "papermill": {
     "duration": 0.015142,
     "end_time": "2023-10-12T07:16:02.452959",
     "exception": false,
     "start_time": "2023-10-12T07:16:02.437817",
     "status": "completed"
    },
    "tags": []
   },
   "outputs": [],
   "source": [
    "def preprocess_jpeg(jpeg_path):\n",
    "    \n",
    "    img = cv2.imread(jpeg_path)\n",
    "    greyscale = cv2.cvtColor(img, cv2.COLOR_BGR2GRAY)\n",
    "    \n",
    "    return greyscale"
   ]
  },
  {
   "cell_type": "code",
   "execution_count": 18,
   "id": "4b9ab5de",
   "metadata": {
    "execution": {
     "iopub.execute_input": "2023-10-12T07:16:02.469515Z",
     "iopub.status.busy": "2023-10-12T07:16:02.468762Z",
     "iopub.status.idle": "2023-10-12T07:16:02.571897Z",
     "shell.execute_reply": "2023-10-12T07:16:02.570825Z"
    },
    "papermill": {
     "duration": 0.11333,
     "end_time": "2023-10-12T07:16:02.573681",
     "exception": false,
     "start_time": "2023-10-12T07:16:02.460351",
     "status": "completed"
    },
    "tags": []
   },
   "outputs": [
    {
     "data": {
      "text/plain": [
       "(224, 224, 3)"
      ]
     },
     "execution_count": 18,
     "metadata": {},
     "output_type": "execute_result"
    }
   ],
   "source": [
    "img1 = preprocess_jpeg(f'/kaggle/input/liver-train-images/output/10004/0.png')\n",
    "img2 = preprocess_jpeg(f'/kaggle/input/liver-train-images/output/10004/1.png')\n",
    "img3 = preprocess_jpeg(f'/kaggle/input/liver-train-images/output/10004/2.png')\n",
    "image = np.asarray([img1,img2,img3]).transpose(1, 2, 0)\n",
    "img = transforms_train(image=image)['image']\n",
    "img.shape"
   ]
  },
  {
   "cell_type": "code",
   "execution_count": 19,
   "id": "3e06f5e5",
   "metadata": {
    "execution": {
     "iopub.execute_input": "2023-10-12T07:16:02.590479Z",
     "iopub.status.busy": "2023-10-12T07:16:02.589845Z",
     "iopub.status.idle": "2023-10-12T07:16:02.599496Z",
     "shell.execute_reply": "2023-10-12T07:16:02.598726Z"
    },
    "papermill": {
     "duration": 0.01995,
     "end_time": "2023-10-12T07:16:02.601317",
     "exception": false,
     "start_time": "2023-10-12T07:16:02.581367",
     "status": "completed"
    },
    "tags": []
   },
   "outputs": [],
   "source": [
    "class CLSDataset(Dataset):\n",
    "    def __init__(self, df, mode, transform):\n",
    "\n",
    "        self.df = df.reset_index(drop=True)\n",
    "        self.mode = mode\n",
    "        self.transform = transform\n",
    "\n",
    "    def __len__(self):\n",
    "        return self.df.shape[0]\n",
    "\n",
    "    def __getitem__(self, index):\n",
    "#         row = self.df.iloc[index]\n",
    "#         cid = row.c\n",
    "        patient_id = self.df['patient_id'][index]\n",
    "        images = []\n",
    "        for ind in list(range(2,58,5)):\n",
    "            img1 = preprocess_jpeg(f'/kaggle/input/liver-train-images/output/{patient_id}/{ind-1}.png')\n",
    "            img2 = preprocess_jpeg(f'/kaggle/input/liver-train-images/output/{patient_id}/{ind}.png')\n",
    "            img3 = preprocess_jpeg(f'/kaggle/input/liver-train-images/output/{patient_id}/{ind+1}.png')\n",
    "            image = np.asarray([img1,img2,img3]).transpose(1, 2, 0)\n",
    "            image = self.transform(image=image)['image']\n",
    "            image = image.transpose(2, 0, 1).astype(np.float32) / 255.\n",
    "            images.append(image)\n",
    "        images = np.stack(images, 0)\n",
    "#         print(images.shape)\n",
    "        \n",
    "        label = self.df[self.df.patient_id == int(patient_id)].values[0][1:-1]\n",
    "        liver = np.argmax(label[4:7], keepdims = False)\n",
    "\n",
    "        if self.mode != 'test':\n",
    "            images = torch.tensor(images).float()\n",
    "#             labels = torch.tensor([liver] * n_slice_per_c).float()\n",
    "            labels = torch.tensor([liver] * n_slice_per_c)\n",
    "            \n",
    "            if self.mode == 'train' and random.random() < p_rand_order_v1:\n",
    "                indices = torch.randperm(images.size(0))\n",
    "                images = images[indices]\n",
    "\n",
    "            return images, labels\n",
    "        else:\n",
    "            return torch.tensor(images).float()\n"
   ]
  },
  {
   "cell_type": "markdown",
   "id": "f3f701c1",
   "metadata": {
    "execution": {
     "iopub.execute_input": "2023-09-30T17:28:01.19621Z",
     "iopub.status.busy": "2023-09-30T17:28:01.195466Z",
     "iopub.status.idle": "2023-09-30T17:28:01.618783Z",
     "shell.execute_reply": "2023-09-30T17:28:01.61817Z",
     "shell.execute_reply.started": "2023-09-30T17:28:01.196181Z"
    },
    "jupyter": {
     "outputs_hidden": true
    },
    "papermill": {
     "duration": 0.007548,
     "end_time": "2023-10-12T07:16:02.616293",
     "exception": false,
     "start_time": "2023-10-12T07:16:02.608745",
     "status": "completed"
    },
    "tags": []
   },
   "source": [
    "m = timm.create_model(\n",
    "            \"resnet50d\",\n",
    "            in_chans=in_chans,\n",
    "            num_classes=out_dim,\n",
    "            features_only=False,\n",
    "            drop_rate=drop_rate,\n",
    "            drop_path_rate=drop_path_rate,\n",
    "            pretrained=False\n",
    "        )\n",
    "m"
   ]
  },
  {
   "cell_type": "markdown",
   "id": "d12ff269",
   "metadata": {
    "execution": {
     "iopub.execute_input": "2023-09-30T17:28:11.595054Z",
     "iopub.status.busy": "2023-09-30T17:28:11.5946Z",
     "iopub.status.idle": "2023-09-30T17:28:12.008734Z",
     "shell.execute_reply": "2023-09-30T17:28:12.007714Z",
     "shell.execute_reply.started": "2023-09-30T17:28:11.595018Z"
    },
    "jupyter": {
     "outputs_hidden": true
    },
    "papermill": {
     "duration": 0.007288,
     "end_time": "2023-10-12T07:16:02.630869",
     "exception": false,
     "start_time": "2023-10-12T07:16:02.623581",
     "status": "completed"
    },
    "tags": []
   },
   "source": [
    "m = timm.create_model(\n",
    "            backbone,\n",
    "            in_chans=in_chans,\n",
    "            num_classes=out_dim,\n",
    "            features_only=False,\n",
    "            drop_rate=drop_rate,\n",
    "            drop_path_rate=drop_path_rate,\n",
    "            pretrained=False\n",
    "        )\n",
    "m"
   ]
  },
  {
   "cell_type": "markdown",
   "id": "d8a374ff",
   "metadata": {
    "execution": {
     "iopub.execute_input": "2023-10-03T10:57:32.290253Z",
     "iopub.status.busy": "2023-10-03T10:57:32.28993Z",
     "iopub.status.idle": "2023-10-03T10:57:32.770257Z",
     "shell.execute_reply": "2023-10-03T10:57:32.769383Z",
     "shell.execute_reply.started": "2023-10-03T10:57:32.290225Z"
    },
    "jupyter": {
     "outputs_hidden": true
    },
    "papermill": {
     "duration": 0.051909,
     "end_time": "2023-10-12T07:16:02.690136",
     "exception": false,
     "start_time": "2023-10-12T07:16:02.638227",
     "status": "completed"
    },
    "tags": []
   },
   "source": [
    "m = timm.create_model(\n",
    "            \"legacy_seresnet50\",\n",
    "            in_chans=in_chans,\n",
    "            num_classes=out_dim,\n",
    "            features_only=False,\n",
    "            drop_rate=drop_rate,\n",
    "            pretrained=False\n",
    "        )\n",
    "m"
   ]
  },
  {
   "cell_type": "code",
   "execution_count": 20,
   "id": "86593702",
   "metadata": {
    "execution": {
     "iopub.execute_input": "2023-10-12T07:16:02.707799Z",
     "iopub.status.busy": "2023-10-12T07:16:02.706835Z",
     "iopub.status.idle": "2023-10-12T07:16:02.715679Z",
     "shell.execute_reply": "2023-10-12T07:16:02.714895Z"
    },
    "papermill": {
     "duration": 0.019262,
     "end_time": "2023-10-12T07:16:02.717373",
     "exception": false,
     "start_time": "2023-10-12T07:16:02.698111",
     "status": "completed"
    },
    "tags": []
   },
   "outputs": [],
   "source": [
    "class TimmModel(nn.Module):\n",
    "    def __init__(self, backbone, pretrained=False):\n",
    "        super(TimmModel, self).__init__()\n",
    "\n",
    "        self.encoder = timm.create_model(\n",
    "            backbone,\n",
    "            in_chans=in_chans,\n",
    "            num_classes=out_dim,\n",
    "            features_only=False,\n",
    "            drop_rate=drop_rate,\n",
    "            pretrained=pretrained\n",
    "        )\n",
    "        \n",
    "        \n",
    "        if 'efficient' in backbone:\n",
    "            hdim = self.encoder.conv_head.out_channels\n",
    "            self.encoder.classifier = nn.Identity()\n",
    "        elif 'resnet' in backbone:\n",
    "            hdim = 2048\n",
    "            self.encoder.last_linear = nn.Identity()\n",
    "        elif 'convnext' in backbone:\n",
    "            hdim = self.encoder.head.fc.in_features\n",
    "            self.encoder.head.fc = nn.Identity()\n",
    "        self.lstm = nn.LSTM(hdim, 256, num_layers=2, dropout=drop_rate, bidirectional=True, batch_first=True)\n",
    "        self.head = nn.Sequential(\n",
    "            nn.Linear(512, 256),\n",
    "            nn.BatchNorm1d(256),\n",
    "            nn.Dropout(drop_rate_last),\n",
    "            nn.LeakyReLU(0.1),\n",
    "            nn.Linear(256, out_dim),\n",
    "        )\n",
    "    def forward(self, x):  # (bs, nslice, ch, sz, sz)\n",
    "        bs = x.shape[0]\n",
    "        x = x.view(bs * n_slice_per_c, in_chans, image_size, image_size)\n",
    "        feat = self.encoder(x)\n",
    "        feat = feat.view(bs, n_slice_per_c, -1)\n",
    "        feat, _ = self.lstm(feat)\n",
    "        feat = feat.contiguous().view(bs * n_slice_per_c, -1)\n",
    "        feat = self.head(feat)\n",
    "        feat = feat.view(bs, n_slice_per_c,-1).contiguous()\n",
    "\n",
    "        return feat"
   ]
  },
  {
   "cell_type": "code",
   "execution_count": 21,
   "id": "3554a5ee",
   "metadata": {
    "execution": {
     "iopub.execute_input": "2023-10-12T07:16:02.733964Z",
     "iopub.status.busy": "2023-10-12T07:16:02.733346Z",
     "iopub.status.idle": "2023-10-12T07:16:10.202440Z",
     "shell.execute_reply": "2023-10-12T07:16:10.201501Z"
    },
    "papermill": {
     "duration": 7.479346,
     "end_time": "2023-10-12T07:16:10.204304",
     "exception": false,
     "start_time": "2023-10-12T07:16:02.724958",
     "status": "completed"
    },
    "tags": []
   },
   "outputs": [
    {
     "data": {
      "text/plain": [
       "torch.Size([2, 12, 3])"
      ]
     },
     "execution_count": 21,
     "metadata": {},
     "output_type": "execute_result"
    }
   ],
   "source": [
    "m = TimmModel(backbone)\n",
    "out = m(torch.rand(2, n_slice_per_c, in_chans, image_size, image_size))\n",
    "out.shape"
   ]
  },
  {
   "cell_type": "code",
   "execution_count": 22,
   "id": "e3afb0f3",
   "metadata": {
    "execution": {
     "iopub.execute_input": "2023-10-12T07:16:10.221777Z",
     "iopub.status.busy": "2023-10-12T07:16:10.221482Z",
     "iopub.status.idle": "2023-10-12T07:16:13.149408Z",
     "shell.execute_reply": "2023-10-12T07:16:13.148467Z"
    },
    "papermill": {
     "duration": 2.938815,
     "end_time": "2023-10-12T07:16:13.151552",
     "exception": false,
     "start_time": "2023-10-12T07:16:10.212737",
     "status": "completed"
    },
    "tags": []
   },
   "outputs": [],
   "source": [
    "# bce = nn.BCEWithLogitsLoss(reduction='none')\n",
    "cce = nn.CrossEntropyLoss(label_smoothing = 0.05, weight = torch.tensor([1.0, 2.0, 4.0]).to('cuda'))\n",
    "\n",
    "\n",
    "def criterion(logits, targets, activated=False):\n",
    "    if activated:\n",
    "        losses = nn.BCELoss(reduction='none')(logits.view(-1), targets.view(-1))\n",
    "    else:\n",
    "        losses = cce(logits.view(-1,3), targets.view(-1))\n",
    "#     losses[targets.view(-1) > 0] *= 2.\n",
    "#     norm = torch.ones(logits.view(-1).shape[0]).to(device)\n",
    "#     norm[targets.view(-1) > 0] *= 2\n",
    "    return losses\n"
   ]
  },
  {
   "cell_type": "code",
   "execution_count": 23,
   "id": "31e4c66c",
   "metadata": {
    "execution": {
     "iopub.execute_input": "2023-10-12T07:16:13.169066Z",
     "iopub.status.busy": "2023-10-12T07:16:13.168133Z",
     "iopub.status.idle": "2023-10-12T07:16:13.178419Z",
     "shell.execute_reply": "2023-10-12T07:16:13.177635Z"
    },
    "papermill": {
     "duration": 0.020622,
     "end_time": "2023-10-12T07:16:13.180096",
     "exception": false,
     "start_time": "2023-10-12T07:16:13.159474",
     "status": "completed"
    },
    "tags": []
   },
   "outputs": [],
   "source": [
    "def mixup(input, truth, clip=[0, 1]):\n",
    "    indices = torch.randperm(input.size(0))\n",
    "    shuffled_input = input[indices]\n",
    "    shuffled_labels = truth[indices]\n",
    "\n",
    "    lam = np.random.uniform(clip[0], clip[1])\n",
    "    input = input * lam + shuffled_input * (1 - lam)\n",
    "    return input, truth, shuffled_labels, lam\n",
    "def train_func(model, loader_train, optimizer, scaler=None):\n",
    "    model.train()\n",
    "    train_loss = []\n",
    "    bar = tqdm(loader_train)\n",
    "    for images, targets in bar:\n",
    "        optimizer.zero_grad()\n",
    "        images = images.cuda()\n",
    "        targets = targets.cuda()\n",
    "        \n",
    "        do_mixup = False\n",
    "        if random.random() < p_mixup:\n",
    "            do_mixup = True\n",
    "            images, targets, targets_mix, lam = mixup(images, targets)\n",
    "\n",
    "        with amp.autocast():\n",
    "            logits = model(images)\n",
    "            loss = criterion(logits, targets)\n",
    "            if do_mixup:\n",
    "                loss11 = criterion(logits, targets_mix)\n",
    "                loss = loss * lam  + loss11 * (1 - lam)\n",
    "        train_loss.append(loss.item())\n",
    "        scaler.scale(loss).backward()\n",
    "        scaler.step(optimizer)\n",
    "        scaler.update()\n",
    "        \n",
    "        bar.set_description(f'smth:{np.mean(train_loss[-30:]):.4f}')\n",
    "\n",
    "    return np.mean(train_loss)\n",
    "\n",
    "def valid_func(model, loader_valid):\n",
    "    model.eval()\n",
    "    valid_loss = []\n",
    "    gts = []\n",
    "    outputs = []\n",
    "    bar = tqdm(loader_valid)\n",
    "    tot_loss = 0\n",
    "    with torch.no_grad():\n",
    "        for images, targets in bar:\n",
    "            images = images.cuda()\n",
    "            targets = targets.cuda()\n",
    "\n",
    "            logits = model(images)\n",
    "            loss = criterion(logits, targets)\n",
    "            \n",
    "            gts.append(targets.cpu())\n",
    "            outputs.append(logits.cpu())\n",
    "            valid_loss.append(loss.item())\n",
    "            tot_loss += loss.item()\n",
    "            \n",
    "            bar.set_description(f'smth:{np.mean(valid_loss[-30:]):.4f}')\n",
    "\n",
    "    outputs = torch.cat(outputs)\n",
    "    gts = torch.cat(gts)\n",
    "#     valid_loss = criterion(outputs, gts).item()\n",
    "\n",
    "    return np.mean(valid_loss)"
   ]
  },
  {
   "cell_type": "code",
   "execution_count": 24,
   "id": "d9352198",
   "metadata": {
    "execution": {
     "iopub.execute_input": "2023-10-12T07:16:13.196782Z",
     "iopub.status.busy": "2023-10-12T07:16:13.195971Z",
     "iopub.status.idle": "2023-10-12T07:16:13.435401Z",
     "shell.execute_reply": "2023-10-12T07:16:13.434527Z"
    },
    "papermill": {
     "duration": 0.249529,
     "end_time": "2023-10-12T07:16:13.437254",
     "exception": false,
     "start_time": "2023-10-12T07:16:13.187725",
     "status": "completed"
    },
    "tags": []
   },
   "outputs": [
    {
     "name": "stderr",
     "output_type": "stream",
     "text": [
      "/opt/conda/lib/python3.10/site-packages/torch/optim/lr_scheduler.py:139: UserWarning: Detected call of `lr_scheduler.step()` before `optimizer.step()`. In PyTorch 1.1.0 and later, you should call them in the opposite order: `optimizer.step()` before `lr_scheduler.step()`.  Failure to do this will result in PyTorch skipping the first value of the learning rate schedule. See more details at https://pytorch.org/docs/stable/optim.html#how-to-adjust-learning-rate\n",
      "  warnings.warn(\"Detected call of `lr_scheduler.step()` before `optimizer.step()`. \"\n",
      "/opt/conda/lib/python3.10/site-packages/torch/optim/lr_scheduler.py:152: UserWarning: The epoch parameter in `scheduler.step()` was not necessary and is being deprecated where possible. Please use `scheduler.step()` to step the scheduler. During the deprecation, if epoch is different from None, the closed form is used instead of the new chainable form, where available. Please open an issue if you are unable to replicate your use case: https://github.com/pytorch/pytorch/issues/new/choose.\n",
      "  warnings.warn(EPOCH_DEPRECATION_WARNING, UserWarning)\n"
     ]
    },
    {
     "data": {
      "text/plain": [
       "[<matplotlib.lines.Line2D at 0x7baee0e5a620>]"
      ]
     },
     "execution_count": 24,
     "metadata": {},
     "output_type": "execute_result"
    },
    {
     "data": {
      "image/png": "[encoded data removed]",
      "text/plain": [
       "<Figure size 2000x200 with 1 Axes>"
      ]
     },
     "metadata": {},
     "output_type": "display_data"
    }
   ],
   "source": [
    "rcParams['figure.figsize'] = 20, 2\n",
    "optimizer = optim.AdamW(m.parameters(), lr=init_lr)\n",
    "scheduler_cosine = torch.optim.lr_scheduler.CosineAnnealingLR(optimizer, n_epochs, eta_min=eta_min)\n",
    "\n",
    "lrs = []\n",
    "for epoch in range(1, n_epochs+1):\n",
    "    scheduler_cosine.step(epoch-1)\n",
    "    lrs.append(optimizer.param_groups[0][\"lr\"])\n",
    "plt.plot(range(len(lrs)), lrs)"
   ]
  },
  {
   "cell_type": "code",
   "execution_count": 25,
   "id": "bef590e6",
   "metadata": {
    "execution": {
     "iopub.execute_input": "2023-10-12T07:16:13.455487Z",
     "iopub.status.busy": "2023-10-12T07:16:13.454907Z",
     "iopub.status.idle": "2023-10-12T07:16:13.461242Z",
     "shell.execute_reply": "2023-10-12T07:16:13.460357Z"
    },
    "papermill": {
     "duration": 0.017006,
     "end_time": "2023-10-12T07:16:13.463022",
     "exception": false,
     "start_time": "2023-10-12T07:16:13.446016",
     "status": "completed"
    },
    "tags": []
   },
   "outputs": [],
   "source": [
    "train_df = train_df.drop(['liver_det'],axis=1)\n",
    "valid_df = valid_df.drop(['liver_det'],axis=1)"
   ]
  },
  {
   "cell_type": "code",
   "execution_count": 26,
   "id": "c59f88dd",
   "metadata": {
    "execution": {
     "iopub.execute_input": "2023-10-12T07:16:13.480878Z",
     "iopub.status.busy": "2023-10-12T07:16:13.480194Z",
     "iopub.status.idle": "2023-10-12T10:07:00.001664Z",
     "shell.execute_reply": "2023-10-12T10:07:00.000327Z"
    },
    "papermill": {
     "duration": 10246.534133,
     "end_time": "2023-10-12T10:07:00.005495",
     "exception": false,
     "start_time": "2023-10-12T07:16:13.471362",
     "status": "completed"
    },
    "tags": []
   },
   "outputs": [
    {
     "name": "stderr",
     "output_type": "stream",
     "text": [
      "Downloading: \"https://github.com/rwightman/pytorch-image-models/releases/download/v0.1-cadene/se_resnet50-ce0d4300.pth\" to /root/.cache/torch/hub/checkpoints/se_resnet50-ce0d4300.pth\n"
     ]
    },
    {
     "name": "stdout",
     "output_type": "stream",
     "text": [
      "890 181\n",
      "Thu Oct 12 07:16:19 2023 Epoch: 1\n"
     ]
    },
    {
     "name": "stderr",
     "output_type": "stream",
     "text": [
      "smth:1.0589: 100%|██████████| 55/55 [04:52<00:00,  5.31s/it]\n",
      "smth:0.7675: 100%|██████████| 12/12 [00:30<00:00,  2.58s/it]\n"
     ]
    },
    {
     "name": "stdout",
     "output_type": "stream",
     "text": [
      "Thu Oct 12 07:21:42 2023  Epoch 1, lr: 0.0003000, train loss: 1.10330, valid loss: 0.76746, metric: 0.767457.\n",
      "metric_best (inf --> 0.767457). Saving model ...\n",
      "Thu Oct 12 07:21:43 2023 Epoch: 2\n"
     ]
    },
    {
     "name": "stderr",
     "output_type": "stream",
     "text": [
      "smth:0.9430: 100%|██████████| 55/55 [02:22<00:00,  2.60s/it]\n",
      "smth:0.7781: 100%|██████████| 12/12 [00:22<00:00,  1.86s/it]\n"
     ]
    },
    {
     "name": "stdout",
     "output_type": "stream",
     "text": [
      "Thu Oct 12 07:24:29 2023  Epoch 2, lr: 0.0002998, train loss: 0.97282, valid loss: 0.77805, metric: 0.778054.\n",
      "Thu Oct 12 07:24:30 2023 Epoch: 3\n"
     ]
    },
    {
     "name": "stderr",
     "output_type": "stream",
     "text": [
      "smth:1.0031: 100%|██████████| 55/55 [02:21<00:00,  2.58s/it]\n",
      "smth:0.9224: 100%|██████████| 12/12 [00:22<00:00,  1.86s/it]\n"
     ]
    },
    {
     "name": "stdout",
     "output_type": "stream",
     "text": [
      "Thu Oct 12 07:27:14 2023  Epoch 3, lr: 0.0002993, train loss: 0.96354, valid loss: 0.92236, metric: 0.922358.\n",
      "Thu Oct 12 07:27:16 2023 Epoch: 4\n"
     ]
    },
    {
     "name": "stderr",
     "output_type": "stream",
     "text": [
      "smth:0.9873: 100%|██████████| 55/55 [02:21<00:00,  2.57s/it]\n",
      "smth:0.8302: 100%|██████████| 12/12 [00:22<00:00,  1.90s/it]\n"
     ]
    },
    {
     "name": "stdout",
     "output_type": "stream",
     "text": [
      "Thu Oct 12 07:30:00 2023  Epoch 4, lr: 0.0002983, train loss: 0.96744, valid loss: 0.83022, metric: 0.830224.\n",
      "Thu Oct 12 07:30:02 2023 Epoch: 5\n"
     ]
    },
    {
     "name": "stderr",
     "output_type": "stream",
     "text": [
      "smth:0.9903: 100%|██████████| 55/55 [02:21<00:00,  2.57s/it]\n",
      "smth:0.7939: 100%|██████████| 12/12 [00:23<00:00,  1.92s/it]\n"
     ]
    },
    {
     "name": "stdout",
     "output_type": "stream",
     "text": [
      "Thu Oct 12 07:32:46 2023  Epoch 5, lr: 0.0002970, train loss: 0.97653, valid loss: 0.79394, metric: 0.793945.\n",
      "Thu Oct 12 07:32:48 2023 Epoch: 6\n"
     ]
    },
    {
     "name": "stderr",
     "output_type": "stream",
     "text": [
      "smth:0.9943: 100%|██████████| 55/55 [02:20<00:00,  2.56s/it]\n",
      "smth:0.8062: 100%|██████████| 12/12 [00:23<00:00,  1.93s/it]\n"
     ]
    },
    {
     "name": "stdout",
     "output_type": "stream",
     "text": [
      "Thu Oct 12 07:35:32 2023  Epoch 6, lr: 0.0002954, train loss: 0.96553, valid loss: 0.80621, metric: 0.806211.\n",
      "Thu Oct 12 07:35:33 2023 Epoch: 7\n"
     ]
    },
    {
     "name": "stderr",
     "output_type": "stream",
     "text": [
      "smth:0.9348: 100%|██████████| 55/55 [02:21<00:00,  2.57s/it]\n",
      "smth:0.7987: 100%|██████████| 12/12 [00:22<00:00,  1.91s/it]\n"
     ]
    },
    {
     "name": "stdout",
     "output_type": "stream",
     "text": [
      "Thu Oct 12 07:38:18 2023  Epoch 7, lr: 0.0002934, train loss: 0.94463, valid loss: 0.79866, metric: 0.798665.\n",
      "Thu Oct 12 07:38:20 2023 Epoch: 8\n"
     ]
    },
    {
     "name": "stderr",
     "output_type": "stream",
     "text": [
      "smth:0.9387: 100%|██████████| 55/55 [02:21<00:00,  2.57s/it]\n",
      "smth:0.7540: 100%|██████████| 12/12 [00:22<00:00,  1.86s/it]\n"
     ]
    },
    {
     "name": "stdout",
     "output_type": "stream",
     "text": [
      "Thu Oct 12 07:41:04 2023  Epoch 8, lr: 0.0002910, train loss: 0.94288, valid loss: 0.75400, metric: 0.754001.\n",
      "metric_best (0.767457 --> 0.754001). Saving model ...\n",
      "Thu Oct 12 07:41:06 2023 Epoch: 9\n"
     ]
    },
    {
     "name": "stderr",
     "output_type": "stream",
     "text": [
      "smth:0.9438: 100%|██████████| 55/55 [02:21<00:00,  2.57s/it]\n",
      "smth:0.7471: 100%|██████████| 12/12 [00:22<00:00,  1.84s/it]\n"
     ]
    },
    {
     "name": "stdout",
     "output_type": "stream",
     "text": [
      "Thu Oct 12 07:43:49 2023  Epoch 9, lr: 0.0002883, train loss: 0.95604, valid loss: 0.74707, metric: 0.747074.\n",
      "metric_best (0.754001 --> 0.747074). Saving model ...\n",
      "Thu Oct 12 07:43:52 2023 Epoch: 10\n"
     ]
    },
    {
     "name": "stderr",
     "output_type": "stream",
     "text": [
      "smth:0.9118: 100%|██████████| 55/55 [02:20<00:00,  2.55s/it]\n",
      "smth:0.7298: 100%|██████████| 12/12 [00:22<00:00,  1.85s/it]\n"
     ]
    },
    {
     "name": "stdout",
     "output_type": "stream",
     "text": [
      "Thu Oct 12 07:46:34 2023  Epoch 10, lr: 0.0002853, train loss: 0.92667, valid loss: 0.72982, metric: 0.729821.\n",
      "metric_best (0.747074 --> 0.729821). Saving model ...\n",
      "Thu Oct 12 07:46:37 2023 Epoch: 11\n"
     ]
    },
    {
     "name": "stderr",
     "output_type": "stream",
     "text": [
      "smth:0.9488: 100%|██████████| 55/55 [02:20<00:00,  2.56s/it]\n",
      "smth:0.7709: 100%|██████████| 12/12 [00:22<00:00,  1.87s/it]\n"
     ]
    },
    {
     "name": "stdout",
     "output_type": "stream",
     "text": [
      "Thu Oct 12 07:49:20 2023  Epoch 11, lr: 0.0002819, train loss: 0.94114, valid loss: 0.77094, metric: 0.770939.\n",
      "Thu Oct 12 07:49:22 2023 Epoch: 12\n"
     ]
    },
    {
     "name": "stderr",
     "output_type": "stream",
     "text": [
      "smth:0.9728: 100%|██████████| 55/55 [02:40<00:00,  2.92s/it]\n",
      "smth:0.7465: 100%|██████████| 12/12 [00:49<00:00,  4.10s/it]\n"
     ]
    },
    {
     "name": "stdout",
     "output_type": "stream",
     "text": [
      "Thu Oct 12 07:52:51 2023  Epoch 12, lr: 0.0002782, train loss: 0.93504, valid loss: 0.74650, metric: 0.746497.\n",
      "Thu Oct 12 07:52:53 2023 Epoch: 13\n"
     ]
    },
    {
     "name": "stderr",
     "output_type": "stream",
     "text": [
      "smth:0.8645: 100%|██████████| 55/55 [03:34<00:00,  3.89s/it]\n",
      "smth:0.7680: 100%|██████████| 12/12 [00:22<00:00,  1.88s/it]\n"
     ]
    },
    {
     "name": "stdout",
     "output_type": "stream",
     "text": [
      "Thu Oct 12 07:56:50 2023  Epoch 13, lr: 0.0002742, train loss: 0.91803, valid loss: 0.76801, metric: 0.768011.\n",
      "Thu Oct 12 07:56:51 2023 Epoch: 14\n"
     ]
    },
    {
     "name": "stderr",
     "output_type": "stream",
     "text": [
      "smth:0.9344: 100%|██████████| 55/55 [02:20<00:00,  2.55s/it]\n",
      "smth:1.3107: 100%|██████████| 12/12 [00:22<00:00,  1.89s/it]\n"
     ]
    },
    {
     "name": "stdout",
     "output_type": "stream",
     "text": [
      "Thu Oct 12 07:59:34 2023  Epoch 14, lr: 0.0002699, train loss: 0.92625, valid loss: 1.31071, metric: 1.310715.\n",
      "Thu Oct 12 07:59:36 2023 Epoch: 15\n"
     ]
    },
    {
     "name": "stderr",
     "output_type": "stream",
     "text": [
      "smth:0.9208: 100%|██████████| 55/55 [02:21<00:00,  2.56s/it]\n",
      "smth:0.7997: 100%|██████████| 12/12 [00:22<00:00,  1.90s/it]\n"
     ]
    },
    {
     "name": "stdout",
     "output_type": "stream",
     "text": [
      "Thu Oct 12 08:02:20 2023  Epoch 15, lr: 0.0002653, train loss: 0.92923, valid loss: 0.79971, metric: 0.799712.\n",
      "Thu Oct 12 08:02:21 2023 Epoch: 16\n"
     ]
    },
    {
     "name": "stderr",
     "output_type": "stream",
     "text": [
      "smth:0.9022: 100%|██████████| 55/55 [02:22<00:00,  2.58s/it]\n",
      "smth:0.7686: 100%|██████████| 12/12 [00:22<00:00,  1.90s/it]\n"
     ]
    },
    {
     "name": "stdout",
     "output_type": "stream",
     "text": [
      "Thu Oct 12 08:05:06 2023  Epoch 16, lr: 0.0002605, train loss: 0.91226, valid loss: 0.76860, metric: 0.768605.\n",
      "Thu Oct 12 08:05:08 2023 Epoch: 17\n"
     ]
    },
    {
     "name": "stderr",
     "output_type": "stream",
     "text": [
      "smth:0.8988: 100%|██████████| 55/55 [02:21<00:00,  2.58s/it]\n",
      "smth:0.8222: 100%|██████████| 12/12 [00:22<00:00,  1.88s/it]\n"
     ]
    },
    {
     "name": "stdout",
     "output_type": "stream",
     "text": [
      "Thu Oct 12 08:07:52 2023  Epoch 17, lr: 0.0002553, train loss: 0.92490, valid loss: 0.82215, metric: 0.822155.\n",
      "Thu Oct 12 08:07:54 2023 Epoch: 18\n"
     ]
    },
    {
     "name": "stderr",
     "output_type": "stream",
     "text": [
      "smth:0.8948: 100%|██████████| 55/55 [02:22<00:00,  2.59s/it]\n",
      "smth:0.8174: 100%|██████████| 12/12 [00:23<00:00,  1.92s/it]\n"
     ]
    },
    {
     "name": "stdout",
     "output_type": "stream",
     "text": [
      "Thu Oct 12 08:10:40 2023  Epoch 18, lr: 0.0002500, train loss: 0.90412, valid loss: 0.81739, metric: 0.817392.\n",
      "Thu Oct 12 08:10:42 2023 Epoch: 19\n"
     ]
    },
    {
     "name": "stderr",
     "output_type": "stream",
     "text": [
      "smth:0.9563: 100%|██████████| 55/55 [02:24<00:00,  2.63s/it]\n",
      "smth:0.9351: 100%|██████████| 12/12 [00:23<00:00,  1.92s/it]\n"
     ]
    },
    {
     "name": "stdout",
     "output_type": "stream",
     "text": [
      "Thu Oct 12 08:13:29 2023  Epoch 19, lr: 0.0002444, train loss: 0.91489, valid loss: 0.93507, metric: 0.935074.\n",
      "Thu Oct 12 08:13:31 2023 Epoch: 20\n"
     ]
    },
    {
     "name": "stderr",
     "output_type": "stream",
     "text": [
      "smth:0.8900: 100%|██████████| 55/55 [02:22<00:00,  2.60s/it]\n",
      "smth:0.7757: 100%|██████████| 12/12 [00:23<00:00,  1.98s/it]\n"
     ]
    },
    {
     "name": "stdout",
     "output_type": "stream",
     "text": [
      "Thu Oct 12 08:16:17 2023  Epoch 20, lr: 0.0002385, train loss: 0.90095, valid loss: 0.77567, metric: 0.775670.\n",
      "Thu Oct 12 08:16:20 2023 Epoch: 21\n"
     ]
    },
    {
     "name": "stderr",
     "output_type": "stream",
     "text": [
      "smth:0.8813: 100%|██████████| 55/55 [02:23<00:00,  2.61s/it]\n",
      "smth:0.7325: 100%|██████████| 12/12 [00:22<00:00,  1.87s/it]\n"
     ]
    },
    {
     "name": "stdout",
     "output_type": "stream",
     "text": [
      "Thu Oct 12 08:19:06 2023  Epoch 21, lr: 0.0002325, train loss: 0.90822, valid loss: 0.73247, metric: 0.732465.\n",
      "Thu Oct 12 08:19:08 2023 Epoch: 22\n"
     ]
    },
    {
     "name": "stderr",
     "output_type": "stream",
     "text": [
      "smth:0.8746: 100%|██████████| 55/55 [02:21<00:00,  2.58s/it]\n",
      "smth:0.9542: 100%|██████████| 12/12 [00:22<00:00,  1.91s/it]\n"
     ]
    },
    {
     "name": "stdout",
     "output_type": "stream",
     "text": [
      "Thu Oct 12 08:21:53 2023  Epoch 22, lr: 0.0002263, train loss: 0.88947, valid loss: 0.95424, metric: 0.954238.\n",
      "Thu Oct 12 08:21:54 2023 Epoch: 23\n"
     ]
    },
    {
     "name": "stderr",
     "output_type": "stream",
     "text": [
      "smth:0.8625: 100%|██████████| 55/55 [02:20<00:00,  2.56s/it]\n",
      "smth:0.8898: 100%|██████████| 12/12 [00:23<00:00,  1.93s/it]\n"
     ]
    },
    {
     "name": "stdout",
     "output_type": "stream",
     "text": [
      "Thu Oct 12 08:24:39 2023  Epoch 23, lr: 0.0002199, train loss: 0.87889, valid loss: 0.88978, metric: 0.889779.\n",
      "Thu Oct 12 08:24:40 2023 Epoch: 24\n"
     ]
    },
    {
     "name": "stderr",
     "output_type": "stream",
     "text": [
      "smth:0.8408: 100%|██████████| 55/55 [02:21<00:00,  2.58s/it]\n",
      "smth:0.9443: 100%|██████████| 12/12 [00:22<00:00,  1.91s/it]\n"
     ]
    },
    {
     "name": "stdout",
     "output_type": "stream",
     "text": [
      "Thu Oct 12 08:27:25 2023  Epoch 24, lr: 0.0002134, train loss: 0.86350, valid loss: 0.94429, metric: 0.944295.\n",
      "Thu Oct 12 08:27:27 2023 Epoch: 25\n"
     ]
    },
    {
     "name": "stderr",
     "output_type": "stream",
     "text": [
      "smth:0.8466: 100%|██████████| 55/55 [02:20<00:00,  2.56s/it]\n",
      "smth:0.7155: 100%|██████████| 12/12 [00:22<00:00,  1.89s/it]\n"
     ]
    },
    {
     "name": "stdout",
     "output_type": "stream",
     "text": [
      "Thu Oct 12 08:30:10 2023  Epoch 25, lr: 0.0002067, train loss: 0.86318, valid loss: 0.71554, metric: 0.715541.\n",
      "metric_best (0.729821 --> 0.715541). Saving model ...\n",
      "Thu Oct 12 08:30:12 2023 Epoch: 26\n"
     ]
    },
    {
     "name": "stderr",
     "output_type": "stream",
     "text": [
      "smth:0.8868: 100%|██████████| 55/55 [02:21<00:00,  2.58s/it]\n",
      "smth:0.7225: 100%|██████████| 12/12 [00:21<00:00,  1.81s/it]\n"
     ]
    },
    {
     "name": "stdout",
     "output_type": "stream",
     "text": [
      "Thu Oct 12 08:32:56 2023  Epoch 26, lr: 0.0001999, train loss: 0.86608, valid loss: 0.72246, metric: 0.722461.\n",
      "Thu Oct 12 08:32:57 2023 Epoch: 27\n"
     ]
    },
    {
     "name": "stderr",
     "output_type": "stream",
     "text": [
      "smth:0.8734: 100%|██████████| 55/55 [02:22<00:00,  2.59s/it]\n",
      "smth:0.8681: 100%|██████████| 12/12 [00:22<00:00,  1.86s/it]\n"
     ]
    },
    {
     "name": "stdout",
     "output_type": "stream",
     "text": [
      "Thu Oct 12 08:35:42 2023  Epoch 27, lr: 0.0001931, train loss: 0.85197, valid loss: 0.86811, metric: 0.868114.\n",
      "Thu Oct 12 08:35:44 2023 Epoch: 28\n"
     ]
    },
    {
     "name": "stderr",
     "output_type": "stream",
     "text": [
      "smth:0.8486: 100%|██████████| 55/55 [02:20<00:00,  2.56s/it]\n",
      "smth:0.6923: 100%|██████████| 12/12 [00:22<00:00,  1.91s/it]\n"
     ]
    },
    {
     "name": "stdout",
     "output_type": "stream",
     "text": [
      "Thu Oct 12 08:38:28 2023  Epoch 28, lr: 0.0001861, train loss: 0.85798, valid loss: 0.69231, metric: 0.692314.\n",
      "metric_best (0.715541 --> 0.692314). Saving model ...\n",
      "Thu Oct 12 08:38:30 2023 Epoch: 29\n"
     ]
    },
    {
     "name": "stderr",
     "output_type": "stream",
     "text": [
      "smth:0.8371: 100%|██████████| 55/55 [02:19<00:00,  2.54s/it]\n",
      "smth:0.7461: 100%|██████████| 12/12 [00:22<00:00,  1.91s/it]\n"
     ]
    },
    {
     "name": "stdout",
     "output_type": "stream",
     "text": [
      "Thu Oct 12 08:41:12 2023  Epoch 29, lr: 0.0001791, train loss: 0.85642, valid loss: 0.74609, metric: 0.746089.\n",
      "Thu Oct 12 08:41:14 2023 Epoch: 30\n"
     ]
    },
    {
     "name": "stderr",
     "output_type": "stream",
     "text": [
      "smth:0.8730: 100%|██████████| 55/55 [02:20<00:00,  2.55s/it]\n",
      "smth:0.7461: 100%|██████████| 12/12 [00:22<00:00,  1.91s/it]\n"
     ]
    },
    {
     "name": "stdout",
     "output_type": "stream",
     "text": [
      "Thu Oct 12 08:43:57 2023  Epoch 30, lr: 0.0001721, train loss: 0.86189, valid loss: 0.74608, metric: 0.746082.\n",
      "Thu Oct 12 08:44:00 2023 Epoch: 31\n"
     ]
    },
    {
     "name": "stderr",
     "output_type": "stream",
     "text": [
      "smth:0.8370: 100%|██████████| 55/55 [02:22<00:00,  2.59s/it]\n",
      "smth:0.6770: 100%|██████████| 12/12 [00:22<00:00,  1.87s/it]\n"
     ]
    },
    {
     "name": "stdout",
     "output_type": "stream",
     "text": [
      "Thu Oct 12 08:46:45 2023  Epoch 31, lr: 0.0001650, train loss: 0.82404, valid loss: 0.67704, metric: 0.677042.\n",
      "metric_best (0.692314 --> 0.677042). Saving model ...\n",
      "Thu Oct 12 08:46:47 2023 Epoch: 32\n"
     ]
    },
    {
     "name": "stderr",
     "output_type": "stream",
     "text": [
      "smth:0.8581: 100%|██████████| 55/55 [02:22<00:00,  2.59s/it]\n",
      "smth:0.6832: 100%|██████████| 12/12 [00:22<00:00,  1.85s/it]\n"
     ]
    },
    {
     "name": "stdout",
     "output_type": "stream",
     "text": [
      "Thu Oct 12 08:49:31 2023  Epoch 32, lr: 0.0001579, train loss: 0.84291, valid loss: 0.68318, metric: 0.683179.\n",
      "Thu Oct 12 08:49:33 2023 Epoch: 33\n"
     ]
    },
    {
     "name": "stderr",
     "output_type": "stream",
     "text": [
      "smth:0.8110: 100%|██████████| 55/55 [02:22<00:00,  2.58s/it]\n",
      "smth:0.7843: 100%|██████████| 12/12 [00:22<00:00,  1.90s/it]\n"
     ]
    },
    {
     "name": "stdout",
     "output_type": "stream",
     "text": [
      "Thu Oct 12 08:52:18 2023  Epoch 33, lr: 0.0001509, train loss: 0.82528, valid loss: 0.78429, metric: 0.784290.\n",
      "Thu Oct 12 08:52:20 2023 Epoch: 34\n"
     ]
    },
    {
     "name": "stderr",
     "output_type": "stream",
     "text": [
      "smth:0.8306: 100%|██████████| 55/55 [02:20<00:00,  2.56s/it]\n",
      "smth:0.7303: 100%|██████████| 12/12 [00:23<00:00,  1.94s/it]\n"
     ]
    },
    {
     "name": "stdout",
     "output_type": "stream",
     "text": [
      "Thu Oct 12 08:55:03 2023  Epoch 34, lr: 0.0001439, train loss: 0.83758, valid loss: 0.73025, metric: 0.730252.\n",
      "Thu Oct 12 08:55:05 2023 Epoch: 35\n"
     ]
    },
    {
     "name": "stderr",
     "output_type": "stream",
     "text": [
      "smth:0.8516: 100%|██████████| 55/55 [02:22<00:00,  2.59s/it]\n",
      "smth:0.6795: 100%|██████████| 12/12 [00:23<00:00,  1.94s/it]\n"
     ]
    },
    {
     "name": "stdout",
     "output_type": "stream",
     "text": [
      "Thu Oct 12 08:57:51 2023  Epoch 35, lr: 0.0001369, train loss: 0.80062, valid loss: 0.67947, metric: 0.679468.\n",
      "Thu Oct 12 08:57:53 2023 Epoch: 36\n"
     ]
    },
    {
     "name": "stderr",
     "output_type": "stream",
     "text": [
      "smth:0.7776: 100%|██████████| 55/55 [02:21<00:00,  2.57s/it]\n",
      "smth:0.9377: 100%|██████████| 12/12 [00:23<00:00,  1.92s/it]\n"
     ]
    },
    {
     "name": "stdout",
     "output_type": "stream",
     "text": [
      "Thu Oct 12 09:00:37 2023  Epoch 36, lr: 0.0001301, train loss: 0.78332, valid loss: 0.93773, metric: 0.937735.\n",
      "Thu Oct 12 09:00:38 2023 Epoch: 37\n"
     ]
    },
    {
     "name": "stderr",
     "output_type": "stream",
     "text": [
      "smth:0.8391: 100%|██████████| 55/55 [02:21<00:00,  2.58s/it]\n",
      "smth:0.7089: 100%|██████████| 12/12 [00:22<00:00,  1.88s/it]\n"
     ]
    },
    {
     "name": "stdout",
     "output_type": "stream",
     "text": [
      "Thu Oct 12 09:03:23 2023  Epoch 37, lr: 0.0001233, train loss: 0.79725, valid loss: 0.70891, metric: 0.708907.\n",
      "Thu Oct 12 09:03:24 2023 Epoch: 38\n"
     ]
    },
    {
     "name": "stderr",
     "output_type": "stream",
     "text": [
      "smth:0.7939: 100%|██████████| 55/55 [02:19<00:00,  2.55s/it]\n",
      "smth:0.7138: 100%|██████████| 12/12 [00:22<00:00,  1.87s/it]\n"
     ]
    },
    {
     "name": "stdout",
     "output_type": "stream",
     "text": [
      "Thu Oct 12 09:06:07 2023  Epoch 38, lr: 0.0001166, train loss: 0.80359, valid loss: 0.71384, metric: 0.713837.\n",
      "Thu Oct 12 09:06:08 2023 Epoch: 39\n"
     ]
    },
    {
     "name": "stderr",
     "output_type": "stream",
     "text": [
      "smth:0.7241: 100%|██████████| 55/55 [02:21<00:00,  2.57s/it]\n",
      "smth:0.8749: 100%|██████████| 12/12 [00:22<00:00,  1.91s/it]\n"
     ]
    },
    {
     "name": "stdout",
     "output_type": "stream",
     "text": [
      "Thu Oct 12 09:08:52 2023  Epoch 39, lr: 0.0001101, train loss: 0.74535, valid loss: 0.87489, metric: 0.874893.\n",
      "Thu Oct 12 09:08:54 2023 Epoch: 40\n"
     ]
    },
    {
     "name": "stderr",
     "output_type": "stream",
     "text": [
      "smth:0.7589: 100%|██████████| 55/55 [02:20<00:00,  2.56s/it]\n",
      "smth:0.7279: 100%|██████████| 12/12 [00:22<00:00,  1.91s/it]\n"
     ]
    },
    {
     "name": "stdout",
     "output_type": "stream",
     "text": [
      "Thu Oct 12 09:11:38 2023  Epoch 40, lr: 0.0001037, train loss: 0.78214, valid loss: 0.72789, metric: 0.727895.\n",
      "Thu Oct 12 09:11:41 2023 Epoch: 41\n"
     ]
    },
    {
     "name": "stderr",
     "output_type": "stream",
     "text": [
      "smth:0.7648: 100%|██████████| 55/55 [02:22<00:00,  2.59s/it]\n",
      "smth:0.7090: 100%|██████████| 12/12 [00:23<00:00,  1.92s/it]\n"
     ]
    },
    {
     "name": "stdout",
     "output_type": "stream",
     "text": [
      "Thu Oct 12 09:14:26 2023  Epoch 41, lr: 0.0000975, train loss: 0.77649, valid loss: 0.70897, metric: 0.708972.\n",
      "Thu Oct 12 09:14:27 2023 Epoch: 42\n"
     ]
    },
    {
     "name": "stderr",
     "output_type": "stream",
     "text": [
      "smth:0.7550: 100%|██████████| 55/55 [02:20<00:00,  2.56s/it]\n",
      "smth:0.6899: 100%|██████████| 12/12 [00:23<00:00,  1.93s/it]\n"
     ]
    },
    {
     "name": "stdout",
     "output_type": "stream",
     "text": [
      "Thu Oct 12 09:17:11 2023  Epoch 42, lr: 0.0000915, train loss: 0.76139, valid loss: 0.68994, metric: 0.689941.\n",
      "Thu Oct 12 09:17:13 2023 Epoch: 43\n"
     ]
    },
    {
     "name": "stderr",
     "output_type": "stream",
     "text": [
      "smth:0.7178: 100%|██████████| 55/55 [02:21<00:00,  2.57s/it]\n",
      "smth:0.7033: 100%|██████████| 12/12 [00:22<00:00,  1.88s/it]\n"
     ]
    },
    {
     "name": "stdout",
     "output_type": "stream",
     "text": [
      "Thu Oct 12 09:19:57 2023  Epoch 43, lr: 0.0000856, train loss: 0.74534, valid loss: 0.70329, metric: 0.703289.\n",
      "Thu Oct 12 09:19:58 2023 Epoch: 44\n"
     ]
    },
    {
     "name": "stderr",
     "output_type": "stream",
     "text": [
      "smth:0.7486: 100%|██████████| 55/55 [02:22<00:00,  2.59s/it]\n",
      "smth:0.7065: 100%|██████████| 12/12 [00:21<00:00,  1.82s/it]\n"
     ]
    },
    {
     "name": "stdout",
     "output_type": "stream",
     "text": [
      "Thu Oct 12 09:22:43 2023  Epoch 44, lr: 0.0000800, train loss: 0.73917, valid loss: 0.70652, metric: 0.706517.\n",
      "Thu Oct 12 09:22:44 2023 Epoch: 45\n"
     ]
    },
    {
     "name": "stderr",
     "output_type": "stream",
     "text": [
      "smth:0.7784: 100%|██████████| 55/55 [02:22<00:00,  2.59s/it]\n",
      "smth:0.7276: 100%|██████████| 12/12 [00:22<00:00,  1.90s/it]\n"
     ]
    },
    {
     "name": "stdout",
     "output_type": "stream",
     "text": [
      "Thu Oct 12 09:25:30 2023  Epoch 45, lr: 0.0000747, train loss: 0.76061, valid loss: 0.72760, metric: 0.727600.\n",
      "Thu Oct 12 09:25:31 2023 Epoch: 46\n"
     ]
    },
    {
     "name": "stderr",
     "output_type": "stream",
     "text": [
      "smth:0.7244: 100%|██████████| 55/55 [02:22<00:00,  2.59s/it]\n",
      "smth:0.7475: 100%|██████████| 12/12 [00:22<00:00,  1.91s/it]\n"
     ]
    },
    {
     "name": "stdout",
     "output_type": "stream",
     "text": [
      "Thu Oct 12 09:28:17 2023  Epoch 46, lr: 0.0000695, train loss: 0.72929, valid loss: 0.74752, metric: 0.747523.\n",
      "Thu Oct 12 09:28:18 2023 Epoch: 47\n"
     ]
    },
    {
     "name": "stderr",
     "output_type": "stream",
     "text": [
      "smth:0.7785: 100%|██████████| 55/55 [02:20<00:00,  2.56s/it]\n",
      "smth:0.8252: 100%|██████████| 12/12 [00:23<00:00,  1.93s/it]\n"
     ]
    },
    {
     "name": "stdout",
     "output_type": "stream",
     "text": [
      "Thu Oct 12 09:31:02 2023  Epoch 47, lr: 0.0000647, train loss: 0.77657, valid loss: 0.82524, metric: 0.825238.\n",
      "Thu Oct 12 09:31:04 2023 Epoch: 48\n"
     ]
    },
    {
     "name": "stderr",
     "output_type": "stream",
     "text": [
      "smth:0.7505: 100%|██████████| 55/55 [02:21<00:00,  2.58s/it]\n",
      "smth:0.7615: 100%|██████████| 12/12 [00:23<00:00,  1.93s/it]\n"
     ]
    },
    {
     "name": "stdout",
     "output_type": "stream",
     "text": [
      "Thu Oct 12 09:33:49 2023  Epoch 48, lr: 0.0000601, train loss: 0.73017, valid loss: 0.76146, metric: 0.761455.\n",
      "Thu Oct 12 09:33:50 2023 Epoch: 49\n"
     ]
    },
    {
     "name": "stderr",
     "output_type": "stream",
     "text": [
      "smth:0.7287: 100%|██████████| 55/55 [02:21<00:00,  2.58s/it]\n",
      "smth:0.9387: 100%|██████████| 12/12 [00:22<00:00,  1.86s/it]\n"
     ]
    },
    {
     "name": "stdout",
     "output_type": "stream",
     "text": [
      "Thu Oct 12 09:36:34 2023  Epoch 49, lr: 0.0000558, train loss: 0.70247, valid loss: 0.93872, metric: 0.938720.\n",
      "Thu Oct 12 09:36:36 2023 Epoch: 50\n"
     ]
    },
    {
     "name": "stderr",
     "output_type": "stream",
     "text": [
      "smth:0.7424: 100%|██████████| 55/55 [02:22<00:00,  2.59s/it]\n",
      "smth:0.8385: 100%|██████████| 12/12 [00:22<00:00,  1.89s/it]\n"
     ]
    },
    {
     "name": "stdout",
     "output_type": "stream",
     "text": [
      "Thu Oct 12 09:39:21 2023  Epoch 50, lr: 0.0000518, train loss: 0.72436, valid loss: 0.83847, metric: 0.838472.\n",
      "Thu Oct 12 09:39:24 2023 Epoch: 51\n"
     ]
    },
    {
     "name": "stderr",
     "output_type": "stream",
     "text": [
      "smth:0.6943: 100%|██████████| 55/55 [02:20<00:00,  2.55s/it]\n",
      "smth:0.8026: 100%|██████████| 12/12 [00:22<00:00,  1.89s/it]\n"
     ]
    },
    {
     "name": "stdout",
     "output_type": "stream",
     "text": [
      "Thu Oct 12 09:42:07 2023  Epoch 51, lr: 0.0000481, train loss: 0.72236, valid loss: 0.80258, metric: 0.802583.\n",
      "Thu Oct 12 09:42:08 2023 Epoch: 52\n"
     ]
    },
    {
     "name": "stderr",
     "output_type": "stream",
     "text": [
      "smth:0.7412: 100%|██████████| 55/55 [02:19<00:00,  2.54s/it]\n",
      "smth:0.8613: 100%|██████████| 12/12 [00:23<00:00,  1.93s/it]\n"
     ]
    },
    {
     "name": "stdout",
     "output_type": "stream",
     "text": [
      "Thu Oct 12 09:44:52 2023  Epoch 52, lr: 0.0000447, train loss: 0.71555, valid loss: 0.86128, metric: 0.861279.\n",
      "Thu Oct 12 09:44:53 2023 Epoch: 53\n"
     ]
    },
    {
     "name": "stderr",
     "output_type": "stream",
     "text": [
      "smth:0.7147: 100%|██████████| 55/55 [02:21<00:00,  2.58s/it]\n",
      "smth:0.7911: 100%|██████████| 12/12 [00:22<00:00,  1.90s/it]\n"
     ]
    },
    {
     "name": "stdout",
     "output_type": "stream",
     "text": [
      "Thu Oct 12 09:47:38 2023  Epoch 53, lr: 0.0000417, train loss: 0.72625, valid loss: 0.79109, metric: 0.791091.\n",
      "Thu Oct 12 09:47:39 2023 Epoch: 54\n"
     ]
    },
    {
     "name": "stderr",
     "output_type": "stream",
     "text": [
      "smth:0.7379: 100%|██████████| 55/55 [02:23<00:00,  2.61s/it]\n",
      "smth:0.7216: 100%|██████████| 12/12 [00:22<00:00,  1.88s/it]\n"
     ]
    },
    {
     "name": "stdout",
     "output_type": "stream",
     "text": [
      "Thu Oct 12 09:50:26 2023  Epoch 54, lr: 0.0000390, train loss: 0.73478, valid loss: 0.72162, metric: 0.721624.\n",
      "Thu Oct 12 09:50:27 2023 Epoch: 55\n"
     ]
    },
    {
     "name": "stderr",
     "output_type": "stream",
     "text": [
      "smth:0.7088: 100%|██████████| 55/55 [02:20<00:00,  2.56s/it]\n",
      "smth:0.7324: 100%|██████████| 12/12 [00:21<00:00,  1.82s/it]\n"
     ]
    },
    {
     "name": "stdout",
     "output_type": "stream",
     "text": [
      "Thu Oct 12 09:53:10 2023  Epoch 55, lr: 0.0000366, train loss: 0.69696, valid loss: 0.73242, metric: 0.732422.\n",
      "Thu Oct 12 09:53:11 2023 Epoch: 56\n"
     ]
    },
    {
     "name": "stderr",
     "output_type": "stream",
     "text": [
      "smth:0.6498: 100%|██████████| 55/55 [02:20<00:00,  2.55s/it]\n",
      "smth:0.7712: 100%|██████████| 12/12 [00:21<00:00,  1.81s/it]\n"
     ]
    },
    {
     "name": "stdout",
     "output_type": "stream",
     "text": [
      "Thu Oct 12 09:55:53 2023  Epoch 56, lr: 0.0000346, train loss: 0.69291, valid loss: 0.77119, metric: 0.771194.\n",
      "Thu Oct 12 09:55:55 2023 Epoch: 57\n"
     ]
    },
    {
     "name": "stderr",
     "output_type": "stream",
     "text": [
      "smth:0.7069: 100%|██████████| 55/55 [02:21<00:00,  2.57s/it]\n",
      "smth:0.8722: 100%|██████████| 12/12 [00:22<00:00,  1.90s/it]\n"
     ]
    },
    {
     "name": "stdout",
     "output_type": "stream",
     "text": [
      "Thu Oct 12 09:58:39 2023  Epoch 57, lr: 0.0000330, train loss: 0.71491, valid loss: 0.87217, metric: 0.872174.\n",
      "Thu Oct 12 09:58:41 2023 Epoch: 58\n"
     ]
    },
    {
     "name": "stderr",
     "output_type": "stream",
     "text": [
      "smth:0.7007: 100%|██████████| 55/55 [02:21<00:00,  2.57s/it]\n",
      "smth:0.7846: 100%|██████████| 12/12 [00:22<00:00,  1.91s/it]\n"
     ]
    },
    {
     "name": "stdout",
     "output_type": "stream",
     "text": [
      "Thu Oct 12 10:01:25 2023  Epoch 58, lr: 0.0000317, train loss: 0.70472, valid loss: 0.78459, metric: 0.784593.\n",
      "Thu Oct 12 10:01:26 2023 Epoch: 59\n"
     ]
    },
    {
     "name": "stderr",
     "output_type": "stream",
     "text": [
      "smth:0.6915: 100%|██████████| 55/55 [02:22<00:00,  2.59s/it]\n",
      "smth:0.9040: 100%|██████████| 12/12 [00:22<00:00,  1.89s/it]\n"
     ]
    },
    {
     "name": "stdout",
     "output_type": "stream",
     "text": [
      "Thu Oct 12 10:04:12 2023  Epoch 59, lr: 0.0000307, train loss: 0.67054, valid loss: 0.90397, metric: 0.903972.\n",
      "Thu Oct 12 10:04:13 2023 Epoch: 60\n"
     ]
    },
    {
     "name": "stderr",
     "output_type": "stream",
     "text": [
      "smth:0.7071: 100%|██████████| 55/55 [02:21<00:00,  2.57s/it]\n",
      "smth:0.7890: 100%|██████████| 12/12 [00:22<00:00,  1.89s/it]\n"
     ]
    },
    {
     "name": "stdout",
     "output_type": "stream",
     "text": [
      "Thu Oct 12 10:06:57 2023  Epoch 60, lr: 0.0000302, train loss: 0.69760, valid loss: 0.78900, metric: 0.789001.\n"
     ]
    }
   ],
   "source": [
    "training_losses=[]\n",
    "validation_losses=[]\n",
    "dataset_train = CLSDataset(train_df, 'train', transform=transforms_train)\n",
    "dataset_valid = CLSDataset(valid_df, 'valid', transform=transforms_valid)\n",
    "loader_train = torch.utils.data.DataLoader(dataset_train, batch_size=batch_size, shuffle=True, num_workers=num_workers, drop_last=True)\n",
    "loader_valid = torch.utils.data.DataLoader(dataset_valid, batch_size=batch_size, shuffle=False, num_workers=num_workers)\n",
    "\n",
    "model = TimmModel(backbone, pretrained=True)\n",
    "model = model.to(device)\n",
    "\n",
    "optimizer = optim.AdamW(model.parameters(), lr=init_lr)\n",
    "scaler = torch.cuda.amp.GradScaler() if use_amp else None\n",
    "\n",
    "metric_best = np.inf\n",
    "loss_min = np.inf\n",
    "\n",
    "scheduler_cosine = torch.optim.lr_scheduler.CosineAnnealingWarmRestarts(optimizer, n_epochs, eta_min=eta_min)\n",
    "\n",
    "print(len(dataset_train), len(dataset_valid))\n",
    "\n",
    "for epoch in range(1, n_epochs+1):\n",
    "    scheduler_cosine.step(epoch-1)\n",
    "\n",
    "    print(time.ctime(), 'Epoch:', epoch)\n",
    "\n",
    "    train_loss = train_func(model, loader_train, optimizer, scaler)\n",
    "    valid_loss = valid_func(model, loader_valid)\n",
    "    metric = valid_loss\n",
    "    training_losses.append(train_loss)\n",
    "    validation_losses.append(valid_loss)\n",
    "    content = time.ctime() + ' ' + f' Epoch {epoch}, lr: {optimizer.param_groups[0][\"lr\"]:.7f}, train loss: {train_loss:.5f}, valid loss: {valid_loss:.5f}, metric: {(metric):.6f}.'\n",
    "    print(content)\n",
    "\n",
    "    if metric < metric_best:\n",
    "        print(f'metric_best ({metric_best:.6f} --> {metric:.6f}). Saving model ...')\n",
    "#             if not DEBUG:\n",
    "        torch.save(model.state_dict(), 'best_model.pth')\n",
    "        metric_best = metric\n",
    "    torch.cuda.empty_cache()\n",
    "    # Save Last\n",
    "    if(epoch%10==0):\n",
    "        torch.save(\n",
    "        {\n",
    "            'epoch': epoch,\n",
    "            'model_state_dict': model.state_dict(),\n",
    "            'optimizer_state_dict': optimizer.state_dict(),\n",
    "            'scaler_state_dict': scaler.state_dict() if scaler else None,\n",
    "            'score_best': metric_best,\n",
    "        },\n",
    "        f'checkpoint_{epoch}.pth'\n",
    "    )\n",
    "    torch.save(\n",
    "        {\n",
    "            'epoch': epoch,\n",
    "            'model_state_dict': model.state_dict(),\n",
    "            'optimizer_state_dict': optimizer.state_dict(),\n",
    "            'scaler_state_dict': scaler.state_dict() if scaler else None,\n",
    "            'score_best': metric_best,\n",
    "        },\n",
    "        'last_epoch.pth'\n",
    "    )\n"
   ]
  },
  {
   "cell_type": "code",
   "execution_count": 27,
   "id": "84e941c0",
   "metadata": {
    "execution": {
     "iopub.execute_input": "2023-10-12T10:07:00.913764Z",
     "iopub.status.busy": "2023-10-12T10:07:00.913315Z",
     "iopub.status.idle": "2023-10-12T10:07:01.215692Z",
     "shell.execute_reply": "2023-10-12T10:07:01.214641Z"
    },
    "papermill": {
     "duration": 0.713852,
     "end_time": "2023-10-12T10:07:01.218089",
     "exception": false,
     "start_time": "2023-10-12T10:07:00.504237",
     "status": "completed"
    },
    "tags": []
   },
   "outputs": [
    {
     "data": {
      "image/png": "[encoded data removed]",
      "text/plain": [
       "<Figure size 2000x200 with 1 Axes>"
      ]
     },
     "metadata": {},
     "output_type": "display_data"
    }
   ],
   "source": [
    "plt.plot(range(n_epochs), training_losses, label='Training Loss')\n",
    "plt.plot(range(n_epochs), validation_losses, label='Validation Loss')\n",
    "\n",
    "# Add in a title and axes labels\n",
    "plt.title('Training and Validation Loss')\n",
    "plt.xlabel('Epochs')\n",
    "plt.ylabel('Loss')\n",
    "\n",
    "# Set the tick locations\n",
    "plt.xticks(range(0, n_epochs, 10))\n",
    "\n",
    "# Display the plot\n",
    "plt.legend(loc='best')\n",
    "plt.show()"
   ]
  },
  {
   "cell_type": "code",
   "execution_count": 28,
   "id": "6082bd09",
   "metadata": {
    "execution": {
     "iopub.execute_input": "2023-10-12T10:07:02.034782Z",
     "iopub.status.busy": "2023-10-12T10:07:02.034394Z",
     "iopub.status.idle": "2023-10-12T10:07:02.039121Z",
     "shell.execute_reply": "2023-10-12T10:07:02.038083Z"
    },
    "papermill": {
     "duration": 0.425156,
     "end_time": "2023-10-12T10:07:02.040922",
     "exception": false,
     "start_time": "2023-10-12T10:07:01.615766",
     "status": "completed"
    },
    "tags": []
   },
   "outputs": [],
   "source": [
    "torch.cuda.empty_cache()"
   ]
  },
  {
   "cell_type": "code",
   "execution_count": null,
   "id": "0cfece28",
   "metadata": {
    "papermill": {
     "duration": 0.462229,
     "end_time": "2023-10-12T10:07:02.876423",
     "exception": false,
     "start_time": "2023-10-12T10:07:02.414194",
     "status": "completed"
    },
    "tags": []
   },
   "outputs": [],
   "source": []
  }
 ],
 "metadata": {
  "kernelspec": {
   "display_name": "Python 3",
   "language": "python",
   "name": "python3"
  },
  "language_info": {
   "codemirror_mode": {
    "name": "ipython",
    "version": 3
   },
   "file_extension": ".py",
   "mimetype": "text/x-python",
   "name": "python",
   "nbconvert_exporter": "python",
   "pygments_lexer": "ipython3",
   "version": "3.10.12"
  },
  "papermill": {
   "default_parameters": {},
   "duration": 10279.536541,
   "end_time": "2023-10-12T10:07:07.131048",
   "environment_variables": {},
   "exception": null,
   "input_path": "__notebook__.ipynb",
   "output_path": "__notebook__.ipynb",
   "parameters": {},
   "start_time": "2023-10-12T07:15:47.594507",
   "version": "2.4.0"
  }
 },
 "nbformat": 4,
 "nbformat_minor": 5
}
