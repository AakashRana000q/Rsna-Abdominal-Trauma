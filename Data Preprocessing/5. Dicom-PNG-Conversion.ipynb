{
 "cells": [
  {
   "cell_type": "code",
   "execution_count": 1,
   "id": "cf99b3b8",
   "metadata": {
    "execution": {
     "iopub.execute_input": "2023-09-29T16:25:30.514267Z",
     "iopub.status.busy": "2023-09-29T16:25:30.513939Z",
     "iopub.status.idle": "2023-09-29T16:25:36.385609Z",
     "shell.execute_reply": "2023-09-29T16:25:36.384750Z"
    },
    "papermill": {
     "duration": 5.877782,
     "end_time": "2023-09-29T16:25:36.387877",
     "exception": false,
     "start_time": "2023-09-29T16:25:30.510095",
     "status": "completed"
    },
    "tags": []
   },
   "outputs": [
    {
     "name": "stderr",
     "output_type": "stream",
     "text": [
      "/opt/conda/lib/python3.10/site-packages/scipy/__init__.py:146: UserWarning: A NumPy version >=1.16.5 and <1.23.0 is required for this version of SciPy (detected version 1.23.5\n",
      "  warnings.warn(f\"A NumPy version >={np_minversion} and <{np_maxversion}\"\n",
      "/opt/conda/lib/python3.10/site-packages/torchvision/datapoints/__init__.py:12: UserWarning: The torchvision.datapoints and torchvision.transforms.v2 namespaces are still Beta. While we do not expect major breaking changes, some APIs may still change according to user feedback. Please submit any feedback you may have in this issue: https://github.com/pytorch/vision/issues/6753, and you can also check out https://github.com/pytorch/vision/issues/7319 to learn more about the APIs that we suspect might involve future changes. You can silence this warning by calling torchvision.disable_beta_transforms_warning().\n",
      "  warnings.warn(_BETA_TRANSFORMS_WARNING)\n",
      "/opt/conda/lib/python3.10/site-packages/torchvision/transforms/v2/__init__.py:54: UserWarning: The torchvision.datapoints and torchvision.transforms.v2 namespaces are still Beta. While we do not expect major breaking changes, some APIs may still change according to user feedback. Please submit any feedback you may have in this issue: https://github.com/pytorch/vision/issues/6753, and you can also check out https://github.com/pytorch/vision/issues/7319 to learn more about the APIs that we suspect might involve future changes. You can silence this warning by calling torchvision.disable_beta_transforms_warning().\n",
      "  warnings.warn(_BETA_TRANSFORMS_WARNING)\n"
     ]
    }
   ],
   "source": [
    "import os\n",
    "import os\n",
    "import cv2\n",
    "import glob\n",
    "import torch\n",
    "import pickle \n",
    "import pydicom\n",
    "import zipfile\n",
    "import numpy as np\n",
    "\n",
    "import pandas as pd\n",
    "import seaborn as sns\n",
    "import torch.nn as nn\n",
    "\n",
    "from tqdm import tqdm\n",
    "from PIL import Image\n",
    "import matplotlib.pyplot as plt\n",
    "import torch.nn.functional as F\n",
    "from torch.utils.data import Dataset, DataLoader, Subset\n",
    "\n",
    "from tqdm import tqdm\n",
    "from joblib import Parallel, delayed\n",
    "from pydicom.pixel_data_handlers.util import apply_voi_lut\n",
    "from torchvision.transforms.v2 import Resize, Compose, RandomHorizontalFlip, ColorJitter, RandomAffine, RandomErasing, ToTensor"
   ]
  },
  {
   "cell_type": "code",
   "execution_count": 2,
   "id": "8dce8790",
   "metadata": {
    "execution": {
     "iopub.execute_input": "2023-09-29T16:25:36.394649Z",
     "iopub.status.busy": "2023-09-29T16:25:36.393686Z",
     "iopub.status.idle": "2023-09-29T16:25:36.423828Z",
     "shell.execute_reply": "2023-09-29T16:25:36.423038Z"
    },
    "papermill": {
     "duration": 0.034952,
     "end_time": "2023-09-29T16:25:36.425511",
     "exception": false,
     "start_time": "2023-09-29T16:25:36.390559",
     "status": "completed"
    },
    "tags": []
   },
   "outputs": [],
   "source": [
    "with open('/kaggle/input/highest-liver/highest_liver_dict.pkl', 'rb') as f:\n",
    "    hdi = pickle.load(f)"
   ]
  },
  {
   "cell_type": "code",
   "execution_count": 3,
   "id": "082f973c",
   "metadata": {
    "execution": {
     "iopub.execute_input": "2023-09-29T16:25:36.431856Z",
     "iopub.status.busy": "2023-09-29T16:25:36.431479Z",
     "iopub.status.idle": "2023-09-29T16:30:17.035766Z",
     "shell.execute_reply": "2023-09-29T16:30:17.034722Z"
    },
    "papermill": {
     "duration": 280.609794,
     "end_time": "2023-09-29T16:30:17.037566",
     "exception": false,
     "start_time": "2023-09-29T16:25:36.427772",
     "status": "completed"
    },
    "tags": []
   },
   "outputs": [
    {
     "name": "stderr",
     "output_type": "stream",
     "text": [
      "100%|██████████| 3147/3147 [04:40<00:00, 11.22it/s]\n"
     ]
    }
   ],
   "source": [
    "conv_range = {}\n",
    "for patient in tqdm(hdi):\n",
    "    liv_det = hdi[patient] \n",
    "    series = int(liv_det.split(\"/\")[-2])\n",
    "    dcm_no = liv_det.split(\"/\")[-1]\n",
    "    dcm_no = int(dcm_no[:-4])\n",
    "    list_dcms = os.listdir(f'/kaggle/input/rsna-2023-abdominal-trauma-detection/train_images/{patient}/{series}')\n",
    "    list_dcms = [int(x[:-4]) for x in list_dcms]\n",
    "    list_dcms.sort(reverse=False)\n",
    "    idx = dcm_no - list_dcms[0]\n",
    "    if (idx+30>=len(list_dcms)):\n",
    "        continue\n",
    "    if(idx-30<0):\n",
    "        continue\n",
    "    conv_list = list_dcms[idx-30:idx+30]\n",
    "    conv_list = [f'/kaggle/input/rsna-2023-abdominal-trauma-detection/train_images/{patient}/{series}/{x}.dcm' for x in conv_list]\n",
    "    conv_range[patient] = conv_list\n",
    "        "
   ]
  },
  {
   "cell_type": "code",
   "execution_count": 4,
   "id": "0fda7fb9",
   "metadata": {
    "execution": {
     "iopub.execute_input": "2023-09-29T16:30:17.156043Z",
     "iopub.status.busy": "2023-09-29T16:30:17.155208Z",
     "iopub.status.idle": "2023-09-29T16:30:17.161743Z",
     "shell.execute_reply": "2023-09-29T16:30:17.160843Z"
    },
    "papermill": {
     "duration": 0.067231,
     "end_time": "2023-09-29T16:30:17.163420",
     "exception": false,
     "start_time": "2023-09-29T16:30:17.096189",
     "status": "completed"
    },
    "tags": []
   },
   "outputs": [
    {
     "data": {
      "text/plain": [
       "60"
      ]
     },
     "execution_count": 4,
     "metadata": {},
     "output_type": "execute_result"
    }
   ],
   "source": [
    "len(conv_range[10004])"
   ]
  },
  {
   "cell_type": "code",
   "execution_count": 5,
   "id": "c03770c5",
   "metadata": {
    "execution": {
     "iopub.execute_input": "2023-09-29T16:30:17.282912Z",
     "iopub.status.busy": "2023-09-29T16:30:17.282211Z",
     "iopub.status.idle": "2023-09-29T16:30:17.324919Z",
     "shell.execute_reply": "2023-09-29T16:30:17.324126Z"
    },
    "papermill": {
     "duration": 0.105725,
     "end_time": "2023-09-29T16:30:17.326769",
     "exception": false,
     "start_time": "2023-09-29T16:30:17.221044",
     "status": "completed"
    },
    "tags": []
   },
   "outputs": [],
   "source": [
    "with open('conv_range.pkl', 'wb') as f:\n",
    "    pickle.dump(conv_range, f)"
   ]
  },
  {
   "cell_type": "code",
   "execution_count": 6,
   "id": "785aa50f",
   "metadata": {
    "execution": {
     "iopub.execute_input": "2023-09-29T16:30:17.444370Z",
     "iopub.status.busy": "2023-09-29T16:30:17.443827Z",
     "iopub.status.idle": "2023-09-29T16:30:17.450179Z",
     "shell.execute_reply": "2023-09-29T16:30:17.449396Z"
    },
    "papermill": {
     "duration": 0.066686,
     "end_time": "2023-09-29T16:30:17.451994",
     "exception": false,
     "start_time": "2023-09-29T16:30:17.385308",
     "status": "completed"
    },
    "tags": []
   },
   "outputs": [],
   "source": [
    "def standardize_pixel_array(dcm: pydicom.dataset.FileDataset) -> np.ndarray:\n",
    "    \"\"\"\n",
    "    Source : https://www.kaggle.com/competitions/rsna-2023-abdominal-trauma-detection/discussion/427217\n",
    "    \"\"\"\n",
    "    # Correct DICOM pixel_array if PixelRepresentation == 1.\n",
    "    pixel_array = dcm.pixel_array\n",
    "    if dcm.PixelRepresentation == 1:\n",
    "        bit_shift = dcm.BitsAllocated - dcm.BitsStored\n",
    "        dtype = pixel_array.dtype \n",
    "        pixel_array = (pixel_array << bit_shift).astype(dtype) >>  bit_shift\n",
    "#         pixel_array = pydicom.pixel_data_handlers.util.apply_modality_lut(new_array, dcm)\n",
    "\n",
    "    intercept = float(dcm.RescaleIntercept)\n",
    "    slope = float(dcm.RescaleSlope)\n",
    "    center = int(dcm.WindowCenter)\n",
    "    width = int(dcm.WindowWidth)\n",
    "    low = center - width / 2\n",
    "    high = center + width / 2    \n",
    "    \n",
    "    pixel_array = (pixel_array * slope) + intercept\n",
    "    pixel_array = np.clip(pixel_array, low, high)\n",
    "\n",
    "    return pixel_array"
   ]
  },
  {
   "cell_type": "markdown",
   "id": "f48e9d37",
   "metadata": {
    "execution": {
     "iopub.execute_input": "2023-09-28T20:55:01.763127Z",
     "iopub.status.busy": "2023-09-28T20:55:01.762729Z",
     "iopub.status.idle": "2023-09-28T20:55:01.768600Z",
     "shell.execute_reply": "2023-09-28T20:55:01.767351Z",
     "shell.execute_reply.started": "2023-09-28T20:55:01.763097Z"
    },
    "papermill": {
     "duration": 0.059224,
     "end_time": "2023-09-29T16:30:17.569554",
     "exception": false,
     "start_time": "2023-09-29T16:30:17.510330",
     "status": "completed"
    },
    "tags": []
   },
   "source": [
    "out_dataset_root = '/kaggle/working/liver_images/'\n",
    "os.makedirs(out_dataset_root, exist_ok=True)"
   ]
  },
  {
   "cell_type": "code",
   "execution_count": 7,
   "id": "10b9cee1",
   "metadata": {
    "execution": {
     "iopub.execute_input": "2023-09-29T16:30:17.687225Z",
     "iopub.status.busy": "2023-09-29T16:30:17.686628Z",
     "iopub.status.idle": "2023-09-29T16:30:17.693717Z",
     "shell.execute_reply": "2023-09-29T16:30:17.692933Z"
    },
    "papermill": {
     "duration": 0.067648,
     "end_time": "2023-09-29T16:30:17.695303",
     "exception": false,
     "start_time": "2023-09-29T16:30:17.627655",
     "status": "completed"
    },
    "tags": []
   },
   "outputs": [],
   "source": [
    "def process(patient, size=512, save_folder=\"\"):\n",
    "#     out_path = os.path.join(out_dataset_root,str(patient))\n",
    "#     os.makedirs(out_path,exist_ok=True)\n",
    "    imgs = {}\n",
    "    for f in (conv_range[patient]):\n",
    "        dicom = pydicom.dcmread(f)\n",
    "\n",
    "        pos_z = dicom[(0x20, 0x32)].value[-1]\n",
    "\n",
    "        img = standardize_pixel_array(dicom)\n",
    "        img = (img - img.min()) / (img.max() - img.min() + 1e-6)\n",
    "\n",
    "        if dicom.PhotometricInterpretation == \"MONOCHROME1\":\n",
    "            img = 1 - img\n",
    "        \n",
    "        imgs[pos_z] = img\n",
    "\n",
    "    for i, k in enumerate(sorted(imgs.keys())):\n",
    "        img = imgs[k]\n",
    "\n",
    "        if size is not None:\n",
    "            img = cv2.resize(img, (size, size))\n",
    "            \n",
    "#         cv2.imwrite(out_path + f\"/{i}.png\", (img * 255).astype(np.uint8))\n",
    "#         cv2.imwrite(save_folder + f\"/{patient}\" + f\"/{i}.png\", (img * 255).astype(np.uint8))\n",
    "        im = cv2.imencode('.png', (img * 255).astype(np.uint8))[1]\n",
    "        save_folder.writestr(f'{patient}/{i}.png', im)"
   ]
  },
  {
   "cell_type": "code",
   "execution_count": 8,
   "id": "9bcaf3b8",
   "metadata": {
    "execution": {
     "iopub.execute_input": "2023-09-29T16:30:17.812223Z",
     "iopub.status.busy": "2023-09-29T16:30:17.811535Z",
     "iopub.status.idle": "2023-09-29T17:34:09.316198Z",
     "shell.execute_reply": "2023-09-29T17:34:09.314257Z"
    },
    "papermill": {
     "duration": 3831.571508,
     "end_time": "2023-09-29T17:34:09.324261",
     "exception": false,
     "start_time": "2023-09-29T16:30:17.752753",
     "status": "completed"
    },
    "tags": []
   },
   "outputs": [
    {
     "name": "stderr",
     "output_type": "stream",
     "text": [
      "100%|██████████| 2717/2717 [1:03:50<00:00,  1.41s/it]\n"
     ]
    }
   ],
   "source": [
    "with zipfile.ZipFile(\"output.zip\", 'w') as save_folder:\n",
    "    for patient in tqdm(conv_range):\n",
    "        process(patient, size=None, save_folder=save_folder)"
   ]
  },
  {
   "cell_type": "code",
   "execution_count": null,
   "id": "e5882fb4",
   "metadata": {
    "papermill": {
     "duration": 0.169916,
     "end_time": "2023-09-29T17:34:09.665930",
     "exception": false,
     "start_time": "2023-09-29T17:34:09.496014",
     "status": "completed"
    },
    "tags": []
   },
   "outputs": [],
   "source": []
  }
 ],
 "metadata": {
  "kernelspec": {
   "display_name": "Python 3",
   "language": "python",
   "name": "python3"
  },
  "language_info": {
   "codemirror_mode": {
    "name": "ipython",
    "version": 3
   },
   "file_extension": ".py",
   "mimetype": "text/x-python",
   "name": "python",
   "nbconvert_exporter": "python",
   "pygments_lexer": "ipython3",
   "version": "3.10.12"
  },
  "papermill": {
   "default_parameters": {},
   "duration": 4125.446373,
   "end_time": "2023-09-29T17:34:12.837903",
   "environment_variables": {},
   "exception": null,
   "input_path": "__notebook__.ipynb",
   "output_path": "__notebook__.ipynb",
   "parameters": {},
   "start_time": "2023-09-29T16:25:27.391530",
   "version": "2.4.0"
  }
 },
 "nbformat": 4,
 "nbformat_minor": 5
}
